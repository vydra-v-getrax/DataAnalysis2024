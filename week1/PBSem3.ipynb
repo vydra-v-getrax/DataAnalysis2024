{
 "cells": [
  {
   "cell_type": "markdown",
   "metadata": {},
   "source": [
    "## Control Structures\n",
    "\n",
    "This handout is about how statements can be executed conditionally, how some\n",
    "statements can escape being executed and how others can be executed any number\n",
    "of times.\n",
    "\n",
    "#### Grouping and indentation\n",
    "\n",
    "To make full use of control structures, we need to understand how Python groups\n",
    "statements together. To understand this, let's look at the `if` control structure. This\n",
    "structure, in it's simplest form, allows for conditional application. There is a test\n",
    "clause and then a block of one or more statements. If the test clause is true, the\n",
    "statements are executed. If it is not true, the statements are not executed. Here's\n",
    "an example:"
   ]
  },
  {
   "cell_type": "code",
   "execution_count": 1,
   "metadata": {},
   "outputs": [
    {
     "name": "stdout",
     "output_type": "stream",
     "text": [
      "that was true\n"
     ]
    }
   ],
   "source": [
    "#a single statement can occur\n",
    "#on the same line\n",
    "if 2 + 2 == 4: print('that was true')"
   ]
  },
  {
   "cell_type": "code",
   "execution_count": 4,
   "metadata": {},
   "outputs": [
    {
     "name": "stdout",
     "output_type": "stream",
     "text": [
      "that was true\n"
     ]
    }
   ],
   "source": [
    "#a single statement can occur\n",
    "#indented on the next line\n",
    "if 2 + 2 == 4:\n",
    "    print('that was true')"
   ]
  },
  {
   "cell_type": "markdown",
   "metadata": {},
   "source": [
    "The test is introduced with the keyword `if` and terminates with a colon. If the\n",
    "statement block is a single statement, it can occur on the same line or the next. If\n",
    "it occurs on the next line, it must be spaced or tabbed (four spaces or a tab).\n",
    "If there is no indentation, an error is produced. The example below demonstrates.\n",
    "Note that we have added a comment to the code to remind us that this file does\n",
    "not work. Comments are indicated with a `#` on the left side of the line and have no\n",
    "effect on the code. If you run this or any other program, comments have no effect."
   ]
  },
  {
   "cell_type": "code",
   "execution_count": 5,
   "metadata": {},
   "outputs": [
    {
     "ename": "IndentationError",
     "evalue": "expected an indented block (<ipython-input-5-95df98541a1f>, line 3)",
     "output_type": "error",
     "traceback": [
      "\u001b[1;36m  File \u001b[1;32m\"<ipython-input-5-95df98541a1f>\"\u001b[1;36m, line \u001b[1;32m3\u001b[0m\n\u001b[1;33m    print('that was true')\u001b[0m\n\u001b[1;37m        ^\u001b[0m\n\u001b[1;31mIndentationError\u001b[0m\u001b[1;31m:\u001b[0m expected an indented block\n"
     ]
    }
   ],
   "source": [
    "#produces an error\n",
    "if 2 + 2 == 4:\n",
    "print('that was true')"
   ]
  },
  {
   "cell_type": "markdown",
   "metadata": {},
   "source": [
    "If there are multiple statements contingent on the test, then they must appear on\n",
    "separate lines and they must be tabbed or spaced in the same amount. Here's a wellformed\n",
    "example:"
   ]
  },
  {
   "cell_type": "code",
   "execution_count": 6,
   "metadata": {},
   "outputs": [
    {
     "name": "stdout",
     "output_type": "stream",
     "text": [
      "that was true\n",
      "...really true\n"
     ]
    }
   ],
   "source": [
    "#multiple statements correctly indented\n",
    "if 2 + 2 == 4:\n",
    "    print('that was true')\n",
    "    print('...really true')"
   ]
  },
  {
   "cell_type": "markdown",
   "metadata": {},
   "source": [
    "Here's an ill-formed example; the second statement has an extra space."
   ]
  },
  {
   "cell_type": "code",
   "execution_count": 7,
   "metadata": {},
   "outputs": [
    {
     "ename": "IndentationError",
     "evalue": "unexpected indent (<ipython-input-7-ccddd92e72ab>, line 4)",
     "output_type": "error",
     "traceback": [
      "\u001b[1;36m  File \u001b[1;32m\"<ipython-input-7-ccddd92e72ab>\"\u001b[1;36m, line \u001b[1;32m4\u001b[0m\n\u001b[1;33m    print('...really true')\u001b[0m\n\u001b[1;37m    ^\u001b[0m\n\u001b[1;31mIndentationError\u001b[0m\u001b[1;31m:\u001b[0m unexpected indent\n"
     ]
    }
   ],
   "source": [
    "#produces an error\n",
    "if 2 + 2 == 4:\n",
    "    print('that was true')\n",
    "      print('...really true')"
   ]
  },
  {
   "cell_type": "markdown",
   "metadata": {},
   "source": [
    "A similar error occurs if the first of the two statements has an extra indentation:"
   ]
  },
  {
   "cell_type": "code",
   "execution_count": 8,
   "metadata": {},
   "outputs": [
    {
     "ename": "IndentationError",
     "evalue": "unindent does not match any outer indentation level (<ipython-input-8-91ec9d0bc812>, line 4)",
     "output_type": "error",
     "traceback": [
      "\u001b[1;36m  File \u001b[1;32m\"<ipython-input-8-91ec9d0bc812>\"\u001b[1;36m, line \u001b[1;32m4\u001b[0m\n\u001b[1;33m    print('...really true')\u001b[0m\n\u001b[1;37m                           ^\u001b[0m\n\u001b[1;31mIndentationError\u001b[0m\u001b[1;31m:\u001b[0m unindent does not match any outer indentation level\n"
     ]
    }
   ],
   "source": [
    "#produces an error\n",
    "if 2 + 2 == 4:\n",
    "      print('that was true')\n",
    "    print('...really true')"
   ]
  },
  {
   "cell_type": "markdown",
   "metadata": {},
   "source": [
    "In principle, you can indent with either spaces or tabs (https://stackoverflow.blog/2017/06/15/developers-use-spaces-make-money-use-tabs/), but be careful and do not mix\n",
    "them! For example, if you indent one line with a tab and then indent the next line\n",
    "with the right number of spaces so that they look aligned, this will typically generate\n",
    "an error. The problem is that Python has no way of knowing how wide you’ve set\n",
    "your tabs to display in your word processor."
   ]
  },
  {
   "cell_type": "markdown",
   "metadata": {},
   "source": [
    "Note that this tabbing has semantic consequences. Compare the following:"
   ]
  },
  {
   "cell_type": "code",
   "execution_count": 9,
   "metadata": {},
   "outputs": [],
   "source": [
    "#block has two statements in it\n",
    "if 2 + 2 == 5:\n",
    "    print(\"that shouldn't happen\")\n",
    "    print('or this....')"
   ]
  },
  {
   "cell_type": "code",
   "execution_count": 11,
   "metadata": {},
   "outputs": [
    {
     "name": "stdout",
     "output_type": "stream",
     "text": [
      "or this....\n"
     ]
    }
   ],
   "source": [
    "#block has one statement in it\n",
    "if 2 + 2 == 5:\n",
    "    print(\"that shouldn't happen\")\n",
    "print('or this....')"
   ]
  },
  {
   "cell_type": "markdown",
   "metadata": {},
   "source": [
    "In both cases, we test `if 2 + 2 == 5`; that evaluates to false. In the first example,\n",
    "the two statements are not executed since they are in the block of contingent\n",
    "statements. In the second case, the second statement is executed. Since it is not\n",
    "indented, it is evaluated as outside of the `if` structure and thus not contingent on\n",
    "the `if` test."
   ]
  },
  {
   "cell_type": "markdown",
   "metadata": {},
   "source": [
    "This semantic effect also shows itself with nested if structures. In the following\n",
    "example, we first test `if 2 + 2 == 4`. If that is true, which of course it is, then we\n",
    "execute the following three statements. We first print `'wow'`. Second, we execute\n",
    "another if structure. This second if structure tests `if 7 * 7 == 48`, which is false. If\n",
    "it were true, we would print `'wow again'`. Finally, the third statement in the\n",
    "initial if structure's block prints `'wow a third time'`."
   ]
  },
  {
   "cell_type": "code",
   "execution_count": 12,
   "metadata": {},
   "outputs": [
    {
     "name": "stdout",
     "output_type": "stream",
     "text": [
      "wow\n",
      "wow a third time\n"
     ]
    }
   ],
   "source": [
    "#nested if with following statement\n",
    "if 2 + 2 == 4:\n",
    "    print('wow')\n",
    "    if 7 * 7 == 48:\n",
    "        print('wow again')\n",
    "    print('wow a third time')"
   ]
  },
  {
   "cell_type": "markdown",
   "metadata": {},
   "source": [
    "In the next example, we've spaced/tabbed in the final statement so that it is part\n",
    "of the nested if structure. It will only execute if both if tests evaluate to true."
   ]
  },
  {
   "cell_type": "code",
   "execution_count": 13,
   "metadata": {},
   "outputs": [
    {
     "name": "stdout",
     "output_type": "stream",
     "text": [
      "wow\n"
     ]
    }
   ],
   "source": [
    "if 2 + 2 == 4:\n",
    "    print('wow')\n",
    "    if 7 * 7 == 48:\n",
    "        print('wow again')\n",
    "        print('wow a third time')"
   ]
  },
  {
   "cell_type": "markdown",
   "metadata": {},
   "source": [
    "Finally, in this third case, the final statement has no indentation. It therefore is\n",
    "executed regardless of the two tests."
   ]
  },
  {
   "cell_type": "code",
   "execution_count": 16,
   "metadata": {},
   "outputs": [
    {
     "name": "stdout",
     "output_type": "stream",
     "text": [
      "wow\n",
      "wow a third time\n"
     ]
    }
   ],
   "source": [
    "if 2 + 2 == 4:\n",
    "    print('wow')\n",
    "    if 7 * 7 == 48:\n",
    "        print('wow again')\n",
    "print('wow a third time')"
   ]
  },
  {
   "cell_type": "markdown",
   "metadata": {},
   "source": [
    "Let’s now look a little more closely at the options for `if`. We’ve already seen that\n",
    "one or more statements can be contingent on some logical test. If the test evaluates\n",
    "to `true`, the block of statements then executes in order. If it is `false`, none of them is\n",
    "executed.\n",
    "\n",
    "A very simple augmentation of the if structure is the `else` clause. This is a block\n",
    "of code that executes if the `if` test evaluates to `false`. The `else` statement follows\n",
    "the first block of code and is at the same level of indentation as the initial `if` clause.\n",
    "For example:"
   ]
  },
  {
   "cell_type": "code",
   "execution_count": 17,
   "metadata": {},
   "outputs": [
    {
     "name": "stdout",
     "output_type": "stream",
     "text": [
      "but this will\n",
      "...and so will this\n"
     ]
    }
   ],
   "source": [
    "#only else block executes\n",
    "if 2 + 2 == 5:\n",
    "    print(\"this won't print\")\n",
    "else:\n",
    "    print('but this will')\n",
    "    print('...and so will this')"
   ]
  },
  {
   "cell_type": "markdown",
   "metadata": {},
   "source": [
    "If the `if` clause evaluates to `true`, the `else` block will not execute:"
   ]
  },
  {
   "cell_type": "code",
   "execution_count": 18,
   "metadata": {},
   "outputs": [
    {
     "name": "stdout",
     "output_type": "stream",
     "text": [
      "this won't print\n"
     ]
    }
   ],
   "source": [
    "#else-block does not execute\n",
    "if 2 + 2 == 4:\n",
    "    print(\"this won't print\")\n",
    "else:\n",
    "    print('but this will')\n",
    "    print('...and so will this')"
   ]
  },
  {
   "cell_type": "markdown",
   "metadata": {},
   "source": [
    "Finally, one can add any number of `elif` clauses to an `if` structure. These add\n",
    "additional contingent tests to the structure. The syntax is like this:\n",
    "```\n",
    "if test1\n",
    "    block1\n",
    "elif test2\n",
    "    block2\n",
    "elif test3\n",
    "    block3\n",
    "...\n",
    "else\n",
    "    blockn\n",
    "```"
   ]
  },
  {
   "cell_type": "markdown",
   "metadata": {},
   "source": [
    "Notice how if `test1` is true, `block1` applies regardless of the truth or falsity of\n",
    "any other test. If `test1` is false and `test2` is true, `block2` applies regardless\n",
    "of whether `test3` is true. Finally, the `else` block only applies if all previous tests\n",
    "are false.\n",
    "\n",
    "A final complication is that it may sometimes be convenient to have an empty block.\n",
    "Imagine you want to test a string for whether the first letter is `'a'`, but then do\n",
    "something in all other cases. One way to do this is to test for that, but then put\n",
    "your code in the else block. The problem with this is that you would then have\n",
    "an empty block following the `if` test. This is not allowed in Python. To deal with\n",
    "this possibility, Python has the pass statement which you can use to fill the block.\n",
    "For example:"
   ]
  },
  {
   "cell_type": "code",
   "execution_count": 19,
   "metadata": {},
   "outputs": [
    {
     "name": "stdout",
     "output_type": "stream",
     "text": [
      "doing something here....\n"
     ]
    }
   ],
   "source": [
    "#set a variable\n",
    "x = 'hat'\n",
    "#if clause with empty block\n",
    "if x[0] == 'a':\n",
    "    pass\n",
    "else:\n",
    "    print('doing something here....')"
   ]
  },
  {
   "cell_type": "markdown",
   "metadata": {},
   "source": [
    "Here the print statement only happens when the first letter of the string is not\n",
    "'a'."
   ]
  },
  {
   "cell_type": "markdown",
   "metadata": {},
   "source": [
    "#### Digression about the `print` command\n",
    "\n",
    "We’ve already seen that it can be given a string as an argument and prints that\n",
    "string:"
   ]
  },
  {
   "cell_type": "code",
   "execution_count": 20,
   "metadata": {},
   "outputs": [
    {
     "name": "stdout",
     "output_type": "stream",
     "text": [
      "here is a string\n"
     ]
    }
   ],
   "source": [
    "print('here is a string')"
   ]
  },
  {
   "cell_type": "markdown",
   "metadata": {},
   "source": [
    "It can also be given any number of strings; they are all printed to the screen:"
   ]
  },
  {
   "cell_type": "code",
   "execution_count": 21,
   "metadata": {},
   "outputs": [
    {
     "name": "stdout",
     "output_type": "stream",
     "text": [
      "one two three\n"
     ]
    }
   ],
   "source": [
    "print('one','two','three')"
   ]
  },
  {
   "cell_type": "markdown",
   "metadata": {},
   "source": [
    "Notice that the strings are separated by spaces. We can specify another separator or,\n",
    "indeed, no separator with the optional `sep` argument. If we include this argument,\n",
    "we specify its value with `=`. For example:"
   ]
  },
  {
   "cell_type": "code",
   "execution_count": 30,
   "metadata": {},
   "outputs": [
    {
     "name": "stdout",
     "output_type": "stream",
     "text": [
      "one-two-three\n",
      "onetwothree\n"
     ]
    }
   ],
   "source": [
    "print('one','two','three',sep = '-')\n",
    "print('one','two','three',sep = '')"
   ]
  },
  {
   "cell_type": "markdown",
   "metadata": {},
   "source": [
    "Finally, notice that the default behavior for `print()` is to print its argument(s)\n",
    "and begin a new line. We can specify different behavior by giving a value to the\n",
    "optional end argument."
   ]
  },
  {
   "cell_type": "code",
   "execution_count": 29,
   "metadata": {},
   "outputs": [
    {
     "name": "stdout",
     "output_type": "stream",
     "text": [
      "one-two!not on the next line\n"
     ]
    }
   ],
   "source": [
    "print('one','two',sep = '-', end = '!')\n",
    "print('not on the next line')"
   ]
  },
  {
   "cell_type": "markdown",
   "metadata": {},
   "source": [
    "#### `for`"
   ]
  },
  {
   "cell_type": "markdown",
   "metadata": {},
   "source": [
    "The `for` control structure allows for multiple application of some fixed block of\n",
    "code. You specify a list or sequence of items and then iterate over the list applying\n",
    "the block once for each item in the list or sequence. The syntax is a `for` clause\n",
    "followed by an indented block of one or more statements. The `for` clause begins\n",
    "with the keyword `for`, then a variable name, then the `in` operator, then a list or\n",
    "sequence of items that can be iterated over, and finally a colon."
   ]
  },
  {
   "cell_type": "code",
   "execution_count": 28,
   "metadata": {},
   "outputs": [
    {
     "name": "stdout",
     "output_type": "stream",
     "text": [
      "1\n",
      "2\n",
      "3\n"
     ]
    }
   ],
   "source": [
    "for i in [1,2,3]:\n",
    "    print(i)"
   ]
  },
  {
   "cell_type": "markdown",
   "metadata": {},
   "source": [
    "Here we assign the variable `i` the values from the list `[1,2,3]` one by one. For\n",
    "each assignment, we apply the block. In this case, the block simply prints the value\n",
    "of `i`. What do we have to change to print the result on one line?"
   ]
  },
  {
   "cell_type": "markdown",
   "metadata": {},
   "source": [
    "Note that nothing requires that we actually use the value `i` in the block. Thus the\n",
    "following works as well:"
   ]
  },
  {
   "cell_type": "code",
   "execution_count": 32,
   "metadata": {},
   "outputs": [
    {
     "name": "stdout",
     "output_type": "stream",
     "text": [
      "wow\n",
      "wow\n",
      "wow\n"
     ]
    }
   ],
   "source": [
    "#value for i not used\n",
    "for i in [1,2,3]:\n",
    "    print('wow')"
   ]
  },
  {
   "cell_type": "markdown",
   "metadata": {},
   "source": [
    "Similarly, nothing prevents us from using the variable more than once per each\n",
    "iteration. For example:"
   ]
  },
  {
   "cell_type": "code",
   "execution_count": 34,
   "metadata": {},
   "outputs": [
    {
     "name": "stdout",
     "output_type": "stream",
     "text": [
      "1 + 2 = 3\n",
      "2 + 2 = 4\n",
      "3 + 2 = 5\n"
     ]
    }
   ],
   "source": [
    "#using the variable twice\n",
    "for i in [1,2,3]:\n",
    "    print('{} + 2 = {}'.format(i,i+2))"
   ]
  },
  {
   "cell_type": "markdown",
   "metadata": {},
   "source": [
    "We can iterate over strings as well. For example:"
   ]
  },
  {
   "cell_type": "code",
   "execution_count": 37,
   "metadata": {},
   "outputs": [
    {
     "name": "stdout",
     "output_type": "stream",
     "text": [
      "t o n e \n"
     ]
    }
   ],
   "source": [
    "#printing letters separated by spaces\n",
    "for i in 'tone':\n",
    "    print(i,end=' ')\n",
    "#add a return at the end\n",
    "print()"
   ]
  },
  {
   "cell_type": "markdown",
   "metadata": {},
   "source": [
    "Here we print each letter separately. We end each print operation with a space\n",
    "rather than a return. Then, after all that printing, we get back to the beginning of\n",
    "the line by printing nothing. Since the default is to end each printed item with a\n",
    "return, printing nothing has the effect of starting a new line.\n",
    "\n",
    "Recall the `range()` function. We can iterate directly\n",
    "over the sequence of numbers it provides. For example, if we want to add up all\n",
    "the numbers from 0 to 4, we can do it like this:"
   ]
  },
  {
   "cell_type": "code",
   "execution_count": 38,
   "metadata": {},
   "outputs": [
    {
     "name": "stdout",
     "output_type": "stream",
     "text": [
      "10\n"
     ]
    }
   ],
   "source": [
    "#set a variable\n",
    "total = 0\n",
    "#iterate and add to total\n",
    "for i in range(5):\n",
    "    total = total + i\n",
    "#print the total\n",
    "print(total)"
   ]
  },
  {
   "cell_type": "markdown",
   "metadata": {},
   "source": [
    "Here we first define a variable `total` and set its value to 0. We then create a\n",
    "sequence from 0 to 4 (the integer value just before the value specified). Then on\n",
    "each iteration we reset the value of `total` to be equal to its current value plus the\n",
    "current value of `i`."
   ]
  },
  {
   "cell_type": "markdown",
   "metadata": {},
   "source": [
    "This is a fairly common programming technique, create a variable that we incrememtally\n",
    "change in some sort of loop. We can do some fairly interesting stuff with\n",
    "this. For example, we might do morphological recursion with this:"
   ]
  },
  {
   "cell_type": "code",
   "execution_count": 40,
   "metadata": {},
   "outputs": [
    {
     "name": "stdout",
     "output_type": "stream",
     "text": [
      "missle\n",
      "anti-missle\n",
      "anti-anti-missle\n",
      "anti-anti-anti-missle\n"
     ]
    }
   ],
   "source": [
    "#initial prefix and word\n",
    "prefix = 'anti'\n",
    "word = 'missle'\n",
    "#print the word\n",
    "print(word)\n",
    "#iterate 3 times\n",
    "for i in range(3):\n",
    "    #add a prefix to the word...\n",
    "    word = prefix + '-' + word\n",
    "    #...and print the new word\n",
    "    print(word)"
   ]
  },
  {
   "cell_type": "markdown",
   "metadata": {},
   "source": [
    "There are a couple of things that distinguish this from the previous example. First,\n",
    "notice that we are doing string concatenation, rather than addition. Second, notice\n",
    "that we are printing the word variable at each iteration, rather than just at the end.\n",
    "This then is an instance of the semantic effects of indentation in a real example. If\n",
    "we had not indented the final `print` statement, this would have simply printed the\n",
    "last line above.\n",
    "\n",
    "As with `if`, we can nest `for` structures. Thus, we can augment our prefixation\n",
    "example above, so that it prefixes multiple words:"
   ]
  },
  {
   "cell_type": "code",
   "execution_count": 42,
   "metadata": {},
   "outputs": [
    {
     "name": "stdout",
     "output_type": "stream",
     "text": [
      "missle\n",
      "anti-missle\n",
      "anti-anti-missle\n",
      "anti-anti-anti-missle\n",
      "racism\n",
      "anti-racism\n",
      "anti-anti-racism\n",
      "anti-anti-anti-racism\n",
      "music\n",
      "anti-music\n",
      "anti-anti-music\n",
      "anti-anti-anti-music\n"
     ]
    }
   ],
   "source": [
    "#define the prefix and 3 words\n",
    "prefix = 'anti'\n",
    "words = ['missle','racism','music']\n",
    "#iterate over each word\n",
    "for word in words:\n",
    "    #print the word\n",
    "    print(word)\n",
    "    #for each word, iterate 3 times\n",
    "    for i in range(3):\n",
    "        #add the prefix to the current word\n",
    "        word = prefix + '-' + word\n",
    "        #print the new word\n",
    "        print(word)"
   ]
  },
  {
   "cell_type": "markdown",
   "metadata": {},
   "source": [
    "The other thing to notice here is that for allows us to do potentially massive calculations\n",
    "with finite means. For example, if we wanted to sum numbers up to 10,000,\n",
    "this would be a trivial change to the code above."
   ]
  },
  {
   "cell_type": "code",
   "execution_count": 43,
   "metadata": {},
   "outputs": [
    {
     "name": "stdout",
     "output_type": "stream",
     "text": [
      "49995000\n"
     ]
    }
   ],
   "source": [
    "#variable to accumulate additions\n",
    "total = 0\n",
    "#iterate a lot\n",
    "for i in range(10000):\n",
    "    #add i to total\n",
    "    total = total + i\n",
    "#print the total\n",
    "print(total)"
   ]
  },
  {
   "cell_type": "markdown",
   "metadata": {},
   "source": [
    "Now that we have two control structures, `if` and `for`, we can combine them.\n",
    "Let’s write some code to count the vowels in a string."
   ]
  },
  {
   "cell_type": "code",
   "execution_count": 45,
   "metadata": {},
   "outputs": [
    {
     "name": "stdout",
     "output_type": "stream",
     "text": [
      "5\n"
     ]
    }
   ],
   "source": [
    "#define vowels\n",
    "vowels = 'aeiou'\n",
    "#variable to accumulate the vowel count\n",
    "vowelCount = 0\n",
    "#define the word\n",
    "word = 'Appalachicola'\n",
    "#go through the word letter by letter\n",
    "for letter in word:\n",
    "    #for each letter check if it’s a vowel\n",
    "    if letter in vowels:\n",
    "        #if it is, add 1 to the total\n",
    "        vowelCount = vowelCount + 1\n",
    "#print the total\n",
    "print(vowelCount)"
   ]
  },
  {
   "cell_type": "markdown",
   "metadata": {},
   "source": [
    "Here we first define vowels. We then set our count of vowels to 0. We define the\n",
    "word we will count vowels in. Next we iterate through each letter in the word\n",
    "assigning the current letter to the variable letter. We then test if that letter is\n",
    "a vowel with the `in` operator. If it is, we augment the value of `vowelCount` by\n",
    "one. If is not a vowel, that test fails, nothing happens and we go on to the next\n",
    "iteration. Finally, we print the value of `vowelCount`.\n",
    "\n",
    "The operation where we augment a variable by some specific amount is frequent\n",
    "enough that there is a special operator for it: `+=`. The following does exactly the\n",
    "same thing as the preceding."
   ]
  },
  {
   "cell_type": "code",
   "execution_count": 3,
   "metadata": {},
   "outputs": [
    {
     "name": "stdout",
     "output_type": "stream",
     "text": [
      "we are at a letter:  A\n",
      "we are at a letter:  p\n",
      "we are at a letter:  p\n",
      "we are at a letter:  a\n",
      "if letter in vowels:  a\n",
      "we are at a letter:  l\n",
      "we are at a letter:  a\n",
      "if letter in vowels:  a\n",
      "we are at a letter:  c\n",
      "we are at a letter:  h\n",
      "we are at a letter:  i\n",
      "if letter in vowels:  i\n",
      "we are at a letter:  c\n",
      "we are at a letter:  o\n",
      "if letter in vowels:  o\n",
      "we are at a letter:  l\n",
      "we are at a letter:  a\n",
      "if letter in vowels:  a\n",
      "5\n"
     ]
    }
   ],
   "source": [
    "#define vowels\n",
    "vowels = 'aeiou'\n",
    "#variable to accumulate the vowel count\n",
    "vowelCount = 0\n",
    "#define the word\n",
    "word = 'Appalachicola'\n",
    "#go through the word letter by letter\n",
    "for letter in word:\n",
    "    print('we are at a letter: ', letter)\n",
    "    #for each letter check if it’s a vowel\n",
    "    if letter in vowels:\n",
    "        print('if letter in vowels: ', letter)\n",
    "        #if it is, add 1 to the total\n",
    "        vowelCount += 1\n",
    "#print the total\n",
    "print(vowelCount)"
   ]
  },
  {
   "cell_type": "markdown",
   "metadata": {},
   "source": [
    "We can also nest a `for` loop inside of an `if` structure. Here we set up virtually the\n",
    "same initial variables. We then test if the first letter of the word is a vowel. Note\n",
    "that since we’ve defined vowels as lowercase letters, we must first convert the first\n",
    "letter to lowercase. If the word does begin with a vowel, we count all the letters.\n",
    "(Of course, we could have simply used the `len()` function!)"
   ]
  },
  {
   "cell_type": "code",
   "execution_count": 47,
   "metadata": {},
   "outputs": [
    {
     "name": "stdout",
     "output_type": "stream",
     "text": [
      "13\n"
     ]
    }
   ],
   "source": [
    "#define vowels\n",
    "vowels = 'aeiou'\n",
    "#set counter to zero\n",
    "letterCount = 0\n",
    "#define the word\n",
    "word = 'Appalachicola'\n",
    "#convert first vowel to lowercase\n",
    "#is it a vowel?\n",
    "if word[0].lower() in vowels:\n",
    "    \n",
    "    #if it is go through letter by letter\n",
    "    for letter in word:\n",
    "        #for each letter, add 1\n",
    "        letterCount += 1\n",
    "#do this if the word is not V-initial\n",
    "else:\n",
    "    print('Not vowel-initial')\n",
    "#print the number of letters\n",
    "print(letterCount)"
   ]
  },
  {
   "cell_type": "markdown",
   "metadata": {},
   "source": [
    "Make sure you understand the semantics of control structures like `if` and `for`\n",
    "and what it means for them to be nested in different ways. Writing programs is mostly\n",
    "about figuring out the logic of the problem you want to solve and then recasting it in terms of nested\n",
    "control structures."
   ]
  },
  {
   "cell_type": "markdown",
   "metadata": {},
   "source": [
    "#### `while`\n",
    "\n",
    "Technically, the `for` control structure isn’t necessary. Anything you can do with\n",
    "`for`, you can do with `while`, perhaps a bit awkwardly. The logic of `while`\n",
    "is that a statement or block of statements is iterated as long as some test holds\n",
    "true.\n",
    "\n",
    "The syntax is parallel to what we have seen already. There is the keyword\n",
    "`while`, followed by the test, an expression that returns a boolean value, followed\n",
    "by a colon. There is then an indented block of one or more statements. If there is\n",
    "only one statement, it can appear on the same line as the `while` test. Here it is\n",
    "schematically:\n",
    "\n",
    "```\n",
    "while x == y:\n",
    "    dosomething(z)\n",
    "    dosomethingelse(w)\n",
    "```\n",
    "\n",
    "Here we have a test for equality between some variables `x` and `y`. We then have a\n",
    "block of two statements. We first check the test. If it is true, we apply the statements\n",
    "in the block. We then go back and check the test again. If it is still true, we apply\n",
    "the statements again. We go through this loop until the test returns `False`.\n",
    "\n",
    "This should seem a bit silly. If the test returns `True` then it should always return\n",
    "`True` and we should loop forever. That’s not typically what we want! The way this\n",
    "structure is typically used is that the truth value of the test is changed during the\n",
    "block of statements so that it eventually becomes false. Here’s a simple example:"
   ]
  },
  {
   "cell_type": "code",
   "execution_count": null,
   "metadata": {},
   "outputs": [],
   "source": [
    "while condition:\n",
    "    print('yes')"
   ]
  },
  {
   "cell_type": "code",
   "execution_count": 48,
   "metadata": {},
   "outputs": [
    {
     "name": "stdout",
     "output_type": "stream",
     "text": [
      "1\n",
      "2\n",
      "3\n"
     ]
    }
   ],
   "source": [
    "#set counter\n",
    "count = 0\n",
    "#check value of counter\n",
    "while count < 3:\n",
    "    #increment counter\n",
    "    #escape clause!\n",
    "    count += 1\n",
    "    print(count)"
   ]
  },
  {
   "cell_type": "markdown",
   "metadata": {},
   "source": [
    "First we define a variable `count` and store the number 0 in it. We then begin our\n",
    "`while` structure by testing whether `count` is less than 3, which of course it is. If\n",
    "we did not alter the value of count in the block of statements, this would iterate\n",
    "forever. What we do though is to increment the value of count at each iteration.\n",
    "It will eventually reach 3, the test will then fail, and the iteration will cease."
   ]
  },
  {
   "cell_type": "markdown",
   "metadata": {},
   "source": [
    "It’s important to keep track of what happens when. Very small changes can change\n",
    "the outcome; for example, imagine we reverse lines 3 and 4 like this:"
   ]
  },
  {
   "cell_type": "code",
   "execution_count": 49,
   "metadata": {},
   "outputs": [
    {
     "name": "stdout",
     "output_type": "stream",
     "text": [
      "0\n",
      "1\n",
      "2\n"
     ]
    }
   ],
   "source": [
    "#declare counter\n",
    "count = 0\n",
    "#check value of counter\n",
    "while count < 3:\n",
    "    #print the value\n",
    "    print(count)\n",
    "    #NOW increment the counter\n",
    "    count += 1"
   ]
  },
  {
   "cell_type": "markdown",
   "metadata": {},
   "source": [
    "It’s also very easy to get this wrong and inadvertantly get an infinite loop. For\n",
    "example:\n",
    "```\n",
    "#error: infinite loop!\n",
    "while count < 3:\n",
    "    count = 0\n",
    "    print(count)\n",
    "    count += 1\n",
    "```\n",
    "Here we’ve moved the initial assignment to `count` into the body of the `for` loop.\n",
    "This means that in every loop, we reset the variable to 0 and then add 1; it will thus always be less than 3.\n",
    "\n",
    "As with the other control structures we have seen, `while` can combine with itself\n",
    "and with other structures. Here is an example of `while` nested within `while`:"
   ]
  },
  {
   "cell_type": "code",
   "execution_count": 51,
   "metadata": {},
   "outputs": [
    {
     "name": "stdout",
     "output_type": "stream",
     "text": [
      "a\n",
      "\t a\n",
      "l\n",
      "\t a\n",
      "\t al\n",
      "p\n",
      "\t a\n",
      "\t al\n",
      "\t alp\n",
      "h\n",
      "\t a\n",
      "\t al\n",
      "\t alp\n",
      "\t alph\n",
      "a\n",
      "\t a\n",
      "\t al\n",
      "\t alp\n",
      "\t alph\n",
      "\t alpha\n",
      "b\n",
      "\t a\n",
      "\t al\n",
      "\t alp\n",
      "\t alph\n",
      "\t alpha\n",
      "\t alphab\n",
      "e\n",
      "\t a\n",
      "\t al\n",
      "\t alp\n",
      "\t alph\n",
      "\t alpha\n",
      "\t alphab\n",
      "\t alphabe\n",
      "t\n",
      "\t a\n",
      "\t al\n",
      "\t alp\n",
      "\t alph\n",
      "\t alpha\n",
      "\t alphab\n",
      "\t alphabe\n",
      "\t alphabet\n"
     ]
    }
   ],
   "source": [
    "#define the word\n",
    "word = 'alphabet'\n",
    "#define the counter\n",
    "count = 0\n",
    "#iterate while the counter is\n",
    "#less than the length of the word\n",
    "while count < len(word):\n",
    "    #print the current letter\n",
    "    print(word[count])\n",
    "    #increment the counter\n",
    "    count += 1\n",
    "    #start a new counter\n",
    "    othercount = 1\n",
    "    #check that the new counter is\n",
    "    #less than the original one\n",
    "    while othercount < count + 1:\n",
    "        #print ever larger prefixes of the word\n",
    "        print('\\t',word[0:othercount])\n",
    "        #increment the other counter\n",
    "        othercount += 1"
   ]
  },
  {
   "cell_type": "markdown",
   "metadata": {},
   "source": [
    "First we assign the string 'alphabet' to the variable word and the integer 0 to\n",
    "the variable count. The outer `while` loop goes through the string letter by letter\n",
    "and prints them out. It increments the count variable on each loop to keep track\n",
    "of the iteration and to determine which letter to print. The inner `while` loop is a\n",
    "little more complex. It prints out prefixes (initial substrings) of the word based on\n",
    "the current letter determined by the outer while loop. Thus, for example, when\n",
    "the current letter is 'h', the inner `while` loops prints out a, al, alp, and alph.\n",
    "Notice how the test for the inner `while` loop refers to the variable count as well\n",
    "as othercount, which change on the outer and inner loops respectively.\n",
    "\n",
    "The `while` structure can, of course, combine with other control structures. For\n",
    "example, here is a case of `if` inside `while`:"
   ]
  },
  {
   "cell_type": "code",
   "execution_count": 52,
   "metadata": {},
   "outputs": [
    {
     "name": "stdout",
     "output_type": "stream",
     "text": [
      "l\n",
      "p\n",
      "h\n",
      "b\n",
      "t\n"
     ]
    }
   ],
   "source": [
    "#set the word\n",
    "word = 'alphabet'\n",
    "#define vowels\n",
    "vowels = 'aeiou'\n",
    "#set the counter\n",
    "count = 0\n",
    "#iterate\n",
    "while count < len(word):\n",
    "    #get the current letter\n",
    "    letter = word[count]\n",
    "    #is it a non-vowel\n",
    "    if letter not in vowels:\n",
    "        #if so, print it\n",
    "        print(letter)\n",
    "    #increment counter\n",
    "    count += 1"
   ]
  },
  {
   "cell_type": "markdown",
   "metadata": {},
   "source": [
    "The `while` structure is very similar to the `for` structure and it’s always possible to\n",
    "translate back and forth. For example, recall the first example of the `for` structure, repeated below:\n",
    "\n",
    "```\n",
    "for i in [1,2,3]:\n",
    "    print(i)\n",
    "```\n",
    "We can translate this into a `while` structure like this:\n",
    "```\n",
    "i = 1\n",
    "while i < 4:\n",
    "    print(i)\n",
    "    i += 1\n",
    "```\n",
    "The upshot is that the choice between these typically depends on the which makes\n",
    "the code more intelligible to you as the programmer.\n",
    "\n",
    "Finally, the `while` structure also allows for a block of `else` statements.\n",
    "These are executed when the `while` test is or becomes false. The general\n",
    "syntax is as follows:\n",
    "```\n",
    "while ...:\n",
    "    statement(s)\n",
    "else:\n",
    "    statement(s)\n",
    "```"
   ]
  },
  {
   "cell_type": "code",
   "execution_count": 53,
   "metadata": {},
   "outputs": [
    {
     "name": "stdout",
     "output_type": "stream",
     "text": [
      "There are 7 vowels in this word\n"
     ]
    }
   ],
   "source": [
    "#define vowels\n",
    "vowels = 'aeiou'\n",
    "#set the word\n",
    "word = 'Winnepesaukee'\n",
    "#create two counters\n",
    "counter = 0\n",
    "vowelcount = 0\n",
    "#go through letter by letter\n",
    "while counter < len(word):\n",
    "    #is current letter a vowel?\n",
    "    if word[counter] in vowels:\n",
    "        vowelcount += 1\n",
    "    #keep track of total number of letters\n",
    "    counter += 1\n",
    "#when counter is too big, do this:\n",
    "else:\n",
    "    print('There are',vowelcount,'vowels in this word')"
   ]
  },
  {
   "cell_type": "markdown",
   "metadata": {},
   "source": [
    "#### `break` and `continue`\n",
    "\n",
    "We can impose finer control on `for` and `while` with the `break` and `continue`\n",
    "statements. The `break` statement exits from the smallest enclosing `for` or `while`\n",
    "loop. The `continue` statement exits from the current iteration of the smallest\n",
    "enclosing `for` or `while` loop and moves to the next iteration. Here’s an example of `break`:"
   ]
  },
  {
   "cell_type": "code",
   "execution_count": 54,
   "metadata": {},
   "outputs": [
    {
     "name": "stdout",
     "output_type": "stream",
     "text": [
      "The word begins with 3 consonant letters\n"
     ]
    }
   ],
   "source": [
    "#define vowels and word\n",
    "vowels = 'aeiou'\n",
    "word = 'sthenic'\n",
    "#set up a counter\n",
    "counter = 0\n",
    "#iterate through the word letter by letter\n",
    "while counter < len(word):\n",
    "    #if the current letter is a vowel,\n",
    "    #exit the loop\n",
    "    if word[counter] in vowels:\n",
    "        break\n",
    "    #don’t forget to update the counter!\n",
    "    counter += 1\n",
    "#print value of counter when break occurred\n",
    "print('The word begins with',counter,'consonant letters')"
   ]
  },
  {
   "cell_type": "markdown",
   "metadata": {},
   "source": [
    "Here we define a specific word and vowel letters. We then check whether each\n",
    "letter is a vowel. If it is, we break/exit from the `while` loop. We then print the\n",
    "value of counter, which is the number of letters iterated through to get to the\n",
    "`break` statement.\n",
    "\n",
    "Note that it’s fairly easy to make errors in getting the right count here. We start\n",
    "with counter set to 0, which allows us to use it to access each letter of the word,\n",
    "remembering that the indices of the word begin with 0.\n",
    "\n",
    "We increment counter after the `if` structure. When the `if` structure test is true,\n",
    "the value of counter is the index of the first vowel letter, the index just past the\n",
    "last consonant letter. Since indices start at 0, this means that the value of counter\n",
    "when we exit is also the total number of consonants in the initial span.\n",
    "\n",
    "The break statement also works with a `for` loop. For example, here is the equivalent\n",
    "to the previous example, replacing `while` with `for`:"
   ]
  },
  {
   "cell_type": "code",
   "execution_count": 55,
   "metadata": {},
   "outputs": [
    {
     "name": "stdout",
     "output_type": "stream",
     "text": [
      "The word begins with 3 consonant letters\n"
     ]
    }
   ],
   "source": [
    "#define vowels and word\n",
    "vowels = 'aeiou'\n",
    "word = 'sthenic'\n",
    "#initialize counter\n",
    "counter = 0\n",
    "#go through all letters\n",
    "for i in range(len(word)):\n",
    "    #is current letter a vowel?\n",
    "    if word[i] in vowels:\n",
    "        #if so, exit the loop\n",
    "        break\n",
    "    #don’t forget to update the counter\n",
    "    counter += 1\n",
    "#print result\n",
    "print('The word begins with',\n",
    "counter,'consonant letters')"
   ]
  },
  {
   "cell_type": "markdown",
   "metadata": {},
   "source": [
    "With the `break` statement available to us to exit the `while` loop, we can use\n",
    "`while` tests that are always true, relying on the `break` statement to exit the loop\n",
    "when we want. For example:"
   ]
  },
  {
   "cell_type": "code",
   "execution_count": 56,
   "metadata": {},
   "outputs": [
    {
     "name": "stdout",
     "output_type": "stream",
     "text": [
      "The word begins with 3 consonant letters\n"
     ]
    }
   ],
   "source": [
    "#define vowels and the word\n",
    "vowels = 'aeiou'\n",
    "word = 'sthenic'\n",
    "#initialize the counter\n",
    "counter = 0\n",
    "#iterate forever\n",
    "while True:\n",
    "    #is current letter a vowel?\n",
    "    if word[counter] in vowels:\n",
    "        #if so, exit\n",
    "        break\n",
    "    #remember to increment counter\n",
    "    counter += 1\n",
    "#print result\n",
    "print('The word begins with',\n",
    "counter,'consonant letters')"
   ]
  },
  {
   "cell_type": "markdown",
   "metadata": {},
   "source": [
    "Note that the `while` test will always be true so the loop will continue forever unless\n",
    "the `if` test becomes true at some point so that `break` can be executed, exiting the\n",
    "`while` loop. Thus it’s important that you be very sure `break` is contingent on a\n",
    "test that will be true at some point if the enclosing loop is always true.\n",
    "\n",
    "Slightly different behavior is obtained with the `continue` statement. As with\n",
    "`break`, it is used inside a `for` or `while` loop. What it does is exit the current\n",
    "iteration and goes on to the next iteration. Schematically, we have something like\n",
    "this:\n",
    "```\n",
    "for ...:\n",
    "    some statements\n",
    "    if ...:\n",
    "        continue\n",
    "    more statements\n",
    "```\n",
    "\n",
    "We have some iterative structure like `for`. We then have zero or more statements.\n",
    "Somewhere in the body we have a `continue` statement, typically in the body\n",
    "of some `if` structure. Following the `if`/`continue`, we have some number of\n",
    "additional statements. What happens is that the `for` licenses some number of\n",
    "iterations. At each iteration, the initial statements apply, then the `if` test occurs.\n",
    "If the `if` test is false, the `continue` statement is not executed and the additional\n",
    "following statements get to apply.\n",
    "\n",
    "If the `if` test is true on some iteration, then the `continue` statement does apply\n",
    "and the statements following `if`/`continue` do not apply on that iteration. We\n",
    "continue with the next iteration, however, unlike with `break` where all iteration\n",
    "ends. Here’s a simple example:"
   ]
  },
  {
   "cell_type": "code",
   "execution_count": 57,
   "metadata": {},
   "outputs": [
    {
     "name": "stdout",
     "output_type": "stream",
     "text": [
      "The word has 5 consonant letters\n"
     ]
    }
   ],
   "source": [
    "#define vowels and the word\n",
    "vowels = 'aeiou'\n",
    "word = 'sthenic'\n",
    "#initialize counter\n",
    "counter = 0\n",
    "#go through each letter\n",
    "for i in range(len(word)):\n",
    "    #is the current letter a vowel?\n",
    "    if word[i] in vowels:\n",
    "        #if so, skip it\n",
    "        continue\n",
    "    #increment counter (only for non-vowels!)\n",
    "    counter += 1\n",
    "#print result\n",
    "print('The word has',\n",
    "counter,'consonant letters')"
   ]
  },
  {
   "cell_type": "markdown",
   "metadata": {},
   "source": [
    "Here we set up some initial variables. We then enter a `for` loop based on the length\n",
    "of the string variable word. At each iteration, we test whether the current letter in\n",
    "the string is a vowel. If it is not a vowel, we increment the `counter` variable. If it\n",
    "is a vowel, we go to the next iteration, not incrementing the `counter` variable. In\n",
    "other words, the `counter` variable is incremented only when the current letter is\n",
    "not a vowel. Once we exit the iteration, we print the value of `counter`.\n",
    "\n",
    "You can also use a `continue` statement inside of a `while` structure. The following\n",
    "relatively inefficient code snippet exemplifies this and has the same result\n",
    "as the preceding one."
   ]
  },
  {
   "cell_type": "code",
   "execution_count": 58,
   "metadata": {},
   "outputs": [
    {
     "name": "stdout",
     "output_type": "stream",
     "text": [
      "The word has 7 consonant letters\n"
     ]
    }
   ],
   "source": [
    "#set up initial variables\n",
    "vowels = 'aeiou'\n",
    "word = 'Mississippi'\n",
    "counter = 0\n",
    "i = 0\n",
    "#go through word letter by letter\n",
    "while i < len(word):\n",
    "    #is the current letter a vowel?\n",
    "    if word[i] in vowels:\n",
    "        #if so, increment letter count\n",
    "        i += 1\n",
    "        #...and exit current loop\n",
    "        continue\n",
    "    #otherwise, increment letter count\n",
    "    i += 1\n",
    "    #increment consonant count\n",
    "    counter += 1\n",
    "#print result\n",
    "print('The word has',\n",
    "counter,'consonant letters')"
   ]
  },
  {
   "cell_type": "markdown",
   "metadata": {},
   "source": [
    "#### Making nonsense items\n",
    "\n",
    "Let’s use the control structures we’ve learned here to build a program that does\n",
    "something useful. A frequent task for psycholinguists is finding items for experiments,\n",
    "either items that directly exemplify some property we want to test or items\n",
    "that fill out an experiment and can be used to distract subjects from the true goal\n",
    "of the experiment.\n",
    "\n",
    "Imagine what we want are CV monosyllables. We could just try to think of all\n",
    "possible monosyllables with a CV shape, but another way to go is to generate these\n",
    "programmatically. If we know what the possible consonants are and what the possible\n",
    "vowels are, we can generate a list of possible CV monosyllables quite simply.\n",
    "Here’s a first pass:"
   ]
  },
  {
   "cell_type": "code",
   "execution_count": 60,
   "metadata": {},
   "outputs": [
    {
     "name": "stdout",
     "output_type": "stream",
     "text": [
      "pa\n",
      "ta\n",
      "ka\n",
      "pi\n",
      "ti\n",
      "ki\n",
      "pu\n",
      "tu\n",
      "ku\n"
     ]
    }
   ],
   "source": [
    "#define vowels and consonants\n",
    "vowels = 'aiu'\n",
    "consonants = 'ptk'\n",
    "#for every vowel\n",
    "for v in vowels:\n",
    "    #choose a consonant\n",
    "    for c in consonants:\n",
    "        #now print them together\n",
    "        print(c,v,sep='')"
   ]
  },
  {
   "cell_type": "markdown",
   "metadata": {},
   "source": [
    "This program defines a set of consonants and a set of vowels and then prints out all\n",
    "possible combinations. As such, it’s a bit silly. In the case at hand, there are only\n",
    "nine possible combinations and we could just as easily listed those out. This approach\n",
    "becomes more reasonable though if the number of consonants and vowels\n",
    "increases:"
   ]
  },
  {
   "cell_type": "code",
   "execution_count": 61,
   "metadata": {},
   "outputs": [
    {
     "name": "stdout",
     "output_type": "stream",
     "text": [
      "pa\n",
      "ta\n",
      "ka\n",
      "ba\n",
      "da\n",
      "ga\n",
      "pe\n",
      "te\n",
      "ke\n",
      "be\n",
      "de\n",
      "ge\n",
      "pi\n",
      "ti\n",
      "ki\n",
      "bi\n",
      "di\n",
      "gi\n",
      "po\n",
      "to\n",
      "ko\n",
      "bo\n",
      "do\n",
      "go\n",
      "pu\n",
      "tu\n",
      "ku\n",
      "bu\n",
      "du\n",
      "gu\n"
     ]
    }
   ],
   "source": [
    "#define vowels and consonants\n",
    "vowels = 'aeiou'\n",
    "consonants = 'ptkbdg'\n",
    "#for every vowel\n",
    "for v in vowels:\n",
    "    #choose a consonant\n",
    "    for c in consonants:\n",
    "        #now print them together\n",
    "        print(c,v,sep='')"
   ]
  },
  {
   "cell_type": "markdown",
   "metadata": {},
   "source": [
    "We might also want CVC syllables among our items. This is easy to do as well:"
   ]
  },
  {
   "cell_type": "code",
   "execution_count": 62,
   "metadata": {},
   "outputs": [
    {
     "name": "stdout",
     "output_type": "stream",
     "text": [
      "pap\n",
      "pat\n",
      "pak\n",
      "pab\n",
      "pad\n",
      "pag\n",
      "tap\n",
      "tat\n",
      "tak\n",
      "tab\n",
      "tad\n",
      "tag\n",
      "kap\n",
      "kat\n",
      "kak\n",
      "kab\n",
      "kad\n",
      "kag\n",
      "bap\n",
      "bat\n",
      "bak\n",
      "bab\n",
      "bad\n",
      "bag\n",
      "dap\n",
      "dat\n",
      "dak\n",
      "dab\n",
      "dad\n",
      "dag\n",
      "gap\n",
      "gat\n",
      "gak\n",
      "gab\n",
      "gad\n",
      "gag\n",
      "pep\n",
      "pet\n",
      "pek\n",
      "peb\n",
      "ped\n",
      "peg\n",
      "tep\n",
      "tet\n",
      "tek\n",
      "teb\n",
      "ted\n",
      "teg\n",
      "kep\n",
      "ket\n",
      "kek\n",
      "keb\n",
      "ked\n",
      "keg\n",
      "bep\n",
      "bet\n",
      "bek\n",
      "beb\n",
      "bed\n",
      "beg\n",
      "dep\n",
      "det\n",
      "dek\n",
      "deb\n",
      "ded\n",
      "deg\n",
      "gep\n",
      "get\n",
      "gek\n",
      "geb\n",
      "ged\n",
      "geg\n",
      "pip\n",
      "pit\n",
      "pik\n",
      "pib\n",
      "pid\n",
      "pig\n",
      "tip\n",
      "tit\n",
      "tik\n",
      "tib\n",
      "tid\n",
      "tig\n",
      "kip\n",
      "kit\n",
      "kik\n",
      "kib\n",
      "kid\n",
      "kig\n",
      "bip\n",
      "bit\n",
      "bik\n",
      "bib\n",
      "bid\n",
      "big\n",
      "dip\n",
      "dit\n",
      "dik\n",
      "dib\n",
      "did\n",
      "dig\n",
      "gip\n",
      "git\n",
      "gik\n",
      "gib\n",
      "gid\n",
      "gig\n",
      "pop\n",
      "pot\n",
      "pok\n",
      "pob\n",
      "pod\n",
      "pog\n",
      "top\n",
      "tot\n",
      "tok\n",
      "tob\n",
      "tod\n",
      "tog\n",
      "kop\n",
      "kot\n",
      "kok\n",
      "kob\n",
      "kod\n",
      "kog\n",
      "bop\n",
      "bot\n",
      "bok\n",
      "bob\n",
      "bod\n",
      "bog\n",
      "dop\n",
      "dot\n",
      "dok\n",
      "dob\n",
      "dod\n",
      "dog\n",
      "gop\n",
      "got\n",
      "gok\n",
      "gob\n",
      "god\n",
      "gog\n",
      "pup\n",
      "put\n",
      "puk\n",
      "pub\n",
      "pud\n",
      "pug\n",
      "tup\n",
      "tut\n",
      "tuk\n",
      "tub\n",
      "tud\n",
      "tug\n",
      "kup\n",
      "kut\n",
      "kuk\n",
      "kub\n",
      "kud\n",
      "kug\n",
      "bup\n",
      "but\n",
      "buk\n",
      "bub\n",
      "bud\n",
      "bug\n",
      "dup\n",
      "dut\n",
      "duk\n",
      "dub\n",
      "dud\n",
      "dug\n",
      "gup\n",
      "gut\n",
      "guk\n",
      "gub\n",
      "gud\n",
      "gug\n"
     ]
    }
   ],
   "source": [
    "#define Vs and Cs\n",
    "vowels = 'aeiou'\n",
    "consonants = 'ptkbdg'\n",
    "#for every vowel:\n",
    "for v in vowels:\n",
    "    #choose a consonant\n",
    "    for o in consonants:\n",
    "        #now choose another consonant\n",
    "        for c in consonants:\n",
    "            #print them together\n",
    "            print(o,v,c,sep='')"
   ]
  },
  {
   "cell_type": "markdown",
   "metadata": {},
   "source": [
    "The same kind of logic can be used to construct sentences. Imagine we want every possible SVO sentence in some (nonsense) language. We have a set of nouns and transitive verbs. We can combine them straightforwardly:"
   ]
  },
  {
   "cell_type": "code",
   "execution_count": 66,
   "metadata": {},
   "outputs": [
    {
     "name": "stdout",
     "output_type": "stream",
     "text": [
      "cat ate cat\n",
      "cat ate flower\n",
      "cat ate monkey\n",
      "cat kissed cat\n",
      "cat kissed flower\n",
      "cat kissed monkey\n",
      "cat watered cat\n",
      "cat watered flower\n",
      "cat watered monkey\n",
      "cat saw cat\n",
      "cat saw flower\n",
      "cat saw monkey\n",
      "flower ate cat\n",
      "flower ate flower\n",
      "flower ate monkey\n",
      "flower kissed cat\n",
      "flower kissed flower\n",
      "flower kissed monkey\n",
      "flower watered cat\n",
      "flower watered flower\n",
      "flower watered monkey\n",
      "flower saw cat\n",
      "flower saw flower\n",
      "flower saw monkey\n",
      "monkey ate cat\n",
      "monkey ate flower\n",
      "monkey ate monkey\n",
      "monkey kissed cat\n",
      "monkey kissed flower\n",
      "monkey kissed monkey\n",
      "monkey watered cat\n",
      "monkey watered flower\n",
      "monkey watered monkey\n",
      "monkey saw cat\n",
      "monkey saw flower\n",
      "monkey saw monkey\n"
     ]
    }
   ],
   "source": [
    "#every possible N and V\n",
    "nouns = 'cat flower monkey'\n",
    "verbs = 'ate kissed watered saw'\n",
    "#every possible SVO combo\n",
    "for s in nouns.split():\n",
    "    for v in verbs.split():\n",
    "        for o in nouns.split():\n",
    "            #print combination\n",
    "            print(s,v,o)"
   ]
  },
  {
   "cell_type": "markdown",
   "metadata": {},
   "source": [
    "As in the word-based example above, this is kind of silly when the sets of elements\n",
    "we are combining are so small, but becomes more useful if we expand those sets.\n",
    "What do we do if some of our verbs are intransitive? There are a number of ways\n",
    "to deal with this; here’s a simple one:"
   ]
  },
  {
   "cell_type": "code",
   "execution_count": 70,
   "metadata": {},
   "outputs": [
    {
     "name": "stdout",
     "output_type": "stream",
     "text": [
      "cat ate cat\n",
      "cat ate flower\n",
      "cat ate monkey\n",
      "cat kissed cat\n",
      "cat kissed flower\n",
      "cat kissed monkey\n",
      "cat saw cat\n",
      "cat saw flower\n",
      "cat saw monkey\n",
      "cat watered cat\n",
      "cat watered flower\n",
      "cat watered monkey\n",
      "cat danced\n",
      "cat swam\n",
      "flower ate cat\n",
      "flower ate flower\n",
      "flower ate monkey\n",
      "flower kissed cat\n",
      "flower kissed flower\n",
      "flower kissed monkey\n",
      "flower saw cat\n",
      "flower saw flower\n",
      "flower saw monkey\n",
      "flower watered cat\n",
      "flower watered flower\n",
      "flower watered monkey\n",
      "flower danced\n",
      "flower swam\n",
      "monkey ate cat\n",
      "monkey ate flower\n",
      "monkey ate monkey\n",
      "monkey kissed cat\n",
      "monkey kissed flower\n",
      "monkey kissed monkey\n",
      "monkey saw cat\n",
      "monkey saw flower\n",
      "monkey saw monkey\n",
      "monkey watered cat\n",
      "monkey watered flower\n",
      "monkey watered monkey\n",
      "monkey danced\n",
      "monkey swam\n"
     ]
    }
   ],
   "source": [
    "#Ns, Vs, & intransitives\n",
    "nouns = 'cat flower monkey'.split()\n",
    "verbs = 'ate kissed saw watered danced swam'.split()\n",
    "ivs = 'danced swam'.split()\n",
    "#for every N and V\n",
    "for s in nouns:\n",
    "    for v in verbs:\n",
    "        #if the V is intransitive\n",
    "        if v in ivs:\n",
    "            print(s,v)\n",
    "        #otherwise it’s transitive\n",
    "        else:\n",
    "            for o in nouns:\n",
    "                print(s,v,o)"
   ]
  },
  {
   "cell_type": "markdown",
   "metadata": {},
   "source": [
    "Finally, imagine the language has a reflexive pronoun *vi* that replaces the object if\n",
    "it is identical to the subject. We can incorporate this like this:"
   ]
  },
  {
   "cell_type": "code",
   "execution_count": 74,
   "metadata": {},
   "outputs": [
    {
     "name": "stdout",
     "output_type": "stream",
     "text": [
      "cat ate themselves\n",
      "cat ate flower\n",
      "cat ate monkey\n",
      "cat kissed themselves\n",
      "cat kissed flower\n",
      "cat kissed monkey\n",
      "cat saw themselves\n",
      "cat saw flower\n",
      "cat saw monkey\n",
      "cat watered themselves\n",
      "cat watered flower\n",
      "cat watered monkey\n",
      "cat danced\n",
      "cat swam\n",
      "flower ate cat\n",
      "flower ate themselves\n",
      "flower ate monkey\n",
      "flower kissed cat\n",
      "flower kissed themselves\n",
      "flower kissed monkey\n",
      "flower saw cat\n",
      "flower saw themselves\n",
      "flower saw monkey\n",
      "flower watered cat\n",
      "flower watered themselves\n",
      "flower watered monkey\n",
      "flower danced\n",
      "flower swam\n",
      "monkey ate cat\n",
      "monkey ate flower\n",
      "monkey ate themselves\n",
      "monkey kissed cat\n",
      "monkey kissed flower\n",
      "monkey kissed themselves\n",
      "monkey saw cat\n",
      "monkey saw flower\n",
      "monkey saw themselves\n",
      "monkey watered cat\n",
      "monkey watered flower\n",
      "monkey watered themselves\n",
      "monkey danced\n",
      "monkey swam\n"
     ]
    }
   ],
   "source": [
    "#Ns, Vs, intransitives\n",
    "nouns = 'cat flower monkey'.split()\n",
    "verbs = 'ate kissed saw watered danced swam'.split()\n",
    "ivs = 'danced swam'.split()\n",
    "#for every S+V combo:\n",
    "for s in nouns:\n",
    "    for v in verbs:\n",
    "        #if the verb is intransitive:\n",
    "        if v in ivs:\n",
    "            print(s,v)\n",
    "        #otherwise (transitives)\n",
    "        else:\n",
    "            for o in nouns:\n",
    "                #if subject and object are identical\n",
    "                if s == o:\n",
    "                    #replace O with reflexive\n",
    "                    o = 'themselves'\n",
    "                print(s,v,o)"
   ]
  },
  {
   "cell_type": "code",
   "execution_count": null,
   "metadata": {},
   "outputs": [],
   "source": []
  }
 ],
 "metadata": {
  "kernelspec": {
   "display_name": "Python 3 (ipykernel)",
   "language": "python",
   "name": "python3"
  },
  "language_info": {
   "codemirror_mode": {
    "name": "ipython",
    "version": 3
   },
   "file_extension": ".py",
   "mimetype": "text/x-python",
   "name": "python",
   "nbconvert_exporter": "python",
   "pygments_lexer": "ipython3",
   "version": "3.7.3"
  }
 },
 "nbformat": 4,
 "nbformat_minor": 2
}
