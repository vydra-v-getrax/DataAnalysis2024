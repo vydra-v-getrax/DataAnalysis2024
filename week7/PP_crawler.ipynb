{
  "cells": [
    {
      "cell_type": "markdown",
      "metadata": {
        "id": "y8awJu29xDHS"
      },
      "source": [
        "# Crawlers\n",
        "\n",
        "**Our plan for today:**\n",
        "\n",
        "1. What is a crawler?\n",
        "2. How can we create a simple crawler?\n",
        "3. How to avoid being blocked?"
      ]
    },
    {
      "cell_type": "markdown",
      "metadata": {
        "id": "9XMD8uPyxDHb"
      },
      "source": [
        "## What is a crawler?\n",
        "\n",
        "A crawler is a program that crowls across the webpages and collects information. Use it well: don't use it to download the data that the webpage creators don't want you to download; avoid getting your ID blocked; don't overload the server."
      ]
    },
    {
      "cell_type": "markdown",
      "metadata": {
        "id": "SdWQNy9_xDHf"
      },
      "source": [
        "## How to create a simple crawler?"
      ]
    },
    {
      "cell_type": "code",
      "execution_count": 1,
      "metadata": {
        "id": "XgH7copvxDHj"
      },
      "outputs": [],
      "source": [
        "import requests\n",
        "from pprint import pprint\n",
        "\n",
        "session = requests.session()"
      ]
    },
    {
      "cell_type": "code",
      "execution_count": 2,
      "metadata": {
        "colab": {
          "base_uri": "https://localhost:8080/",
          "height": 35
        },
        "id": "tZfs8kNTxDHn",
        "outputId": "807dd1a0-ccfb-405b-fba6-08ece386cd4e"
      },
      "outputs": [
        {
          "output_type": "execute_result",
          "data": {
            "text/plain": [
              "'35.201.170.80'"
            ],
            "application/vnd.google.colaboratory.intrinsic+json": {
              "type": "string"
            }
          },
          "metadata": {},
          "execution_count": 2
        }
      ],
      "source": [
        "response = session.get('https://ru.wikipedia.org')\n",
        "response.headers['X-Client-IP']"
      ]
    },
    {
      "cell_type": "code",
      "execution_count": 3,
      "metadata": {
        "colab": {
          "base_uri": "https://localhost:8080/"
        },
        "id": "Uj5Fd34dxDIR",
        "outputId": "4ffeaffe-21d5-4189-ade4-4a1eabda98dc"
      },
      "outputs": [
        {
          "output_type": "stream",
          "name": "stdout",
          "text": [
            "{'accept-ch': 'Sec-CH-UA-Arch,Sec-CH-UA-Bitness,Sec-CH-UA-Full-Version-List,Sec-CH-UA-Model,Sec-CH-UA-Platform-Version',\n",
            " 'accept-ranges': 'bytes',\n",
            " 'age': '79',\n",
            " 'cache-control': 'private, s-maxage=0, max-age=0, must-revalidate',\n",
            " 'content-encoding': 'gzip',\n",
            " 'content-language': 'ru',\n",
            " 'content-length': '27526',\n",
            " 'content-type': 'text/html; charset=UTF-8',\n",
            " 'date': 'Mon, 17 Oct 2022 07:06:22 GMT',\n",
            " 'last-modified': 'Mon, 17 Oct 2022 07:06:04 GMT',\n",
            " 'nel': '{ \"report_to\": \"wm_nel\", \"max_age\": 86400, \"failure_fraction\": 0.05, '\n",
            "        '\"success_fraction\": 0.0}',\n",
            " 'permissions-policy': 'interest-cohort=(),ch-ua-arch=(self '\n",
            "                       '\"intake-analytics.wikimedia.org\"),ch-ua-bitness=(self '\n",
            "                       '\"intake-analytics.wikimedia.org\"),ch-ua-full-version-list=(self '\n",
            "                       '\"intake-analytics.wikimedia.org\"),ch-ua-model=(self '\n",
            "                       '\"intake-analytics.wikimedia.org\"),ch-ua-platform-version=(self '\n",
            "                       '\"intake-analytics.wikimedia.org\")',\n",
            " 'report-to': '{ \"group\": \"wm_nel\", \"max_age\": 86400, \"endpoints\": [{ \"url\": '\n",
            "              '\"https://intake-logging.wikimedia.org/v1/events?stream=w3c.reportingapi.network_error&schema_uri=/w3c/reportingapi/network_error/1.0.0\" '\n",
            "              '}] }',\n",
            " 'server': 'mw2270.codfw.wmnet',\n",
            " 'server-timing': 'cache;desc=\"hit-front\", host;desc=\"cp5009\"',\n",
            " 'strict-transport-security': 'max-age=106384710; includeSubDomains; preload',\n",
            " 'vary': 'Accept-Encoding,Cookie,Authorization',\n",
            " 'x-cache': 'cp5011 hit, cp5009 hit/1',\n",
            " 'x-cache-status': 'hit-front',\n",
            " 'x-client-ip': '35.201.170.80',\n",
            " 'x-content-type-options': 'nosniff'}\n"
          ]
        }
      ],
      "source": [
        "pprint(dict(response.headers))"
      ]
    },
    {
      "cell_type": "markdown",
      "metadata": {
        "id": "Hv631haLxDIU"
      },
      "source": [
        "### Strategies of data collection\n",
        "\n",
        "\n",
        "Basically, crawlers are collecting webpages (their html) in cycles (loops), or cycles (loops) of cycles (loops). Some strategies of data collection:\n",
        "    \n",
        "**By navigation type**\n",
        "\n",
        "1. All the webpages have convenient numbers (\"https://ficbook.net/fanfiction/no_fandom/originals?p=2\"), usually, p=(a number) or page=(a number). Then, you just have to go through relevant numbers.\n",
        "2. Webpages are named somehow. Then, you need to collect the links to the relevant webpages and then go through them to collect the data.\n",
        "\n",
        "**By the speed of updating**\n",
        "\n",
        "1. If the website is updated slowly, you can first collect the links to the webpages and then go through them\n",
        "2. If the website is updated fast, you need to collect the data right after you got the link and then move on to a new web page.\n",
        "\n"
      ]
    },
    {
      "cell_type": "markdown",
      "metadata": {
        "id": "wLsnu-B2xDIW"
      },
      "source": [
        "## Avoiding getting blocked\n",
        "\n",
        "Btw, Wikipedia doesn't block downloads, can be used as a source of linguistic data"
      ]
    },
    {
      "cell_type": "markdown",
      "metadata": {
        "id": "B23zgWmtxDIZ"
      },
      "source": [
        "### A pause between requests"
      ]
    },
    {
      "cell_type": "code",
      "execution_count": 4,
      "metadata": {
        "colab": {
          "base_uri": "https://localhost:8080/"
        },
        "id": "ljwt9p7YxDIc",
        "outputId": "6ab17d48-d6b2-43e6-de00-2a9efbb6a844"
      },
      "outputs": [
        {
          "output_type": "stream",
          "name": "stdout",
          "text": [
            "Mon, 17 Oct 2022 07:06:22 GMT\n",
            "Mon, 17 Oct 2022 07:06:22 GMT\n",
            "Mon, 17 Oct 2022 07:06:22 GMT\n",
            "Mon, 17 Oct 2022 07:06:22 GMT\n",
            "Mon, 17 Oct 2022 07:06:22 GMT\n"
          ]
        }
      ],
      "source": [
        "import time\n",
        "\n",
        "for _ in range(5):\n",
        "    response = session.get('https://ru.wikipedia.org')\n",
        "    print(response.headers['Date'])\n",
        "    time.sleep(3)"
      ]
    },
    {
      "cell_type": "markdown",
      "metadata": {
        "id": "ar_YqBLKxDIf"
      },
      "source": [
        "### To present yourself as a well-respected browser"
      ]
    },
    {
      "cell_type": "code",
      "source": [
        "from fake_useragent import UserAgent\n",
        "ua = UserAgent(verify_ssl=False)\n",
        "\n",
        "headers = {'User-Agent': ua.random}\n",
        "print(headers)\n",
        "response = session.get('https://ru.wikipedia.org', headers=headers)"
      ],
      "metadata": {
        "id": "wjE8lfwk_FbC"
      },
      "execution_count": null,
      "outputs": []
    },
    {
      "cell_type": "markdown",
      "metadata": {
        "id": "c1sJVJYDxDIk"
      },
      "source": [
        "### A pause between requests (random time)"
      ]
    },
    {
      "cell_type": "code",
      "execution_count": 8,
      "metadata": {
        "colab": {
          "base_uri": "https://localhost:8080/"
        },
        "id": "clWYaanExDIn",
        "outputId": "d3235c5a-37d7-4dbb-bf24-249a5d1348fa"
      },
      "outputs": [
        {
          "output_type": "stream",
          "name": "stdout",
          "text": [
            "Mon, 17 Oct 2022 07:10:37 GMT\n",
            "Mon, 17 Oct 2022 07:10:37 GMT\n",
            "Mon, 17 Oct 2022 07:10:37 GMT\n",
            "Mon, 17 Oct 2022 07:10:47 GMT\n",
            "Mon, 17 Oct 2022 07:10:47 GMT\n"
          ]
        }
      ],
      "source": [
        "import random\n",
        "\n",
        "for _ in range(5):\n",
        "    response = session.get('https://ru.wikipedia.org')\n",
        "    print(response.headers['Date'])\n",
        "    time.sleep(random.uniform(1.1, 5.2))"
      ]
    },
    {
      "cell_type": "markdown",
      "metadata": {
        "id": "okWYT_ulxDIu"
      },
      "source": [
        "## An example\n",
        "\n",
        "Let's download some news from the HSE website!\n",
        "\n",
        "1. The webpages have the following structure: \"https://www.hse.ru/news/page2.html\", we can loop through them.\n",
        "2. Let's extract the publication date, the title, a short description, the full text of the publication, tags.\n",
        "3. Put the data we collected into a database."
      ]
    },
    {
      "cell_type": "code",
      "execution_count": 10,
      "metadata": {
        "id": "uh7-foPpxDIy"
      },
      "outputs": [],
      "source": [
        "import sqlite3\n",
        "from html import unescape\n",
        "from bs4 import BeautifulSoup\n",
        "import re"
      ]
    },
    {
      "cell_type": "code",
      "execution_count": 11,
      "metadata": {
        "id": "wzrizRS3xDIz"
      },
      "outputs": [],
      "source": [
        "conn = sqlite3.connect('hse_news.db')\n",
        "cur = conn.cursor()"
      ]
    },
    {
      "cell_type": "code",
      "execution_count": 12,
      "metadata": {
        "id": "V9aVQ-GrxDI3"
      },
      "outputs": [],
      "source": [
        "cur.execute(\"\"\"\n",
        "CREATE TABLE IF NOT EXISTS texts \n",
        "(id int PRIMARY KEY, hse_id text, pub_year int, pub_month int, \n",
        "pub_day int, title text, short_text text, full_text text)\n",
        "\"\"\")\n",
        "\n",
        "cur.execute(\"\"\"\n",
        "CREATE TABLE IF NOT EXISTS tags \n",
        "(id int PRIMARY KEY, tag_name text) \n",
        "\"\"\")\n",
        "\n",
        "cur.execute(\"\"\"\n",
        "CREATE TABLE IF NOT EXISTS text_to_tag \n",
        "(id INTEGER PRIMARY KEY AUTOINCREMENT, id_text int, id_tag int) \n",
        "\"\"\")\n",
        "\n",
        "conn.commit()\n",
        "conn.close()"
      ]
    },
    {
      "cell_type": "markdown",
      "metadata": {
        "id": "mI4USExBxDI5"
      },
      "source": [
        "**Step 1. Finding the webpages**"
      ]
    },
    {
      "cell_type": "code",
      "execution_count": 13,
      "metadata": {
        "id": "m6SlanqNxDI8"
      },
      "outputs": [],
      "source": [
        "page_number = 1\n",
        "url = f'https://www.hse.ru/news/page{page_number}.html'\n",
        "req = session.get(url, headers={'User-Agent': ua.random})\n",
        "page = req.text"
      ]
    },
    {
      "cell_type": "code",
      "execution_count": 14,
      "metadata": {
        "id": "6j1GeFf_xDI_"
      },
      "outputs": [],
      "source": [
        "soup = BeautifulSoup(page, 'html.parser')"
      ]
    },
    {
      "cell_type": "code",
      "execution_count": 15,
      "metadata": {
        "id": "_AfYf9zOxDJB"
      },
      "outputs": [],
      "source": [
        "news = soup.find_all('div', {'class': 'post_first'})"
      ]
    },
    {
      "cell_type": "code",
      "execution_count": 16,
      "metadata": {
        "colab": {
          "base_uri": "https://localhost:8080/",
          "height": 35
        },
        "id": "DDJR38uyxDJC",
        "outputId": "67c43b7f-d9b3-4452-caad-2fe77143c016"
      },
      "outputs": [
        {
          "output_type": "execute_result",
          "data": {
            "text/plain": [
              "'«Помогая друг другу, заботясь о людях вокруг нас, мы сможем вступить в достойное будущее»'"
            ],
            "application/vnd.google.colaboratory.intrinsic+json": {
              "type": "string"
            }
          },
          "metadata": {},
          "execution_count": 16
        }
      ],
      "source": [
        "title = news[0].find('a').text\n",
        "title"
      ]
    },
    {
      "cell_type": "code",
      "execution_count": 17,
      "metadata": {
        "colab": {
          "base_uri": "https://localhost:8080/"
        },
        "id": "pjd41OekxDJD",
        "outputId": "fa4c094e-ff9b-487c-fff1-ddb1d21e44a4"
      },
      "outputs": [
        {
          "output_type": "execute_result",
          "data": {
            "text/plain": [
              "{'href': '/news/community/783801103.html',\n",
              " 'class': ['link', 'link_dark2', 'no-visited']}"
            ]
          },
          "metadata": {},
          "execution_count": 17
        }
      ],
      "source": [
        "attrs = news[0].find('a').attrs\n",
        "attrs"
      ]
    },
    {
      "cell_type": "code",
      "execution_count": 18,
      "metadata": {
        "colab": {
          "base_uri": "https://localhost:8080/",
          "height": 35
        },
        "id": "DuRwmErwxDJH",
        "outputId": "0ba62219-74e5-441b-8eb2-3a009eb5992f"
      },
      "outputs": [
        {
          "output_type": "execute_result",
          "data": {
            "text/plain": [
              "'/news/community/783801103.html'"
            ],
            "application/vnd.google.colaboratory.intrinsic+json": {
              "type": "string"
            }
          },
          "metadata": {},
          "execution_count": 18
        }
      ],
      "source": [
        "href = news[0].find('a').attrs['href']\n",
        "href"
      ]
    },
    {
      "cell_type": "code",
      "execution_count": 19,
      "metadata": {
        "colab": {
          "base_uri": "https://localhost:8080/",
          "height": 52
        },
        "id": "fGvEPzR6xDJJ",
        "outputId": "7cb156bc-9867-4a19-937b-a692f236e87d"
      },
      "outputs": [
        {
          "output_type": "execute_result",
          "data": {
            "text/plain": [
              "'19 октября в Центре культур ВШЭ состоится фестиваль «Письмо в будущее». Его придумали студенты Высшей школы экономики совместно с Центром лидерства и волонтерства Вышки. Главная цель — сплотить университетское сообщество и показать, как можно помогать сегодня, чтобы создавать благополучное завтра.'"
            ],
            "application/vnd.google.colaboratory.intrinsic+json": {
              "type": "string"
            }
          },
          "metadata": {},
          "execution_count": 19
        }
      ],
      "source": [
        "short_text = news[0].find('div', {'class': 'post__text'}).text\n",
        "short_text"
      ]
    },
    {
      "cell_type": "code",
      "execution_count": 20,
      "metadata": {
        "colab": {
          "base_uri": "https://localhost:8080/",
          "height": 35
        },
        "id": "9aMqByTMxDJK",
        "outputId": "7d5010a8-527f-4c66-add4-3426cf4b3a5e"
      },
      "outputs": [
        {
          "output_type": "execute_result",
          "data": {
            "text/plain": [
              "'14'"
            ],
            "application/vnd.google.colaboratory.intrinsic+json": {
              "type": "string"
            }
          },
          "metadata": {},
          "execution_count": 20
        }
      ],
      "source": [
        "pub_day = news[0].find('div', {'class': 'post-meta__day'}).text\n",
        "pub_day"
      ]
    },
    {
      "cell_type": "code",
      "execution_count": 21,
      "metadata": {
        "colab": {
          "base_uri": "https://localhost:8080/",
          "height": 35
        },
        "id": "A5SEkvLNxDJN",
        "outputId": "a88100ff-c1ee-4c3e-b932-912b5fae9d44"
      },
      "outputs": [
        {
          "output_type": "execute_result",
          "data": {
            "text/plain": [
              "'окт'"
            ],
            "application/vnd.google.colaboratory.intrinsic+json": {
              "type": "string"
            }
          },
          "metadata": {},
          "execution_count": 21
        }
      ],
      "source": [
        "pub_month = news[0].find('div', {'class': 'post-meta__month'}).text\n",
        "pub_month"
      ]
    },
    {
      "cell_type": "code",
      "execution_count": 22,
      "metadata": {
        "colab": {
          "base_uri": "https://localhost:8080/",
          "height": 35
        },
        "id": "WLPfJe5wxDJQ",
        "outputId": "9253a1fb-12d0-4f10-ed8c-970049667bc9"
      },
      "outputs": [
        {
          "output_type": "execute_result",
          "data": {
            "text/plain": [
              "'2022'"
            ],
            "application/vnd.google.colaboratory.intrinsic+json": {
              "type": "string"
            }
          },
          "metadata": {},
          "execution_count": 22
        }
      ],
      "source": [
        "pub_year = news[0].find('div', {'class': 'post-meta__year'}).text\n",
        "pub_year"
      ]
    },
    {
      "cell_type": "markdown",
      "metadata": {
        "id": "qcVaKVMexDJT"
      },
      "source": [
        "**Step 2. Learn how to parse the webpage of the news article**"
      ]
    },
    {
      "cell_type": "code",
      "execution_count": 23,
      "metadata": {
        "colab": {
          "base_uri": "https://localhost:8080/",
          "height": 35
        },
        "id": "ZkMHfXo_xDJU",
        "outputId": "ab6f9d66-2c41-4e3f-d0b0-eeedfc2f88e5"
      },
      "outputs": [
        {
          "output_type": "execute_result",
          "data": {
            "text/plain": [
              "'http://www.hse.ru/news/community/783801103.html'"
            ],
            "application/vnd.google.colaboratory.intrinsic+json": {
              "type": "string"
            }
          },
          "metadata": {},
          "execution_count": 23
        }
      ],
      "source": [
        "url_one = 'http://www.hse.ru'+href\n",
        "url_one"
      ]
    },
    {
      "cell_type": "code",
      "execution_count": 24,
      "metadata": {
        "id": "Y05Y0VDmxDJW"
      },
      "outputs": [],
      "source": [
        "req = session.get(url_one, headers={'User-Agent': ua.random})\n",
        "page = req.text\n",
        "\n",
        "soup = BeautifulSoup(page, 'html.parser')"
      ]
    },
    {
      "cell_type": "code",
      "execution_count": 25,
      "metadata": {
        "colab": {
          "base_uri": "https://localhost:8080/",
          "height": 52
        },
        "id": "1qwA01_dxDJY",
        "outputId": "cbf7ba6b-7a8a-4073-bd07-f3b54de66b1c"
      },
      "outputs": [
        {
          "output_type": "execute_result",
          "data": {
            "text/plain": [
              "'«Помогая друг другу, заботясь о людях вокруг нас, мы сможем вступить в достойное будущее»© iStock19 октября в Центре культур ВШЭ состоится фестиваль «Письмо в будущее». Его придумали студенты Высшей ш'"
            ],
            "application/vnd.google.colaboratory.intrinsic+json": {
              "type": "string"
            }
          },
          "metadata": {},
          "execution_count": 25
        }
      ],
      "source": [
        "full_text = soup.find('div', {'class': 'post__content'}).text\n",
        "full_text[:200]"
      ]
    },
    {
      "cell_type": "code",
      "execution_count": 26,
      "metadata": {
        "colab": {
          "base_uri": "https://localhost:8080/",
          "height": 52
        },
        "id": "eqJpt0flxDJZ",
        "outputId": "357e1331-8617-4baf-8afd-46852f79b5ac"
      },
      "outputs": [
        {
          "output_type": "execute_result",
          "data": {
            "text/plain": [
              "'«Помогая друг другу, заботясь о людях вокруг нас, мы сможем вступить в достойное будущее»© iStock19 октября в Центре культур ВШЭ состоится фестиваль «Письмо в будущее». Его придумали студенты Высшей ш'"
            ],
            "application/vnd.google.colaboratory.intrinsic+json": {
              "type": "string"
            }
          },
          "metadata": {},
          "execution_count": 26
        }
      ],
      "source": [
        "full_text = soup.find('div', {'class': 'post__content'}).text\n",
        "full_text[:200]"
      ]
    },
    {
      "cell_type": "code",
      "execution_count": 27,
      "metadata": {
        "colab": {
          "base_uri": "https://localhost:8080/"
        },
        "id": "y1uhDf7cxDJg",
        "outputId": "ad606ca7-0320-4736-b35b-70f1ab1aaba6"
      },
      "outputs": [
        {
          "output_type": "execute_result",
          "data": {
            "text/plain": [
              "['приглашение к участию', 'волонтерство']"
            ]
          },
          "metadata": {},
          "execution_count": 27
        }
      ],
      "source": [
        "meta = soup.find('div', {'class': 'articleMeta'})\n",
        "\n",
        "tags = meta.find_all('a', {'class': 'tag'})\n",
        "tags = [t.text for t in tags]\n",
        "tags"
      ]
    },
    {
      "cell_type": "markdown",
      "metadata": {
        "id": "vhXx-3apxDJk"
      },
      "source": [
        "**Step 3. Reformulating the steps in terms of functions**"
      ]
    },
    {
      "cell_type": "code",
      "execution_count": 28,
      "metadata": {
        "id": "SrC8kruHxDJk"
      },
      "outputs": [],
      "source": [
        "months = {\n",
        "    value: key+1\n",
        "    for key, value in enumerate(\n",
        "        ['янв', 'фев', 'мар', 'апр', 'мая', 'июн', 'июл', 'авг', 'сен', 'окт', 'ноя', 'дек']\n",
        "    )\n",
        "}"
      ]
    },
    {
      "cell_type": "markdown",
      "metadata": {
        "id": "hBBdS4qTxDJm"
      },
      "source": [
        "To parse the information from the webpage with a list of news articles (for one block):"
      ]
    },
    {
      "cell_type": "code",
      "execution_count": 29,
      "metadata": {
        "id": "84NPfJCwxDJn"
      },
      "outputs": [],
      "source": [
        "def parse_first_level_info(one_block):\n",
        "    block = {}\n",
        "    block['title'] = one_block.find('a').text\n",
        "    block['href'] = one_block.find('a').attrs['href']\n",
        "    block['short_text'] = one_block.find('div', {'class': 'post__text'}).text\n",
        "    block['pub_day'] = int(one_block.find('div', {'class': 'post-meta__day'}).text)\n",
        "    block['pub_month'] = months[one_block.find('div', {'class': 'post-meta__month'}).text]\n",
        "    block['pub_year'] = int(one_block.find('div', {'class': 'post-meta__year'}).text)\n",
        "    return block"
      ]
    },
    {
      "cell_type": "markdown",
      "metadata": {
        "id": "PNiQnhpDxDJn"
      },
      "source": [
        "To parse the webpage of a news article:"
      ]
    },
    {
      "cell_type": "code",
      "execution_count": 30,
      "metadata": {
        "id": "yM2O4XCjxDJo"
      },
      "outputs": [],
      "source": [
        "def parse_second_level_info(block):\n",
        "    url_one = 'http://www.hse.ru' + block['href']\n",
        "    req = session.get(url_one, headers={'User-Agent': ua.random})\n",
        "    page = req.text\n",
        "    soup = BeautifulSoup(page, 'html.parser')\n",
        "    block['full_text'] = soup.find('div', {'class': 'post__content'}).text\n",
        "    meta = soup.find('div', {'class': 'articleMeta'})\n",
        "    tags = meta.find_all('a', {'class': 'tag'})\n",
        "    block['tags'] = [t.text for t in tags]     \n",
        "    return block"
      ]
    },
    {
      "cell_type": "code",
      "execution_count": 31,
      "metadata": {
        "id": "IFpUta_ExDJr"
      },
      "outputs": [],
      "source": [
        "regex_hse_id = re.compile('/([0-9]*?).html')"
      ]
    },
    {
      "cell_type": "code",
      "execution_count": 32,
      "metadata": {
        "id": "-pEibRNgxDJt"
      },
      "outputs": [],
      "source": [
        "def get_nth_page(page_number):\n",
        "    url = f'https://www.hse.ru/news/page{page_number}.html'\n",
        "    req = session.get(url, headers={'User-Agent': ua.random})\n",
        "    page = req.text\n",
        "    soup = BeautifulSoup(page, 'html.parser')\n",
        "    news = soup.find_all('div', {'class': 'post'})\n",
        "    blocks = []\n",
        "    for n in news:\n",
        "        try:\n",
        "            blocks.append(parse_first_level_info(n))\n",
        "        except Exception as e:\n",
        "            print(e)\n",
        "    result = []\n",
        "    for b in blocks:\n",
        "        if b['href'].startswith('/'):\n",
        "            idx = regex_hse_id.findall(b['href'])[0]\n",
        "            if idx not in seen_news:\n",
        "                try:\n",
        "                    res = parse_second_level_info(b)\n",
        "                    res['hse_id'] = idx\n",
        "                    result.append(res)\n",
        "                except Exception as e:\n",
        "                    print(e)\n",
        "            else:\n",
        "                print('Seen', b['href'])\n",
        "    return result"
      ]
    },
    {
      "cell_type": "markdown",
      "metadata": {
        "id": "IhqBydxDxDJx"
      },
      "source": [
        "**Step 4. Putting the data into a database**\n",
        "\n",
        "We need to create a dictionary for tags, a set of the articles we have seen (to not duplicate)"
      ]
    },
    {
      "cell_type": "code",
      "execution_count": 33,
      "metadata": {
        "id": "Py8mqn_PxDJx"
      },
      "outputs": [],
      "source": [
        "def write_to_db(block):\n",
        "    tags = []\n",
        "    for tag in block['tags']:\n",
        "        if tag in db_tags:\n",
        "            tags.append(db_tags[tag])\n",
        "        else:\n",
        "            db_tags[tag] = len(db_tags) + 1 \n",
        "            cur.execute('INSERT INTO tags VALUES (?, ?)', (len(db_tags), tag))\n",
        "            conn.commit()\n",
        "            tags.append(db_tags[tag])\n",
        "    text_id = len(seen_news) + 1\n",
        "    cur.execute(\n",
        "        'INSERT INTO texts VALUES (?, ?, ?, ?, ?, ?, ?, ?)',\n",
        "        (text_id, block['hse_id'],\n",
        "         block['pub_year'], block['pub_month'], block['pub_day'],\n",
        "         block['title'], block['short_text'], block['full_text'])\n",
        "    )\n",
        "    tags = [(text_id, t) for t in tags]\n",
        "    cur.executemany(\n",
        "        'INSERT INTO text_to_tag (id_text, id_tag) VALUES (?, ?)',\n",
        "        tags\n",
        "    )\n",
        "    conn.commit()\n",
        "    seen_news.add(block['hse_id'])"
      ]
    },
    {
      "cell_type": "code",
      "execution_count": 34,
      "metadata": {
        "id": "I5iVQjlNxDJz"
      },
      "outputs": [],
      "source": [
        "conn = sqlite3.connect('hse_news.db')\n",
        "cur = conn.cursor()\n",
        "cur.execute('SELECT tag_name, id FROM tags')\n",
        "\n",
        "db_tags = {}\n",
        "for name, idx in cur.fetchall():\n",
        "    db_tags[name] = idx\n",
        "\n",
        "cur.execute('SELECT hse_id FROM texts')\n",
        "seen_news = set(i[0] for i in cur.fetchall())"
      ]
    },
    {
      "cell_type": "code",
      "execution_count": 35,
      "metadata": {
        "id": "42_YfHfbxDJ1"
      },
      "outputs": [],
      "source": [
        "from tqdm.auto import tqdm"
      ]
    },
    {
      "cell_type": "code",
      "execution_count": 36,
      "metadata": {
        "id": "N_4oq8-3xDJ4"
      },
      "outputs": [],
      "source": [
        "def run_all(n_pages):\n",
        "    for i in tqdm(range(n_pages)):\n",
        "        blocks = get_nth_page(i+1)\n",
        "        for block in blocks:\n",
        "            write_to_db(block)"
      ]
    },
    {
      "cell_type": "code",
      "execution_count": 37,
      "metadata": {
        "colab": {
          "base_uri": "https://localhost:8080/",
          "height": 118,
          "referenced_widgets": [
            "a54bb3e0b7c54693bfe1d74b93d95a0b",
            "d6888930580e4011b6d88fe895761834",
            "4360457fa25e4008897a198fe91372ea",
            "4702338450d94005855ccec7a8df883c",
            "a63511874cc7409e84cac32e5d2a615f",
            "9f309076a5994b85b0164339bfc0ac0d",
            "49c1d64aacbf4e1987ef9cb05107f518",
            "7e218d01d1614b4589ca08036cfc5172",
            "c0d16083d6814627811035661bf20098",
            "0b72cf39f4b54661a4bdc1a7a105a7a9",
            "a2a5c85cc06a49698694498b2b6222b6"
          ]
        },
        "id": "-C05Rm8dxDJ7",
        "outputId": "4ffaa1eb-2333-45de-efb0-a8ab72e13061"
      },
      "outputs": [
        {
          "output_type": "display_data",
          "data": {
            "text/plain": [
              "  0%|          | 0/100 [00:00<?, ?it/s]"
            ],
            "application/vnd.jupyter.widget-view+json": {
              "version_major": 2,
              "version_minor": 0,
              "model_id": "a54bb3e0b7c54693bfe1d74b93d95a0b"
            }
          },
          "metadata": {}
        },
        {
          "output_type": "stream",
          "name": "stdout",
          "text": [
            "('Connection aborted.', RemoteDisconnected('Remote end closed connection without response'))\n",
            "('Connection aborted.', RemoteDisconnected('Remote end closed connection without response'))\n",
            "('Connection aborted.', RemoteDisconnected('Remote end closed connection without response'))\n",
            "('Connection aborted.', RemoteDisconnected('Remote end closed connection without response'))\n"
          ]
        }
      ],
      "source": [
        "run_all(100)"
      ]
    },
    {
      "cell_type": "code",
      "execution_count": 38,
      "metadata": {
        "colab": {
          "base_uri": "https://localhost:8080/"
        },
        "id": "Yr4ZxOPfxDJ_",
        "outputId": "44e1161c-7088-462c-e8cb-e45726637fb6"
      },
      "outputs": [
        {
          "output_type": "execute_result",
          "data": {
            "text/plain": [
              "[(249, 'репортаж о событии'),\n",
              " (180, 'исследования и аналитика'),\n",
              " (167, 'студенты'),\n",
              " (159, 'идеи и опыт'),\n",
              " (158, 'приглашение к участию'),\n",
              " (118, 'достижения'),\n",
              " (110, 'новое в ВШЭ'),\n",
              " (99, 'дискуссии'),\n",
              " (97, 'магистратура'),\n",
              " (89, 'публикации')]"
            ]
          },
          "metadata": {},
          "execution_count": 38
        }
      ],
      "source": [
        "cur.execute(\"\"\"\n",
        "SELECT count(text_to_tag.id) as cnt, tags.tag_name \n",
        "    FROM text_to_tag \n",
        "        JOIN tags ON tags.id = text_to_tag.id_tag \n",
        "            GROUP BY text_to_tag.id_tag \n",
        "            ORDER BY cnt DESC\n",
        "            LIMIT 10;\n",
        "\"\"\")\n",
        "cur.fetchall()"
      ]
    },
    {
      "cell_type": "code",
      "execution_count": 39,
      "metadata": {
        "colab": {
          "base_uri": "https://localhost:8080/"
        },
        "id": "-S3WbxbjxDKB",
        "outputId": "ba22708d-ddbe-428a-d666-0ba37b74b92d"
      },
      "outputs": [
        {
          "output_type": "execute_result",
          "data": {
            "text/plain": [
              "[(109, 10),\n",
              " (88, 9),\n",
              " (80, 12),\n",
              " (67, 11),\n",
              " (66, 4),\n",
              " (66, 6),\n",
              " (62, 7),\n",
              " (60, 2),\n",
              " (52, 5),\n",
              " (50, 3),\n",
              " (44, 8),\n",
              " (26, 1)]"
            ]
          },
          "metadata": {},
          "execution_count": 39
        }
      ],
      "source": [
        "cur.execute(\"\"\"\n",
        "SELECT count(pub_month) as cnt, pub_month\n",
        "    FROM texts\n",
        "        GROUP BY pub_month\n",
        "        ORDER BY cnt DESC;\n",
        "\"\"\")\n",
        "cur.fetchall()"
      ]
    }
  ],
  "metadata": {
    "kernelspec": {
      "display_name": "Python 3",
      "language": "python",
      "name": "python3"
    },
    "language_info": {
      "codemirror_mode": {
        "name": "ipython",
        "version": 3
      },
      "file_extension": ".py",
      "mimetype": "text/x-python",
      "name": "python",
      "nbconvert_exporter": "python",
      "pygments_lexer": "ipython3",
      "version": "3.6.5"
    },
    "colab": {
      "provenance": []
    },
    "widgets": {
      "application/vnd.jupyter.widget-state+json": {
        "a54bb3e0b7c54693bfe1d74b93d95a0b": {
          "model_module": "@jupyter-widgets/controls",
          "model_name": "HBoxModel",
          "model_module_version": "1.5.0",
          "state": {
            "_dom_classes": [],
            "_model_module": "@jupyter-widgets/controls",
            "_model_module_version": "1.5.0",
            "_model_name": "HBoxModel",
            "_view_count": null,
            "_view_module": "@jupyter-widgets/controls",
            "_view_module_version": "1.5.0",
            "_view_name": "HBoxView",
            "box_style": "",
            "children": [
              "IPY_MODEL_d6888930580e4011b6d88fe895761834",
              "IPY_MODEL_4360457fa25e4008897a198fe91372ea",
              "IPY_MODEL_4702338450d94005855ccec7a8df883c"
            ],
            "layout": "IPY_MODEL_a63511874cc7409e84cac32e5d2a615f"
          }
        },
        "d6888930580e4011b6d88fe895761834": {
          "model_module": "@jupyter-widgets/controls",
          "model_name": "HTMLModel",
          "model_module_version": "1.5.0",
          "state": {
            "_dom_classes": [],
            "_model_module": "@jupyter-widgets/controls",
            "_model_module_version": "1.5.0",
            "_model_name": "HTMLModel",
            "_view_count": null,
            "_view_module": "@jupyter-widgets/controls",
            "_view_module_version": "1.5.0",
            "_view_name": "HTMLView",
            "description": "",
            "description_tooltip": null,
            "layout": "IPY_MODEL_9f309076a5994b85b0164339bfc0ac0d",
            "placeholder": "​",
            "style": "IPY_MODEL_49c1d64aacbf4e1987ef9cb05107f518",
            "value": "100%"
          }
        },
        "4360457fa25e4008897a198fe91372ea": {
          "model_module": "@jupyter-widgets/controls",
          "model_name": "FloatProgressModel",
          "model_module_version": "1.5.0",
          "state": {
            "_dom_classes": [],
            "_model_module": "@jupyter-widgets/controls",
            "_model_module_version": "1.5.0",
            "_model_name": "FloatProgressModel",
            "_view_count": null,
            "_view_module": "@jupyter-widgets/controls",
            "_view_module_version": "1.5.0",
            "_view_name": "ProgressView",
            "bar_style": "success",
            "description": "",
            "description_tooltip": null,
            "layout": "IPY_MODEL_7e218d01d1614b4589ca08036cfc5172",
            "max": 100,
            "min": 0,
            "orientation": "horizontal",
            "style": "IPY_MODEL_c0d16083d6814627811035661bf20098",
            "value": 100
          }
        },
        "4702338450d94005855ccec7a8df883c": {
          "model_module": "@jupyter-widgets/controls",
          "model_name": "HTMLModel",
          "model_module_version": "1.5.0",
          "state": {
            "_dom_classes": [],
            "_model_module": "@jupyter-widgets/controls",
            "_model_module_version": "1.5.0",
            "_model_name": "HTMLModel",
            "_view_count": null,
            "_view_module": "@jupyter-widgets/controls",
            "_view_module_version": "1.5.0",
            "_view_name": "HTMLView",
            "description": "",
            "description_tooltip": null,
            "layout": "IPY_MODEL_0b72cf39f4b54661a4bdc1a7a105a7a9",
            "placeholder": "​",
            "style": "IPY_MODEL_a2a5c85cc06a49698694498b2b6222b6",
            "value": " 100/100 [35:50&lt;00:00, 19.99s/it]"
          }
        },
        "a63511874cc7409e84cac32e5d2a615f": {
          "model_module": "@jupyter-widgets/base",
          "model_name": "LayoutModel",
          "model_module_version": "1.2.0",
          "state": {
            "_model_module": "@jupyter-widgets/base",
            "_model_module_version": "1.2.0",
            "_model_name": "LayoutModel",
            "_view_count": null,
            "_view_module": "@jupyter-widgets/base",
            "_view_module_version": "1.2.0",
            "_view_name": "LayoutView",
            "align_content": null,
            "align_items": null,
            "align_self": null,
            "border": null,
            "bottom": null,
            "display": null,
            "flex": null,
            "flex_flow": null,
            "grid_area": null,
            "grid_auto_columns": null,
            "grid_auto_flow": null,
            "grid_auto_rows": null,
            "grid_column": null,
            "grid_gap": null,
            "grid_row": null,
            "grid_template_areas": null,
            "grid_template_columns": null,
            "grid_template_rows": null,
            "height": null,
            "justify_content": null,
            "justify_items": null,
            "left": null,
            "margin": null,
            "max_height": null,
            "max_width": null,
            "min_height": null,
            "min_width": null,
            "object_fit": null,
            "object_position": null,
            "order": null,
            "overflow": null,
            "overflow_x": null,
            "overflow_y": null,
            "padding": null,
            "right": null,
            "top": null,
            "visibility": null,
            "width": null
          }
        },
        "9f309076a5994b85b0164339bfc0ac0d": {
          "model_module": "@jupyter-widgets/base",
          "model_name": "LayoutModel",
          "model_module_version": "1.2.0",
          "state": {
            "_model_module": "@jupyter-widgets/base",
            "_model_module_version": "1.2.0",
            "_model_name": "LayoutModel",
            "_view_count": null,
            "_view_module": "@jupyter-widgets/base",
            "_view_module_version": "1.2.0",
            "_view_name": "LayoutView",
            "align_content": null,
            "align_items": null,
            "align_self": null,
            "border": null,
            "bottom": null,
            "display": null,
            "flex": null,
            "flex_flow": null,
            "grid_area": null,
            "grid_auto_columns": null,
            "grid_auto_flow": null,
            "grid_auto_rows": null,
            "grid_column": null,
            "grid_gap": null,
            "grid_row": null,
            "grid_template_areas": null,
            "grid_template_columns": null,
            "grid_template_rows": null,
            "height": null,
            "justify_content": null,
            "justify_items": null,
            "left": null,
            "margin": null,
            "max_height": null,
            "max_width": null,
            "min_height": null,
            "min_width": null,
            "object_fit": null,
            "object_position": null,
            "order": null,
            "overflow": null,
            "overflow_x": null,
            "overflow_y": null,
            "padding": null,
            "right": null,
            "top": null,
            "visibility": null,
            "width": null
          }
        },
        "49c1d64aacbf4e1987ef9cb05107f518": {
          "model_module": "@jupyter-widgets/controls",
          "model_name": "DescriptionStyleModel",
          "model_module_version": "1.5.0",
          "state": {
            "_model_module": "@jupyter-widgets/controls",
            "_model_module_version": "1.5.0",
            "_model_name": "DescriptionStyleModel",
            "_view_count": null,
            "_view_module": "@jupyter-widgets/base",
            "_view_module_version": "1.2.0",
            "_view_name": "StyleView",
            "description_width": ""
          }
        },
        "7e218d01d1614b4589ca08036cfc5172": {
          "model_module": "@jupyter-widgets/base",
          "model_name": "LayoutModel",
          "model_module_version": "1.2.0",
          "state": {
            "_model_module": "@jupyter-widgets/base",
            "_model_module_version": "1.2.0",
            "_model_name": "LayoutModel",
            "_view_count": null,
            "_view_module": "@jupyter-widgets/base",
            "_view_module_version": "1.2.0",
            "_view_name": "LayoutView",
            "align_content": null,
            "align_items": null,
            "align_self": null,
            "border": null,
            "bottom": null,
            "display": null,
            "flex": null,
            "flex_flow": null,
            "grid_area": null,
            "grid_auto_columns": null,
            "grid_auto_flow": null,
            "grid_auto_rows": null,
            "grid_column": null,
            "grid_gap": null,
            "grid_row": null,
            "grid_template_areas": null,
            "grid_template_columns": null,
            "grid_template_rows": null,
            "height": null,
            "justify_content": null,
            "justify_items": null,
            "left": null,
            "margin": null,
            "max_height": null,
            "max_width": null,
            "min_height": null,
            "min_width": null,
            "object_fit": null,
            "object_position": null,
            "order": null,
            "overflow": null,
            "overflow_x": null,
            "overflow_y": null,
            "padding": null,
            "right": null,
            "top": null,
            "visibility": null,
            "width": null
          }
        },
        "c0d16083d6814627811035661bf20098": {
          "model_module": "@jupyter-widgets/controls",
          "model_name": "ProgressStyleModel",
          "model_module_version": "1.5.0",
          "state": {
            "_model_module": "@jupyter-widgets/controls",
            "_model_module_version": "1.5.0",
            "_model_name": "ProgressStyleModel",
            "_view_count": null,
            "_view_module": "@jupyter-widgets/base",
            "_view_module_version": "1.2.0",
            "_view_name": "StyleView",
            "bar_color": null,
            "description_width": ""
          }
        },
        "0b72cf39f4b54661a4bdc1a7a105a7a9": {
          "model_module": "@jupyter-widgets/base",
          "model_name": "LayoutModel",
          "model_module_version": "1.2.0",
          "state": {
            "_model_module": "@jupyter-widgets/base",
            "_model_module_version": "1.2.0",
            "_model_name": "LayoutModel",
            "_view_count": null,
            "_view_module": "@jupyter-widgets/base",
            "_view_module_version": "1.2.0",
            "_view_name": "LayoutView",
            "align_content": null,
            "align_items": null,
            "align_self": null,
            "border": null,
            "bottom": null,
            "display": null,
            "flex": null,
            "flex_flow": null,
            "grid_area": null,
            "grid_auto_columns": null,
            "grid_auto_flow": null,
            "grid_auto_rows": null,
            "grid_column": null,
            "grid_gap": null,
            "grid_row": null,
            "grid_template_areas": null,
            "grid_template_columns": null,
            "grid_template_rows": null,
            "height": null,
            "justify_content": null,
            "justify_items": null,
            "left": null,
            "margin": null,
            "max_height": null,
            "max_width": null,
            "min_height": null,
            "min_width": null,
            "object_fit": null,
            "object_position": null,
            "order": null,
            "overflow": null,
            "overflow_x": null,
            "overflow_y": null,
            "padding": null,
            "right": null,
            "top": null,
            "visibility": null,
            "width": null
          }
        },
        "a2a5c85cc06a49698694498b2b6222b6": {
          "model_module": "@jupyter-widgets/controls",
          "model_name": "DescriptionStyleModel",
          "model_module_version": "1.5.0",
          "state": {
            "_model_module": "@jupyter-widgets/controls",
            "_model_module_version": "1.5.0",
            "_model_name": "DescriptionStyleModel",
            "_view_count": null,
            "_view_module": "@jupyter-widgets/base",
            "_view_module_version": "1.2.0",
            "_view_name": "StyleView",
            "description_width": ""
          }
        }
      }
    }
  },
  "nbformat": 4,
  "nbformat_minor": 0
}