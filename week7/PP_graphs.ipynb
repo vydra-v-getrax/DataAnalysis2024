{
 "cells": [
  {
   "cell_type": "markdown",
   "metadata": {},
   "source": [
    "## Graphs, `networkx` library\n",
    "\n",
    "#### Graphs\n",
    "\n",
    "A **graph** or a **network** -- any model/system with:\n",
    "\n",
    "+ elements = nodes = vertices\n",
    "+ relations = edges\n",
    "\n",
    "Can you think of some examples of graphs and networks around us? And in linguistics?"
   ]
  },
  {
   "cell_type": "markdown",
   "metadata": {},
   "source": [
    "#### Why do we need graphs?\n",
    "\n",
    "+ visualization\n",
    "+ network analysis\n",
    "\n",
    "\n",
    "\n",
    "The `networkx` library ([documentation](https://networkx.github.io/documentation/latest/index.html)) allows us to work with graphs. Not the only library for working with graphs in python ([some other choices](https://wiki.python.org/moin/PythonGraphLibraries))."
   ]
  },
  {
   "cell_type": "markdown",
   "metadata": {},
   "source": [
    "#### Networks"
   ]
  },
  {
   "cell_type": "code",
   "execution_count": null,
   "metadata": {},
   "outputs": [],
   "source": [
    "!pip install networkx"
   ]
  },
  {
   "cell_type": "code",
   "execution_count": 1,
   "metadata": {},
   "outputs": [],
   "source": [
    "import networkx as nx"
   ]
  },
  {
   "cell_type": "markdown",
   "metadata": {},
   "source": [
    "#### Creating a graph"
   ]
  },
  {
   "cell_type": "code",
   "execution_count": 2,
   "metadata": {},
   "outputs": [],
   "source": [
    "G = nx.Graph() # an empty graph\n",
    "G.add_node(1) # adding a node\n",
    "G.add_nodes_from([2 ,3, 4, 5, 6, 7]) # adding some nodes\n",
    "\n",
    "G.remove_node(2) # deleting a node\n",
    "\n",
    "# labeling nodes, using their ids (1,2,3 etc.)\n",
    "G.add_node(1, label=\"node_1\")"
   ]
  },
  {
   "cell_type": "markdown",
   "metadata": {},
   "source": [
    "Adding relations:"
   ]
  },
  {
   "cell_type": "code",
   "execution_count": 3,
   "metadata": {},
   "outputs": [],
   "source": [
    "G.add_edge(1,3) # an edge between 1 and 3\n",
    "G.add_edges_from([(1, 4), (1, 5), (3, 5), (4, 5), (1, 6), (1, 7)]) # multiple edges\n",
    "G.remove_edge(1, 5) # removing an edge"
   ]
  },
  {
   "cell_type": "markdown",
   "metadata": {},
   "source": [
    "Printing the result:"
   ]
  },
  {
   "cell_type": "code",
   "execution_count": 4,
   "metadata": {},
   "outputs": [
    {
     "name": "stdout",
     "output_type": "stream",
     "text": [
      "nodes [1, 3, 4, 5, 6, 7]\n",
      "edges [(1, 3), (1, 4), (1, 6), (1, 7), (3, 5), (4, 5)]\n"
     ]
    }
   ],
   "source": [
    "print('nodes', G.nodes())\n",
    "print('edges', G.edges())"
   ]
  },
  {
   "cell_type": "code",
   "execution_count": 5,
   "metadata": {},
   "outputs": [
    {
     "data": {
      "text/plain": [
       "2"
      ]
     },
     "execution_count": 5,
     "metadata": {},
     "output_type": "execute_result"
    }
   ],
   "source": [
    "# the number of neighbors for a node\n",
    "G.degree(5)"
   ]
  },
  {
   "cell_type": "code",
   "execution_count": 6,
   "metadata": {},
   "outputs": [
    {
     "name": "stdout",
     "output_type": "stream",
     "text": [
      "1 4\n",
      "3 2\n",
      "4 2\n",
      "5 2\n",
      "6 1\n",
      "7 1\n"
     ]
    }
   ],
   "source": [
    "# neighbors for each node\n",
    "for node in G.nodes():\n",
    "    print (node, G.degree(node))"
   ]
  },
  {
   "cell_type": "markdown",
   "metadata": {},
   "source": [
    "Weighted graphs, where the relations are weighted:"
   ]
  },
  {
   "cell_type": "code",
   "execution_count": 7,
   "metadata": {},
   "outputs": [],
   "source": [
    "# adding the weight\n",
    "\n",
    "G.add_edge(1, 3, weight=4)"
   ]
  },
  {
   "cell_type": "markdown",
   "metadata": {},
   "source": [
    "We can add the direction of the relation:"
   ]
  },
  {
   "cell_type": "code",
   "execution_count": 8,
   "metadata": {},
   "outputs": [],
   "source": [
    "dg = nx.DiGraph()\n",
    "dg.add_weighted_edges_from([(1,4,0.5), (3,1,0.75)]) # from -- to "
   ]
  },
  {
   "cell_type": "markdown",
   "metadata": {},
   "source": [
    "Can you summarize the types of the graphs?"
   ]
  },
  {
   "cell_type": "markdown",
   "metadata": {},
   "source": [
    "#### Saving the graph\n",
    "\n",
    "You can use various formats:\n",
    "\n",
    "+ csv -- for nodes, for relations\n",
    "+ gml (Graph Modelling Language) -- text format for graphs\n",
    "+ graphml — XML format for graphs\n",
    "+ gexf (Graph Exchange XML Format) — XML format with metadata for graphs (the most extensive).\n",
    "\n",
    "To save your graph:\n"
   ]
  },
  {
   "cell_type": "code",
   "execution_count": 12,
   "metadata": {},
   "outputs": [],
   "source": [
    "nx.write_gexf(G, 'graph_file.gexf')"
   ]
  },
  {
   "cell_type": "markdown",
   "metadata": {},
   "source": [
    "To read a graph:"
   ]
  },
  {
   "cell_type": "code",
   "execution_count": 13,
   "metadata": {},
   "outputs": [],
   "source": [
    "G1 = nx.read_gexf('graph_file.gexf')"
   ]
  },
  {
   "cell_type": "markdown",
   "metadata": {},
   "source": [
    "#### Visualization\n",
    "\n",
    "We will use `matplotlib` ([other options](https://networkx.github.io/documentation/networkx-2.2/reference/drawing.html)).\n"
   ]
  },
  {
   "cell_type": "code",
   "execution_count": 9,
   "metadata": {},
   "outputs": [
    {
     "data": {
      "image/png": "[encoded data removed]",
      "text/plain": [
       "<Figure size 432x288 with 1 Axes>"
      ]
     },
     "metadata": {},
     "output_type": "display_data"
    }
   ],
   "source": [
    "import matplotlib.pyplot as plt \n",
    "\n",
    "pos=nx.spring_layout(G)# choosing a layout\n",
    "nx.draw_networkx_nodes(G, pos, node_color='red', node_size=10) # color and size of the nodes\n",
    "nx.draw_networkx_edges(G, pos, edge_color='yellow') # color of edges\n",
    "nx.draw_networkx_labels(G, pos, font_size=20, font_family='Arial')# adding the labels\n",
    "plt.axis('off') \n",
    "plt.show()"
   ]
  },
  {
   "cell_type": "markdown",
   "metadata": {},
   "source": [
    "[Layout options](https://networkx.github.io/documentation/latest/reference/drawing.html#layout):"
   ]
  },
  {
   "cell_type": "code",
   "execution_count": 10,
   "metadata": {},
   "outputs": [
    {
     "data": {
      "image/png": "[encoded data removed]",
      "text/plain": [
       "<Figure size 432x288 with 1 Axes>"
      ]
     },
     "metadata": {},
     "output_type": "display_data"
    }
   ],
   "source": [
    "pos=nx.shell_layout(G)# choosing a layout\n",
    "nx.draw_networkx_nodes(G, pos, node_color='red', node_size=10) # color and size of the nodes\n",
    "nx.draw_networkx_edges(G, pos, edge_color='yellow') # color of edges\n",
    "nx.draw_networkx_labels(G, pos, font_size=20, font_family='Arial')# adding the labels\n",
    "plt.axis('off') \n",
    "plt.show()"
   ]
  },
  {
   "cell_type": "code",
   "execution_count": 11,
   "metadata": {},
   "outputs": [
    {
     "data": {
      "image/png": "[encoded data removed]",
      "text/plain": [
       "<Figure size 432x288 with 1 Axes>"
      ]
     },
     "metadata": {},
     "output_type": "display_data"
    }
   ],
   "source": [
    "pos=nx.random_layout(G)# choosing a layout\n",
    "nx.draw_networkx_nodes(G, pos, node_color='red', node_size=10) # color and size of the nodes\n",
    "nx.draw_networkx_edges(G, pos, edge_color='yellow') # color of edges\n",
    "nx.draw_networkx_labels(G, pos, font_size=20, font_family='Arial')# adding the labels\n",
    "plt.axis('off') \n",
    "plt.show()"
   ]
  },
  {
   "cell_type": "code",
   "execution_count": 12,
   "metadata": {},
   "outputs": [
    {
     "name": "stdout",
     "output_type": "stream",
     "text": [
      "4\n"
     ]
    }
   ],
   "source": [
    "# to extract a subgraph\n",
    "sub = [1, 3, 4, 5]\n",
    "sub_G = G.subgraph(sub)\n",
    "print(sub_G.number_of_nodes())"
   ]
  },
  {
   "cell_type": "code",
   "execution_count": 13,
   "metadata": {},
   "outputs": [
    {
     "data": {
      "image/png": "[encoded data removed]",
      "text/plain": [
       "<Figure size 432x288 with 1 Axes>"
      ]
     },
     "metadata": {},
     "output_type": "display_data"
    }
   ],
   "source": [
    "pos=nx.spring_layout(sub_G)# choosing a layout\n",
    "nx.draw_networkx_nodes(sub_G, pos, node_color='red', node_size=10) # color and size of the nodes\n",
    "nx.draw_networkx_edges(sub_G, pos, edge_color='yellow') # color of edges\n",
    "nx.draw_networkx_labels(sub_G, pos, font_size=20, font_family='Arial')# adding the labels\n",
    "plt.axis('off') \n",
    "plt.show()"
   ]
  },
  {
   "cell_type": "markdown",
   "metadata": {},
   "source": [
    "+ **Radius**\n",
    "\n",
    "+ **Diameter** \n",
    "\n",
    "+ **Assortativity coefficient**\n",
    "\n",
    "+ **Density** - the number of edges divided by the possible number of edges\n",
    "\n",
    "+ **Degree** – the number of relations\n",
    "\n",
    "+ **Weighted degree** – the number of relations of a node divided by the total number of relations in the graph\n",
    "\n",
    "+ **Centrality**:\n",
    "    + **degree centrality**: the more relations, the more important the node\n",
    "    + **closeness centrality**: the more central (closer to other nodes), the more important the node\n",
    "    + **betweenness centrality**: the number of closest paths that go through the node\n",
    "    + **eigencentrality**: the more friends your neighbors have, the more important you are\n",
    "\n",
    "[Relevant documentation](https://networkx.github.io/documentation/networkx-2.2/reference/algorithms/centrality.html)."
   ]
  },
  {
   "cell_type": "code",
   "execution_count": 14,
   "metadata": {},
   "outputs": [
    {
     "name": "stdout",
     "output_type": "stream",
     "text": [
      "1\n",
      "3\n",
      "4\n",
      "5\n",
      "6\n",
      "7\n"
     ]
    }
   ],
   "source": [
    "# centrality (importance)\n",
    "\n",
    "deg = nx.degree_centrality(G)\n",
    "for nodeid in sorted(deg, key=deg.get, reverse=True):\n",
    "    print(nodeid)"
   ]
  },
  {
   "cell_type": "code",
   "execution_count": 15,
   "metadata": {},
   "outputs": [
    {
     "name": "stdout",
     "output_type": "stream",
     "text": [
      "1\n",
      "3\n",
      "4\n",
      "5\n",
      "6\n",
      "7\n"
     ]
    }
   ],
   "source": [
    "b = nx.betweenness_centrality(G)\n",
    "for nodeid in sorted(b, key=b.get, reverse=True):\n",
    "    print(nodeid)"
   ]
  },
  {
   "cell_type": "code",
   "execution_count": 16,
   "metadata": {},
   "outputs": [
    {
     "name": "stdout",
     "output_type": "stream",
     "text": [
      "1\n",
      "3\n",
      "4\n",
      "5\n",
      "6\n",
      "7\n"
     ]
    }
   ],
   "source": [
    "e = nx.eigenvector_centrality(G)\n",
    "for nodeid in sorted(b, key=b.get, reverse=True):\n",
    "    print(nodeid)"
   ]
  },
  {
   "cell_type": "markdown",
   "metadata": {},
   "source": [
    "**Clustering coefficient** – the probability that the closest neighbors of a node will be connected to each other"
   ]
  },
  {
   "cell_type": "code",
   "execution_count": 17,
   "metadata": {},
   "outputs": [
    {
     "name": "stdout",
     "output_type": "stream",
     "text": [
      "0.0\n",
      "0\n"
     ]
    }
   ],
   "source": [
    "print(nx.average_clustering(G))\n",
    "print(nx.transitivity(G))"
   ]
  },
  {
   "cell_type": "markdown",
   "metadata": {},
   "source": [
    "**Modularity** shows to what extent the density within communities of a given community structure is higher than the density between communities.\n",
    "\n",
    "**Community** – sets of nodes densely connected internally.\n",
    "\n",
    "![](https://focus.ua/files/medvedeva/2016/04/01-11/gofthr.jpg)"
   ]
  },
  {
   "cell_type": "code",
   "execution_count": 18,
   "metadata": {},
   "outputs": [],
   "source": [
    "from networkx.algorithms import community"
   ]
  },
  {
   "cell_type": "markdown",
   "metadata": {},
   "source": [
    "[Here](https://networkx.github.io/documentation/latest/reference/algorithms/community.html) you can find algorythms for generating communities:"
   ]
  },
  {
   "cell_type": "code",
   "execution_count": 19,
   "metadata": {},
   "outputs": [
    {
     "data": {
      "text/plain": [
       "[[1], [3], [4, 5], [6], [7]]"
      ]
     },
     "execution_count": 19,
     "metadata": {},
     "output_type": "execute_result"
    }
   ],
   "source": [
    "communities_generator = community.girvan_newman(G)\n",
    "top_level_communities = next(communities_generator)\n",
    "top_level_communities = next(communities_generator)\n",
    "next_level_communities = next(communities_generator)\n",
    "next_level_communities = next(communities_generator)\n",
    "sorted(map(sorted, next_level_communities))"
   ]
  },
  {
   "cell_type": "markdown",
   "metadata": {},
   "source": [
    "#### Gephi\n",
    "\n",
    "Gephi is a program that allows you to create, visualize a graph. If you want a beautiful graph, you can process the data in python, upload it to gephi, and create and visualize the graph there."
   ]
  },
  {
   "cell_type": "markdown",
   "metadata": {},
   "source": [
    "#### Graphs and linguistics\n",
    "\n",
    "You can find a list of relevant papers [here](https://www.cs.upc.edu/~rferrericancho/linguistic_and_cognitive_networks.html) \n",
    "\n",
    "Rusdracor https://dracor.org/, where you can find graphs for novels."
   ]
  }
 ],
 "metadata": {
  "kernelspec": {
   "display_name": "Python 3",
   "language": "python",
   "name": "python3"
  },
  "language_info": {
   "codemirror_mode": {
    "name": "ipython",
    "version": 3
   },
   "file_extension": ".py",
   "mimetype": "text/x-python",
   "name": "python",
   "nbconvert_exporter": "python",
   "pygments_lexer": "ipython3",
   "version": "3.8.5"
  }
 },
 "nbformat": 4,
 "nbformat_minor": 2
}
