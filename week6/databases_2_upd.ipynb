{
  "nbformat": 4,
  "nbformat_minor": 0,
  "metadata": {
    "kernelspec": {
      "display_name": "Python 3",
      "language": "python",
      "name": "python3"
    },
    "language_info": {
      "codemirror_mode": {
        "name": "ipython",
        "version": 3
      },
      "file_extension": ".py",
      "mimetype": "text/x-python",
      "name": "python",
      "nbconvert_exporter": "python",
      "pygments_lexer": "ipython3",
      "version": "3.6.5"
    },
    "colab": {
      "provenance": []
    }
  },
  "cells": [
    {
      "cell_type": "markdown",
      "metadata": {
        "id": "tmYFSx4n20cd"
      },
      "source": [
        "## Databases and Python\n",
        "\n",
        "To work with databases in python we will be using the [SQLite](https://docs.python.org/3.5/library/sqlite3.html) library. The database files have the `.db` extension."
      ]
    },
    {
      "cell_type": "code",
      "metadata": {
        "id": "k-RIodt920dV"
      },
      "source": [
        "import sqlite3\n",
        "\n",
        "# connecting to the database\n",
        "conn = sqlite3.connect('example.db')\n",
        "\n",
        "# creating a cursor object we will be sending our queries to\n",
        "c = conn.cursor()\n",
        "\n",
        "# creating a table\n",
        "c.execute(\"CREATE TABLE IF NOT EXISTS students(name text, major text, year integer)\")\n",
        "\n",
        "# inserting a line\n",
        "c.execute(\"INSERT INTO students VALUES ('Natasha','linguistics',2), ('Dasha','linguistics',1)\")\n",
        "\n",
        "# commiting the changes\n",
        "conn.commit()\n",
        "\n",
        "# closing the database\n",
        "#conn.close()"
      ],
      "execution_count": 1,
      "outputs": []
    },
    {
      "cell_type": "markdown",
      "metadata": {
        "id": "_viOMDcH20di"
      },
      "source": [
        "**Important**: don't forget to create a cursor object, without it you won't be able to send any queries to the database!\n",
        "\n",
        "**Important**: if you changed anything, don't forget to commit the changes, they won't be saved otherwise!\n",
        "\n",
        "**Important**: in your queries don't use string concatenation or formatting that you use in python. This will make your database vulnerable to SQL-injections, code injection techniques, used to attack data-driven applications, in which malicious SQL statements are inserted into an entry field for execution (e.g. to dump the database contents to the attacker). You can read more about it [here](https://habrahabr.ru/post/148151/) or [here](https://en.wikipedia.org/wiki/SQL_injection).\n",
        "\n",
        "![](https://imgs.xkcd.com/comics/exploits_of_a_mom.png)"
      ]
    },
    {
      "cell_type": "code",
      "metadata": {
        "colab": {
          "base_uri": "https://localhost:8080/"
        },
        "id": "koTRAEWD20dn",
        "outputId": "8e44aa1a-71ee-43dc-c481-9eab283ab12f"
      },
      "source": [
        "# Don't do this!\n",
        "#name = 'Natasha'\n",
        "#c.execute(\"SELECT * FROM students WHERE name = '%s'\" % name)\n",
        "\n",
        "# This is the right way\n",
        "x = ('Natasha',)\n",
        "c.execute('SELECT * FROM students WHERE name=?', x)\n",
        "print(c.fetchone())"
      ],
      "execution_count": 2,
      "outputs": [
        {
          "output_type": "stream",
          "name": "stdout",
          "text": [
            "('Natasha', 'linguistics', 2)\n"
          ]
        }
      ]
    },
    {
      "cell_type": "code",
      "metadata": {
        "colab": {
          "base_uri": "https://localhost:8080/"
        },
        "id": "MSx2Kxmu20dv",
        "outputId": "3e86486d-4706-441b-8ad6-fce9d14f778d"
      },
      "source": [
        "# If the expected result of the query is a number of lines, you can iterate through them\n",
        "\n",
        "for row in c.execute('SELECT * FROM students ORDER BY year'):\n",
        "    print(row)"
      ],
      "execution_count": 3,
      "outputs": [
        {
          "output_type": "stream",
          "name": "stdout",
          "text": [
            "('Dasha', 'linguistics', 1)\n",
            "('Natasha', 'linguistics', 2)\n"
          ]
        }
      ]
    },
    {
      "cell_type": "code",
      "metadata": {
        "id": "cDcvbkJI20d1"
      },
      "source": [
        "# to insert several variables into the sql-query\n",
        "\n",
        "x = 'Sasha'\n",
        "y = 'programming'\n",
        "z = 1\n",
        "\n",
        "c.execute('INSERT INTO students VALUES (?, ?, ?)', (x, y, z))\n",
        "conn.commit()"
      ],
      "execution_count": 4,
      "outputs": []
    },
    {
      "cell_type": "code",
      "metadata": {
        "colab": {
          "base_uri": "https://localhost:8080/"
        },
        "id": "XSPeDNsE20d5",
        "outputId": "cd25846b-1d97-46af-ea4f-e60960572580"
      },
      "source": [
        "for row in c.execute('SELECT * FROM students ORDER BY year'):\n",
        "    print(row)"
      ],
      "execution_count": 5,
      "outputs": [
        {
          "output_type": "stream",
          "name": "stdout",
          "text": [
            "('Dasha', 'linguistics', 1)\n",
            "('Sasha', 'programming', 1)\n",
            "('Natasha', 'linguistics', 2)\n"
          ]
        }
      ]
    },
    {
      "cell_type": "markdown",
      "metadata": {
        "id": "2zNtSl_O20d7"
      },
      "source": [
        "#### Formatting\n",
        "\n",
        "If you want to insert variables as your rows, use string formatting."
      ]
    },
    {
      "cell_type": "code",
      "metadata": {
        "colab": {
          "base_uri": "https://localhost:8080/"
        },
        "id": "FeBhB8LZ20d9",
        "outputId": "312cca5a-7700-4ab7-9527-59a04ff9abe0"
      },
      "source": [
        "params = ['vowel', 'f1', 'f2']\n",
        "c.execute('CREATE TABLE vowels({}, {}, {})'.format(params[0], params[1], params[2]))"
      ],
      "execution_count": 6,
      "outputs": [
        {
          "output_type": "execute_result",
          "data": {
            "text/plain": [
              "<sqlite3.Cursor at 0x796b6b558940>"
            ]
          },
          "metadata": {},
          "execution_count": 6
        }
      ]
    },
    {
      "cell_type": "code",
      "metadata": {
        "colab": {
          "base_uri": "https://localhost:8080/"
        },
        "id": "4eGW0MMW20eG",
        "outputId": "6497a9b4-aa44-4f25-9fb4-c257cbea959d"
      },
      "source": [
        "# a little bit nicer\n",
        "c.execute('''\n",
        "INSERT INTO vowels\n",
        "VALUES\n",
        "('a', 1234.56, 4567.8),\n",
        "('u', 1111.1, 3333.3)'''\n",
        ")"
      ],
      "execution_count": 7,
      "outputs": [
        {
          "output_type": "execute_result",
          "data": {
            "text/plain": [
              "<sqlite3.Cursor at 0x796b6b558940>"
            ]
          },
          "metadata": {},
          "execution_count": 7
        }
      ]
    },
    {
      "cell_type": "code",
      "metadata": {
        "colab": {
          "base_uri": "https://localhost:8080/"
        },
        "id": "VYLYMO8r20eJ",
        "outputId": "b329e52f-f57f-4cb3-ac92-500eef824d6f"
      },
      "source": [
        "for row in c.execute('SELECT * FROM vowels'):\n",
        "    print(row)"
      ],
      "execution_count": 8,
      "outputs": [
        {
          "output_type": "stream",
          "name": "stdout",
          "text": [
            "('a', 1234.56, 4567.8)\n",
            "('u', 1111.1, 3333.3)\n"
          ]
        }
      ]
    },
    {
      "cell_type": "markdown",
      "metadata": {
        "id": "5tuKMJQX20eO"
      },
      "source": [
        "#### Cursor functions\n",
        "\n",
        "* **fetchone()** -- fetches the next row of a query result set, returning a single sequence, or None when no more data is available\n",
        "* **fetchall()** -- fetches all (remaining) rows of a query result, returning a list. An empty list is returned when no rows are available\n",
        "* **fetchmany()** -- fetches the next set of rows of a query result, returning a list. An empty list is returned when no more rows are available. The number of rows to fetch per call is specified by the size parameter. If it is not given, the cursor’s arraysize determines the number of rows to be fetched. The method should try to fetch as many rows as indicated by the size parameter. If this is not possible due to the specified number of rows not being available, fewer rows may be returned."
      ]
    },
    {
      "cell_type": "code",
      "metadata": {
        "colab": {
          "base_uri": "https://localhost:8080/"
        },
        "id": "2GC8VPu620eU",
        "outputId": "4aff4d12-235e-4df4-fca0-9cfffb4a7834"
      },
      "source": [
        "# fetching rows one by one\n",
        "# note that in each query fetchone returns the next row\n",
        "c.execute('SELECT * FROM students ORDER BY year')\n",
        "print(c.fetchone())\n",
        "print(c.fetchone())\n",
        "print(c.fetchone())"
      ],
      "execution_count": 9,
      "outputs": [
        {
          "output_type": "stream",
          "name": "stdout",
          "text": [
            "('Dasha', 'linguistics', 1)\n",
            "('Sasha', 'programming', 1)\n",
            "('Natasha', 'linguistics', 2)\n"
          ]
        }
      ]
    },
    {
      "cell_type": "code",
      "metadata": {
        "colab": {
          "base_uri": "https://localhost:8080/"
        },
        "id": "7b6ANJHH20eY",
        "outputId": "d887c1ff-b5ad-4408-d872-f961921486b5"
      },
      "source": [
        "# fetching two rows\n",
        "c.execute('SELECT * FROM students ORDER BY year')\n",
        "print(c.fetchmany(2))"
      ],
      "execution_count": 10,
      "outputs": [
        {
          "output_type": "stream",
          "name": "stdout",
          "text": [
            "[('Dasha', 'linguistics', 1), ('Sasha', 'programming', 1)]\n"
          ]
        }
      ]
    },
    {
      "cell_type": "code",
      "metadata": {
        "colab": {
          "base_uri": "https://localhost:8080/"
        },
        "id": "H5Z6_2aD20ea",
        "outputId": "46bd3743-c60c-4764-f12c-637b69b4e67a"
      },
      "source": [
        "# fetching all the rows\n",
        "c.execute('SELECT * FROM students ORDER BY year')\n",
        "print(c.fetchall())"
      ],
      "execution_count": 11,
      "outputs": [
        {
          "output_type": "stream",
          "name": "stdout",
          "text": [
            "[('Dasha', 'linguistics', 1), ('Sasha', 'programming', 1), ('Natasha', 'linguistics', 2)]\n"
          ]
        }
      ]
    },
    {
      "cell_type": "markdown",
      "metadata": {
        "id": "1DN2dNFb20ed"
      },
      "source": [
        "### Exercise 1\n",
        "\n",
        "The [nanai-vowels.csv](https://raw.githubusercontent.com/dashapopova/Preprocessing/master/nanai-vowels.csv) contains observations about nanai vowels. 7 speakers from two villages were recorded pronouncing different words that had the i, ɪ (encoded as I in the file) and ə (encoded as e in the file) vowels. The file contains information about the first and the second formants. Let's create a database out of the file using `sqlite3` and print the observations where village='Dzhuen', sex='f', sound='i'."
      ]
    },
    {
      "cell_type": "markdown",
      "metadata": {
        "id": "s-ChNKwf20eh"
      },
      "source": [
        "### Exercise 2\n",
        "\n",
        "Let's work with [rutul_vowels.csv](https://raw.githubusercontent.com/dashapopova/Preprocessing/master/rutul_vowels.csv)"
      ]
    },
    {
      "cell_type": "code",
      "metadata": {
        "id": "oVW4Ybyr20el"
      },
      "source": [
        "import pandas as pd\n",
        "import csv\n",
        "import sqlite3"
      ],
      "execution_count": 12,
      "outputs": []
    },
    {
      "cell_type": "code",
      "metadata": {
        "id": "TbE3B2QB20eo"
      },
      "source": [
        "df = pd.read_csv('https://raw.githubusercontent.com/dashapopova/Preprocessing/master/rutul_vowels.csv', sep=',', encoding='utf-8')"
      ],
      "execution_count": 13,
      "outputs": []
    },
    {
      "cell_type": "code",
      "metadata": {
        "colab": {
          "base_uri": "https://localhost:8080/",
          "height": 206
        },
        "id": "PsVJke7g20eq",
        "outputId": "7523951a-e5ad-4369-f007-e1a28c466c8f"
      },
      "source": [
        "df.head()"
      ],
      "execution_count": 14,
      "outputs": [
        {
          "output_type": "execute_result",
          "data": {
            "text/plain": [
              "   id  word  translation vowel stress syllable left_context\n",
              "0   1   χed  дикая алыча     e    yes      cvc            χ\n",
              "1   2  eked      старший     e     no       cv           no\n",
              "2   3  ɢina       в Кинe     i    yes       cv            ɢ\n",
              "3   4  χuda     в кулаке     u     no       cv            χ\n",
              "4   5  ʁuli       в окне     u     no       cv            ʁ"
            ],
            "text/html": [
              "\n",
              "  <div id=\"df-2c7ca9bd-8ba1-45e1-8524-b5674f43c9bc\" class=\"colab-df-container\">\n",
              "    <div>\n",
              "<style scoped>\n",
              "    .dataframe tbody tr th:only-of-type {\n",
              "        vertical-align: middle;\n",
              "    }\n",
              "\n",
              "    .dataframe tbody tr th {\n",
              "        vertical-align: top;\n",
              "    }\n",
              "\n",
              "    .dataframe thead th {\n",
              "        text-align: right;\n",
              "    }\n",
              "</style>\n",
              "<table border=\"1\" class=\"dataframe\">\n",
              "  <thead>\n",
              "    <tr style=\"text-align: right;\">\n",
              "      <th></th>\n",
              "      <th>id</th>\n",
              "      <th>word</th>\n",
              "      <th>translation</th>\n",
              "      <th>vowel</th>\n",
              "      <th>stress</th>\n",
              "      <th>syllable</th>\n",
              "      <th>left_context</th>\n",
              "    </tr>\n",
              "  </thead>\n",
              "  <tbody>\n",
              "    <tr>\n",
              "      <th>0</th>\n",
              "      <td>1</td>\n",
              "      <td>χed</td>\n",
              "      <td>дикая алыча</td>\n",
              "      <td>e</td>\n",
              "      <td>yes</td>\n",
              "      <td>cvc</td>\n",
              "      <td>χ</td>\n",
              "    </tr>\n",
              "    <tr>\n",
              "      <th>1</th>\n",
              "      <td>2</td>\n",
              "      <td>eked</td>\n",
              "      <td>старший</td>\n",
              "      <td>e</td>\n",
              "      <td>no</td>\n",
              "      <td>cv</td>\n",
              "      <td>no</td>\n",
              "    </tr>\n",
              "    <tr>\n",
              "      <th>2</th>\n",
              "      <td>3</td>\n",
              "      <td>ɢina</td>\n",
              "      <td>в Кинe</td>\n",
              "      <td>i</td>\n",
              "      <td>yes</td>\n",
              "      <td>cv</td>\n",
              "      <td>ɢ</td>\n",
              "    </tr>\n",
              "    <tr>\n",
              "      <th>3</th>\n",
              "      <td>4</td>\n",
              "      <td>χuda</td>\n",
              "      <td>в кулаке</td>\n",
              "      <td>u</td>\n",
              "      <td>no</td>\n",
              "      <td>cv</td>\n",
              "      <td>χ</td>\n",
              "    </tr>\n",
              "    <tr>\n",
              "      <th>4</th>\n",
              "      <td>5</td>\n",
              "      <td>ʁuli</td>\n",
              "      <td>в окне</td>\n",
              "      <td>u</td>\n",
              "      <td>no</td>\n",
              "      <td>cv</td>\n",
              "      <td>ʁ</td>\n",
              "    </tr>\n",
              "  </tbody>\n",
              "</table>\n",
              "</div>\n",
              "    <div class=\"colab-df-buttons\">\n",
              "\n",
              "  <div class=\"colab-df-container\">\n",
              "    <button class=\"colab-df-convert\" onclick=\"convertToInteractive('df-2c7ca9bd-8ba1-45e1-8524-b5674f43c9bc')\"\n",
              "            title=\"Convert this dataframe to an interactive table.\"\n",
              "            style=\"display:none;\">\n",
              "\n",
              "  <svg xmlns=\"http://www.w3.org/2000/svg\" height=\"24px\" viewBox=\"0 -960 960 960\">\n",
              "    <path d=\"M120-120v-720h720v720H120Zm60-500h600v-160H180v160Zm220 220h160v-160H400v160Zm0 220h160v-160H400v160ZM180-400h160v-160H180v160Zm440 0h160v-160H620v160ZM180-180h160v-160H180v160Zm440 0h160v-160H620v160Z\"/>\n",
              "  </svg>\n",
              "    </button>\n",
              "\n",
              "  <style>\n",
              "    .colab-df-container {\n",
              "      display:flex;\n",
              "      gap: 12px;\n",
              "    }\n",
              "\n",
              "    .colab-df-convert {\n",
              "      background-color: #E8F0FE;\n",
              "      border: none;\n",
              "      border-radius: 50%;\n",
              "      cursor: pointer;\n",
              "      display: none;\n",
              "      fill: #1967D2;\n",
              "      height: 32px;\n",
              "      padding: 0 0 0 0;\n",
              "      width: 32px;\n",
              "    }\n",
              "\n",
              "    .colab-df-convert:hover {\n",
              "      background-color: #E2EBFA;\n",
              "      box-shadow: 0px 1px 2px rgba(60, 64, 67, 0.3), 0px 1px 3px 1px rgba(60, 64, 67, 0.15);\n",
              "      fill: #174EA6;\n",
              "    }\n",
              "\n",
              "    .colab-df-buttons div {\n",
              "      margin-bottom: 4px;\n",
              "    }\n",
              "\n",
              "    [theme=dark] .colab-df-convert {\n",
              "      background-color: #3B4455;\n",
              "      fill: #D2E3FC;\n",
              "    }\n",
              "\n",
              "    [theme=dark] .colab-df-convert:hover {\n",
              "      background-color: #434B5C;\n",
              "      box-shadow: 0px 1px 3px 1px rgba(0, 0, 0, 0.15);\n",
              "      filter: drop-shadow(0px 1px 2px rgba(0, 0, 0, 0.3));\n",
              "      fill: #FFFFFF;\n",
              "    }\n",
              "  </style>\n",
              "\n",
              "    <script>\n",
              "      const buttonEl =\n",
              "        document.querySelector('#df-2c7ca9bd-8ba1-45e1-8524-b5674f43c9bc button.colab-df-convert');\n",
              "      buttonEl.style.display =\n",
              "        google.colab.kernel.accessAllowed ? 'block' : 'none';\n",
              "\n",
              "      async function convertToInteractive(key) {\n",
              "        const element = document.querySelector('#df-2c7ca9bd-8ba1-45e1-8524-b5674f43c9bc');\n",
              "        const dataTable =\n",
              "          await google.colab.kernel.invokeFunction('convertToInteractive',\n",
              "                                                    [key], {});\n",
              "        if (!dataTable) return;\n",
              "\n",
              "        const docLinkHtml = 'Like what you see? Visit the ' +\n",
              "          '<a target=\"_blank\" href=https://colab.research.google.com/notebooks/data_table.ipynb>data table notebook</a>'\n",
              "          + ' to learn more about interactive tables.';\n",
              "        element.innerHTML = '';\n",
              "        dataTable['output_type'] = 'display_data';\n",
              "        await google.colab.output.renderOutput(dataTable, element);\n",
              "        const docLink = document.createElement('div');\n",
              "        docLink.innerHTML = docLinkHtml;\n",
              "        element.appendChild(docLink);\n",
              "      }\n",
              "    </script>\n",
              "  </div>\n",
              "\n",
              "\n",
              "<div id=\"df-6916b6e8-313f-4ca5-8751-38133af0159f\">\n",
              "  <button class=\"colab-df-quickchart\" onclick=\"quickchart('df-6916b6e8-313f-4ca5-8751-38133af0159f')\"\n",
              "            title=\"Suggest charts.\"\n",
              "            style=\"display:none;\">\n",
              "\n",
              "<svg xmlns=\"http://www.w3.org/2000/svg\" height=\"24px\"viewBox=\"0 0 24 24\"\n",
              "     width=\"24px\">\n",
              "    <g>\n",
              "        <path d=\"M19 3H5c-1.1 0-2 .9-2 2v14c0 1.1.9 2 2 2h14c1.1 0 2-.9 2-2V5c0-1.1-.9-2-2-2zM9 17H7v-7h2v7zm4 0h-2V7h2v10zm4 0h-2v-4h2v4z\"/>\n",
              "    </g>\n",
              "</svg>\n",
              "  </button>\n",
              "\n",
              "<style>\n",
              "  .colab-df-quickchart {\n",
              "      --bg-color: #E8F0FE;\n",
              "      --fill-color: #1967D2;\n",
              "      --hover-bg-color: #E2EBFA;\n",
              "      --hover-fill-color: #174EA6;\n",
              "      --disabled-fill-color: #AAA;\n",
              "      --disabled-bg-color: #DDD;\n",
              "  }\n",
              "\n",
              "  [theme=dark] .colab-df-quickchart {\n",
              "      --bg-color: #3B4455;\n",
              "      --fill-color: #D2E3FC;\n",
              "      --hover-bg-color: #434B5C;\n",
              "      --hover-fill-color: #FFFFFF;\n",
              "      --disabled-bg-color: #3B4455;\n",
              "      --disabled-fill-color: #666;\n",
              "  }\n",
              "\n",
              "  .colab-df-quickchart {\n",
              "    background-color: var(--bg-color);\n",
              "    border: none;\n",
              "    border-radius: 50%;\n",
              "    cursor: pointer;\n",
              "    display: none;\n",
              "    fill: var(--fill-color);\n",
              "    height: 32px;\n",
              "    padding: 0;\n",
              "    width: 32px;\n",
              "  }\n",
              "\n",
              "  .colab-df-quickchart:hover {\n",
              "    background-color: var(--hover-bg-color);\n",
              "    box-shadow: 0 1px 2px rgba(60, 64, 67, 0.3), 0 1px 3px 1px rgba(60, 64, 67, 0.15);\n",
              "    fill: var(--button-hover-fill-color);\n",
              "  }\n",
              "\n",
              "  .colab-df-quickchart-complete:disabled,\n",
              "  .colab-df-quickchart-complete:disabled:hover {\n",
              "    background-color: var(--disabled-bg-color);\n",
              "    fill: var(--disabled-fill-color);\n",
              "    box-shadow: none;\n",
              "  }\n",
              "\n",
              "  .colab-df-spinner {\n",
              "    border: 2px solid var(--fill-color);\n",
              "    border-color: transparent;\n",
              "    border-bottom-color: var(--fill-color);\n",
              "    animation:\n",
              "      spin 1s steps(1) infinite;\n",
              "  }\n",
              "\n",
              "  @keyframes spin {\n",
              "    0% {\n",
              "      border-color: transparent;\n",
              "      border-bottom-color: var(--fill-color);\n",
              "      border-left-color: var(--fill-color);\n",
              "    }\n",
              "    20% {\n",
              "      border-color: transparent;\n",
              "      border-left-color: var(--fill-color);\n",
              "      border-top-color: var(--fill-color);\n",
              "    }\n",
              "    30% {\n",
              "      border-color: transparent;\n",
              "      border-left-color: var(--fill-color);\n",
              "      border-top-color: var(--fill-color);\n",
              "      border-right-color: var(--fill-color);\n",
              "    }\n",
              "    40% {\n",
              "      border-color: transparent;\n",
              "      border-right-color: var(--fill-color);\n",
              "      border-top-color: var(--fill-color);\n",
              "    }\n",
              "    60% {\n",
              "      border-color: transparent;\n",
              "      border-right-color: var(--fill-color);\n",
              "    }\n",
              "    80% {\n",
              "      border-color: transparent;\n",
              "      border-right-color: var(--fill-color);\n",
              "      border-bottom-color: var(--fill-color);\n",
              "    }\n",
              "    90% {\n",
              "      border-color: transparent;\n",
              "      border-bottom-color: var(--fill-color);\n",
              "    }\n",
              "  }\n",
              "</style>\n",
              "\n",
              "  <script>\n",
              "    async function quickchart(key) {\n",
              "      const quickchartButtonEl =\n",
              "        document.querySelector('#' + key + ' button');\n",
              "      quickchartButtonEl.disabled = true;  // To prevent multiple clicks.\n",
              "      quickchartButtonEl.classList.add('colab-df-spinner');\n",
              "      try {\n",
              "        const charts = await google.colab.kernel.invokeFunction(\n",
              "            'suggestCharts', [key], {});\n",
              "      } catch (error) {\n",
              "        console.error('Error during call to suggestCharts:', error);\n",
              "      }\n",
              "      quickchartButtonEl.classList.remove('colab-df-spinner');\n",
              "      quickchartButtonEl.classList.add('colab-df-quickchart-complete');\n",
              "    }\n",
              "    (() => {\n",
              "      let quickchartButtonEl =\n",
              "        document.querySelector('#df-6916b6e8-313f-4ca5-8751-38133af0159f button');\n",
              "      quickchartButtonEl.style.display =\n",
              "        google.colab.kernel.accessAllowed ? 'block' : 'none';\n",
              "    })();\n",
              "  </script>\n",
              "</div>\n",
              "    </div>\n",
              "  </div>\n"
            ]
          },
          "metadata": {},
          "execution_count": 14
        }
      ]
    },
    {
      "cell_type": "code",
      "metadata": {
        "id": "XJ8rieXd20er"
      },
      "source": [
        "con = sqlite3.connect(\"rutul.db\")\n",
        "cur = con.cursor()"
      ],
      "execution_count": 15,
      "outputs": []
    },
    {
      "cell_type": "markdown",
      "metadata": {
        "id": "bNEYwIw620et"
      },
      "source": [
        "A more efficient way to do the same:"
      ]
    },
    {
      "cell_type": "code",
      "metadata": {
        "id": "geE0T1jL20ev",
        "colab": {
          "base_uri": "https://localhost:8080/"
        },
        "outputId": "aaef0edd-6200-411e-ea21-12578ea97b1b"
      },
      "source": [
        "df.to_sql(name='rutul', con=con, if_exists='replace')"
      ],
      "execution_count": 16,
      "outputs": [
        {
          "output_type": "execute_result",
          "data": {
            "text/plain": [
              "13"
            ]
          },
          "metadata": {},
          "execution_count": 16
        }
      ]
    },
    {
      "cell_type": "markdown",
      "metadata": {
        "id": "Klkb2GSz20ey"
      },
      "source": [
        "Let's check that what we have done worked:"
      ]
    },
    {
      "cell_type": "code",
      "metadata": {
        "colab": {
          "base_uri": "https://localhost:8080/"
        },
        "id": "VfMM-4VL20e0",
        "outputId": "ff7ed0a8-a199-4e21-8c72-69c2693eb9cc"
      },
      "source": [
        "for row in cur.execute('SELECT * FROM rutul'):\n",
        "    print(row)"
      ],
      "execution_count": 17,
      "outputs": [
        {
          "output_type": "stream",
          "name": "stdout",
          "text": [
            "(0, 1, 'χed', 'дикая алыча', 'e', 'yes', 'cvc', 'χ')\n",
            "(1, 2, 'eked', 'старший', 'e', 'no', 'cv', 'no')\n",
            "(2, 3, 'ɢina', 'в Кинe', 'i', 'yes', 'cv', 'ɢ')\n",
            "(3, 4, 'χuda', 'в кулаке', 'u', 'no', 'cv', 'χ')\n",
            "(4, 5, 'ʁuli', 'в окне', 'u', 'no', 'cv', 'ʁ')\n",
            "(5, 6, 'ɢuje', 'в яме', 'u', 'yes', 'cv', 'ɢ')\n",
            "(6, 7, 'qaka', 'отдай назад', 'a', 'yes', 'cv', 'q')\n",
            "(7, 8, 'qiq’a', 'возвращайся', 'i', 'yes', 'cv', 'q')\n",
            "(8, 9, 'χɨd', 'липа', 'ɨ', 'yes', 'cvc', 'χ')\n",
            "(9, 10, 'ʁɨˁbar', 'лягушки', 'ɨˁ', 'no', 'cv', 'ʁ')\n",
            "(10, 11, 'χaˁrad', 'масло', 'aˁ', 'no', 'cv', 'χ')\n",
            "(11, 12, 'itɨd', 'медовый', 'i', 'yes', 'cv', 'no')\n",
            "(12, 13, 'uˁbra', 'мерка для муки', 'uˁ', 'no', 'cv', 'no')\n"
          ]
        }
      ]
    },
    {
      "cell_type": "code",
      "source": [
        "import sqlite3\n",
        "import csv\n",
        "con = sqlite3.connect(\"rutul3.db\")\n",
        "cur = con.cursor()\n",
        "cur.execute(\"DROP TABLE IF EXISTS rutul3\")\n",
        "cur.execute(\"CREATE TABLE rutul3 (vowel, translation, syllable);\")  # all the columns names\n",
        "\n",
        "with open('rutul_vowels.csv','r', encoding='utf-8') as fin:\n",
        "    dr = csv.DictReader(fin)  # a comma is the default separator\n",
        "    to_db = [(i['vowel'], i['translation'], i['syllable']) for i in dr]  # put the columns' names again\n",
        "\n",
        "cur.executemany(\"INSERT INTO rutul3 (vowel,translation, syllable) VALUES (?, ?, ?);\", to_db)  # and again, the names of the columns\n",
        "\n",
        "for i in cur.execute(\"SELECT * FROM rutul3\"):\n",
        "    print(i)\n",
        "\n",
        "con.commit()\n",
        "con.close()"
      ],
      "metadata": {
        "id": "4niDGkXr1f2u"
      },
      "execution_count": null,
      "outputs": []
    },
    {
      "cell_type": "code",
      "metadata": {
        "colab": {
          "base_uri": "https://localhost:8080/"
        },
        "id": "t7qiQRNg20e7",
        "outputId": "e3d542d8-bdbd-4a83-a120-12418a67b8cf"
      },
      "source": [
        "import sqlite3\n",
        "\n",
        "with open('rutul_vowels.csv', 'r', encoding='utf-8') as f:\n",
        "    f = f.readlines()\n",
        "\n",
        "# connecting to the database\n",
        "conn = sqlite3.connect('rutul2.db')\n",
        "\n",
        "# creating a cursor\n",
        "c = conn.cursor()\n",
        "\n",
        "# creating a table\n",
        "c.execute(\"DROP TABLE IF EXISTS rutul\")\n",
        "c.execute(\"CREATE TABLE IF NOT EXISTS rutul(id,word,translation,vowel,stress,syllable)\")\n",
        "\n",
        "for row in f:\n",
        "    row = row.split(',')\n",
        "    c.execute(\"INSERT INTO rutul VALUES (?, ?, ?, ?, ?, ?)\", (row[0], row[1], row[2], row[3], row[4], row[5]))\n",
        "\n",
        "# saving\n",
        "conn.commit()\n",
        "\n",
        "for i in c.execute(\"SELECT * FROM rutul WHERE vowel='ɨˁ' AND stress='no' AND syllable='cv'\"):\n",
        "    print(i)\n",
        "\n",
        "# closing\n",
        "conn.close()"
      ],
      "execution_count": null,
      "outputs": [
        {
          "output_type": "stream",
          "name": "stdout",
          "text": [
            "('10', 'ʁɨˁbar', 'лягушки', 'ɨˁ', 'no', 'cv')\n"
          ]
        }
      ]
    },
    {
      "cell_type": "markdown",
      "metadata": {
        "id": "oZmmv2Id20e9"
      },
      "source": [
        "1. Print all the data, where the vowel is unstressed.\n",
        "2. Print all the data, where the vowel is unstressed and there is no left context."
      ]
    },
    {
      "cell_type": "code",
      "metadata": {
        "colab": {
          "base_uri": "https://localhost:8080/"
        },
        "id": "mUPePXHW20e_",
        "outputId": "3dbf6930-058b-45d9-e342-78f66142f019"
      },
      "source": [
        "import sqlite3\n",
        "\n",
        "with open('rutul_vowels.csv', 'r', encoding='utf-8') as f:\n",
        "    f = f.readlines()\n",
        "\n",
        "# connecting to the database\n",
        "conn = sqlite3.connect('rutul2.db')\n",
        "\n",
        "# creating a cursor\n",
        "c = conn.cursor()\n",
        "\n",
        "# creating a table\n",
        "c.execute(\"DROP TABLE IF EXISTS rutul\")\n",
        "c.execute(\"CREATE TABLE IF NOT EXISTS rutul(id,word,translation,vowel,stress,syllable, left_context)\")\n",
        "\n",
        "for row in f:\n",
        "    row = row.split(',')\n",
        "    c.execute(\"INSERT INTO rutul VALUES (?, ?, ?, ?, ?, ?, ?)\", (row[0], row[1], row[2], row[3], row[4], row[5], row[6]))\n",
        "\n",
        "# saving\n",
        "conn.commit()\n",
        "\n",
        "c.execute('SELECT * FROM rutul WHERE stress=\"no\"')\n",
        "print(c.fetchall())\n",
        "\n",
        "c.execute('SELECT * FROM rutul WHERE stress=\"no\" AND left_context=\"no\"')\n",
        "print(c.fetchall())\n",
        "\n",
        "# closing\n",
        "conn.close()"
      ],
      "execution_count": null,
      "outputs": [
        {
          "output_type": "stream",
          "name": "stdout",
          "text": [
            "[('2', 'eked', 'старший', 'e', 'no', 'cv', 'no\\n'), ('4', 'χuda', 'в кулаке', 'u', 'no', 'cv', 'χ\\n'), ('5', 'ʁuli', 'в окне', 'u', 'no', 'cv', 'ʁ\\n'), ('10', 'ʁɨˁbar', 'лягушки', 'ɨˁ', 'no', 'cv', 'ʁ\\n'), ('11', 'χaˁrad', 'масло', 'aˁ', 'no', 'cv', 'χ\\n'), ('13', 'uˁbra', 'мерка для муки', 'uˁ', 'no', 'cv', 'no')]\n",
            "[('13', 'uˁbra', 'мерка для муки', 'uˁ', 'no', 'cv', 'no')]\n"
          ]
        }
      ]
    },
    {
      "cell_type": "code",
      "metadata": {
        "id": "cy6Fq0xO20fI"
      },
      "source": [
        "# Don't forget!\n",
        "conn.close()"
      ],
      "execution_count": null,
      "outputs": []
    }
  ]
}