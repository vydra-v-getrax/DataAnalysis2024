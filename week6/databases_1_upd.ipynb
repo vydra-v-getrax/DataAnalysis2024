{
  "nbformat": 4,
  "nbformat_minor": 0,
  "metadata": {
    "kernelspec": {
      "display_name": "Python 3",
      "language": "python",
      "name": "python3"
    },
    "language_info": {
      "codemirror_mode": {
        "name": "ipython",
        "version": 3
      },
      "file_extension": ".py",
      "mimetype": "text/x-python",
      "name": "python",
      "nbconvert_exporter": "python",
      "pygments_lexer": "ipython3",
      "version": "3.8.5"
    },
    "colab": {
      "provenance": []
    }
  },
  "cells": [
    {
      "cell_type": "markdown",
      "metadata": {
        "id": "Qyrdu7Qk2_Ne"
      },
      "source": [
        "## Databases\n",
        "\n",
        "**A relational database** organizes data into one or more tables (or \"relations\") of columns and rows, with a unique key identifying each row. A **row** of the table contains data about an object, e.g., a student; the **columns** of the table describe different properties of the corresponding object; they contain attributes, e.g., name, year, specialization. Each column describes a single property of the object and has a fixed datatype. All the rows have the same fields with different values for different objects. Here is a toy example:\n",
        "\n",
        "|Name (string)| Specialization (string)| Year (integer)|\n",
        "| ------------- |-------------:| -----:|\n",
        "|Roman| linguistics| 2|\n",
        "|Masha| linguistics| 2|\n",
        "|Sasha| programming| 1|\n",
        "\n",
        "In a relational database each table has to have a **primary key** — a field or a combination of fields that uniquely identify each row of the table.\n",
        "\n",
        "*Relational tables can be linked with each other*, which means that the data can be extracted from multiple tables. The tables are linked with each other to minimize the size of a database.\n",
        "\n",
        "There are three types of relationships:\n",
        "* one-to-one\n",
        "* one-to-many\n",
        "* many-to-many\n",
        "\n",
        "The **one-to-one** correspondence presupposes that each attribute of the first table corresponds to a single attribute of the second table and vice versa. The **one-to-many** correspondence presupposes that one attribute of the first table corresponds to several attributes of the second table. The **many-to-many** correspondence presupposes that one attribute of the first table corresponds to several attributes of the second table and vice versa.\n",
        "\n",
        "Imagine we want to store information about films.\n",
        "\n",
        "```\n",
        "Ларри Краун | 2011 | Том Хэнкс ...\n",
        "Ларри Краун | 2011 | Джулия Роберт ...\n",
        "Вам письмо | 1998 | Том Хэнкс ...\n",
        "Вам письмо | 1998 | Мэг Райан ...\n",
        "Красотка | 1990 | Джулия Робертс ...\n",
        "Красотка | 1990 | Ричард Гир ...\n",
        "```\n",
        "We could create three tables and link them: actors, films and a table that says that actor X played in film Y. That will allow us not to repeat information multiple times.\n",
        "\n",
        "people (id, name, ...)\n",
        "```\n",
        "1 | Том Хэнкс | ...\n",
        "2 | Джулия Робертс | ...\n",
        "3 | Мэг Райан | ...\n",
        "4 | Ричард Гир | ...\n",
        "```\n",
        "\n",
        "films (id, title, year, ...)\n",
        "```\n",
        "1 | Ларри Краун | 2011 | ...\n",
        "2 | Вам письмо | 1998 | ...\n",
        "3 | Красотка | 1990 | ...\n",
        "```\n",
        "\n",
        "roles (film_id, person_id)\n",
        "```\n",
        "1 | 1\n",
        "1 | 2\n",
        "2 | 1\n",
        "2 | 3\n",
        "3 | 2\n",
        "3 | 4\n",
        "```\n",
        "\n",
        "Easy to store a couple of numbers + easy to change the information: it needs to be changed in just one place."
      ]
    },
    {
      "cell_type": "markdown",
      "metadata": {
        "id": "GdFQihXj2_Nv"
      },
      "source": [
        "To work with a database you will need to use a special program, a **Database Management System**, or **DBMS**. Below I list some DBMSs:\n",
        "\n",
        "* SQLite\n",
        "* MySQL\n",
        "* PostgreSQL\n",
        "* MongoDB\n",
        "* ...\n",
        "\n",
        "## SQL\n",
        "\n",
        "Some of the database management systems have SQL in their names. What does SQL stand for?\n",
        "\n",
        "**SQL** *(Structured Query Language)* is a standard language for accessing and manipulating databases.  SQL can execute queries against a database, can retrieve data from a database, can insert records in a database, can update records in a database, can delete records from a database, can create new databases etc.\n",
        "\n",
        "SQL is a very simple language. We will need a small number of commands for the operations with the data (CREATE, DELETE, DROP, SELECT, INSERT, UPDATE) and commands-restrictors for the formulation of more specific queries (WHERE, IN, AND, OR, NOT, BETWEEN, LIKE, LIMIT, OFFSET). Note that in a query, the word order is fixed: first comes \"what\", then \"where\", then \"how\".\n",
        "\n",
        "You have already worked through the interactive tutorial SQLBolt.\n",
        "\n",
        "SELECT exercises\n",
        "\n",
        "* https://sqlbolt.com/lesson/select_queries_introduction\n",
        "* https://sqlbolt.com/lesson/select_queries_with_joins\n",
        "* https://sqlbolt.com/lesson/select_queries_with_expressions\n",
        "\n",
        "\n",
        "DML exercises\n",
        "\n",
        "* https://sqlbolt.com/lesson/inserting_rows\n",
        "* https://sqlbolt.com/lesson/updating_rows\n",
        "* https://sqlbolt.com/lesson/deleting_rows\n",
        "\n",
        "Creating and deleting tables\n",
        "\n",
        "* https://sqlbolt.com/lesson/creating_tables\n",
        "\n",
        "\n",
        "## Programs to use when working with databases\n",
        "\n",
        "Database is not a text format, you cannot open it with a text editor and examine its contents. To do so, you need to use a special program designed to work with databases. Below I list some of the options:\n",
        "\n",
        "* [MySQL](https://www.mysql.com/)\n",
        "* [PostgreSQL](https://www.postgresql.org/)\n",
        "* [MongoDB](https://www.mongodb.com/)\n",
        "* [Firebird](https://firebirdsql.org/)\n",
        "\n",
        "[Here](https://blog.capterra.com/free-database-software/) you can find a discussion of the pros and cons of the above options.\n",
        "\n",
        "**DBrowser**: https://sqlitebrowser.org/dl/\n",
        "\n",
        "\n",
        "\n",
        "\n"
      ]
    },
    {
      "cell_type": "markdown",
      "metadata": {
        "id": "Q8yO6hO72_N-"
      },
      "source": [
        "# IMDB\n",
        "\n",
        "Let's look at the IMDB database.\n",
        "\n",
        "[Download here](https://yadi.sk/d/GOxdLhob7et7Hw?w=1)\n",
        "\n",
        "<img src=\"img/imdb_schema.png\">"
      ]
    },
    {
      "cell_type": "markdown",
      "metadata": {
        "id": "G-mBnYXu2_OU"
      },
      "source": [
        "**SELECT**\n"
      ]
    },
    {
      "cell_type": "markdown",
      "metadata": {
        "id": "5gOExCn42_OX"
      },
      "source": [
        "``` mysql\n",
        "SELECT * FROM titles\n",
        "```"
      ]
    },
    {
      "cell_type": "markdown",
      "metadata": {
        "id": "U_Aj6Bxq2_Or"
      },
      "source": [
        "``` mysql\n",
        "SELECT * FROM titles LIMIT 10\n",
        "```"
      ]
    },
    {
      "cell_type": "markdown",
      "metadata": {
        "id": "qZcbl09D2_O7"
      },
      "source": [
        "``` mysql\n",
        "SELECT *\n",
        "FROM titles\n",
        "WHERE premiered >= 2019\n",
        "LIMIT 50\n",
        "```"
      ]
    },
    {
      "cell_type": "markdown",
      "metadata": {
        "id": "e6aKmJVS2_PG"
      },
      "source": [
        "``` mysql\n",
        "SELECT *\n",
        "FROM titles\n",
        "    JOIN film_types ON titles.type = film_types.id\n",
        "WHERE premiered >= 2019\n",
        "LIMIT 50\n",
        "```"
      ]
    },
    {
      "cell_type": "markdown",
      "metadata": {
        "id": "bLRKT-jH2_PP"
      },
      "source": [
        "```mysql\n",
        "SELECT *\n",
        "FROM titles\n",
        "    JOIN film_genres ON titles.title_id = film_genres.title_id\n",
        "    JOIN genre_types ON film_genres.genre_id = genre_types.id\n",
        "WHERE premiered >= 2019\n",
        "LIMIT 50\n",
        "```"
      ]
    },
    {
      "cell_type": "markdown",
      "metadata": {
        "id": "DbxbYlnG2_Pa"
      },
      "source": [
        "``` mysql\n",
        "SELECT *\n",
        "FROM titles\n",
        "    JOIN film_genres ON titles.title_id = film_genres.title_id\n",
        "    JOIN genre_types ON film_genres.genre_id = genre_types.id\n",
        "WHERE premiered >= 2019 AND genre_name = \"Comedy\"\n",
        "LIMIT 50\n",
        "```"
      ]
    },
    {
      "cell_type": "markdown",
      "metadata": {
        "id": "9Of1CrvB2_Pg"
      },
      "source": [
        "``` mysql\n",
        "SELECT *\n",
        "FROM titles\n",
        "    JOIN crew ON titles.title_id = crew.title_id\n",
        "    JOIN people ON crew.person_id = people.person_id\n",
        "WHERE name = \"Tom Hanks\"\n",
        "ORDER BY premiered DESC\n",
        "```"
      ]
    },
    {
      "cell_type": "markdown",
      "metadata": {
        "id": "wl0LFm1f2_Pj"
      },
      "source": [
        "``` mysql\n",
        "SELECT title, premiered\n",
        "FROM titles\n",
        "    JOIN crew ON titles.title_id = crew.title_id\n",
        "    JOIN people ON crew.person_id = people.person_id\n",
        "WHERE name = \"Tom Hanks\"\n",
        "ORDER BY premiered DESC\n",
        "```"
      ]
    },
    {
      "cell_type": "markdown",
      "metadata": {
        "id": "TyUD3gNH2_Pl"
      },
      "source": [
        "``` mysql\n",
        "CREATE TABLE mytable (\n",
        "    field1 text,\n",
        "    field2 text,\n",
        "    field3 integer,\n",
        "    PRIMARY KEY (field1, field2)\n",
        ");\n",
        "```"
      ]
    },
    {
      "cell_type": "markdown",
      "metadata": {
        "id": "lQCOVGFr2_Po"
      },
      "source": [
        "``` mysql\n",
        "SELECT *\n",
        "FROM titles\n",
        "JOIN crew ON titles.title_id = crew.title_id\n",
        "JOIN people ON crew.person_id = people.person_id\n",
        "WHERE premiered >= 2019\n",
        "LIMIT 50\n",
        "```"
      ]
    },
    {
      "cell_type": "markdown",
      "metadata": {
        "id": "prruduOs2_Pq"
      },
      "source": [
        "``` mysql\n",
        "CREATE INDEX crew_title ON crew (title_id);\n",
        "CREATE INDEX crew_person ON crew (person_id);\n",
        "```"
      ]
    },
    {
      "cell_type": "markdown",
      "metadata": {
        "id": "773IxCzl2_Pu"
      },
      "source": [
        "``` mysql\n",
        "SELECT name, title, premiered, rating\n",
        "FROM titles\n",
        "    JOIN crew ON titles.title_id = crew.title_id\n",
        "    JOIN people ON crew.person_id = people.person_id\n",
        "\tJOIN rating ON titles.title_id = rating.title_id\n",
        "WHERE name IN (\"Tom Hanks\", \"Julia Roberts\", \"Natalie Portman\")\n",
        "```"
      ]
    },
    {
      "cell_type": "markdown",
      "metadata": {
        "id": "LFGOLTPi2_Pw"
      },
      "source": [
        "``` mysql\n",
        "SELECT\n",
        "    name,\n",
        "    MAX(rating) as max_rating, -- maximum\n",
        "    MIN(rating) as min_rating, -- minimum\n",
        "    AVG(rating) as average_rating, -- average\n",
        "    COUNT(titles.title_id) as n_films -- counting the number of films\n",
        "FROM titles\n",
        "    JOIN crew ON titles.title_id = crew.title_id\n",
        "    JOIN people ON crew.person_id = people.person_id\n",
        "    JOIN rating ON titles.title_id = rating.title_id\n",
        "WHERE name IN (\"Tom Hanks\", \"Julia Roberts\", \"Natalie Portman\")\n",
        "GROUP BY name\n",
        "ORDER BY average_rating DESC\n",
        "```"
      ]
    },
    {
      "cell_type": "markdown",
      "metadata": {
        "id": "XMx2B0jM2_P5"
      },
      "source": [
        "``` mysql\n",
        "SELECT\n",
        "    name,\n",
        "    MAX(rating) as max_rating, -- maximum\n",
        "    MIN(rating) as min_rating, -- minimum\n",
        "    ROUND(AVG(rating), 2) as average_rating, -- average\n",
        "    COUNT(titles.title_id) as n_films -- counting the number of films\n",
        "FROM titles\n",
        "    JOIN crew ON titles.title_id = crew.title_id\n",
        "    JOIN people ON crew.person_id = people.person_id\n",
        "    JOIN rating ON titles.title_id = rating.title_id\n",
        "WHERE name IN (\"Tom Hanks\", \"Julia Roberts\", \"Natalie Portman\")\n",
        "GROUP BY name\n",
        "ORDER BY average_rating DESC\n",
        "```"
      ]
    }
  ]
}