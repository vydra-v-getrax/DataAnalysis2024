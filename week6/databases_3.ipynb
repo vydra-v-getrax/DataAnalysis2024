{
  "nbformat": 4,
  "nbformat_minor": 0,
  "metadata": {
    "kernelspec": {
      "display_name": "Python 3",
      "language": "python",
      "name": "python3"
    },
    "language_info": {
      "codemirror_mode": {
        "name": "ipython",
        "version": 3
      },
      "file_extension": ".py",
      "mimetype": "text/x-python",
      "name": "python",
      "nbconvert_exporter": "python",
      "pygments_lexer": "ipython3",
      "version": "3.8.5"
    },
    "colab": {
      "name": "databases_3.ipynb",
      "provenance": []
    }
  },
  "cells": [
    {
      "cell_type": "markdown",
      "metadata": {
        "id": "KpwuqP2s3G7E"
      },
      "source": [
        "# Practice -- working with databases in Python"
      ]
    },
    {
      "cell_type": "code",
      "metadata": {
        "id": "mCM6KvwC3G7Z"
      },
      "source": [
        "import sqlite3\n",
        "import pandas as pd"
      ],
      "execution_count": 13,
      "outputs": []
    },
    {
      "cell_type": "code",
      "metadata": {
        "id": "qI7UjlTi3G7i"
      },
      "source": [
        "con = sqlite3.connect('imdb_small_indexed.db')  # connecting\n",
        "cur = con.cursor()  # cursor"
      ],
      "execution_count": 14,
      "outputs": []
    },
    {
      "cell_type": "code",
      "metadata": {
        "id": "xxe4zv1b3G7p"
      },
      "source": [
        "tom_hanks_query = \"\"\"\n",
        "SELECT title, premiered\n",
        "FROM titles \n",
        "    JOIN crew ON titles.title_id = crew.title_id\n",
        "    JOIN people ON crew.person_id = people.person_id\n",
        "WHERE name = \"Tom Hanks\"\n",
        "ORDER BY premiered DESC\n",
        "LIMIT 5\n",
        "\"\"\""
      ],
      "execution_count": 20,
      "outputs": []
    },
    {
      "cell_type": "markdown",
      "metadata": {
        "id": "bZCLhdkA3G7x"
      },
      "source": [
        "**option 1**: get everything at once"
      ]
    },
    {
      "cell_type": "code",
      "metadata": {
        "colab": {
          "base_uri": "https://localhost:8080/"
        },
        "id": "G7l3Q-2J3G70",
        "outputId": "4fb6e63b-e785-4cf6-a94d-1a7428319aad"
      },
      "source": [
        "cur.fetchall()"
      ],
      "execution_count": 19,
      "outputs": [
        {
          "output_type": "execute_result",
          "data": {
            "text/plain": [
              "[('BIOS', 2021),\n",
              " ('Untitled Elvis Presley Project', 2021),\n",
              " ('Borat Subsequent Moviefilm', 2020),\n",
              " ('Greyhound', 2020)]"
            ]
          },
          "metadata": {},
          "execution_count": 19
        }
      ]
    },
    {
      "cell_type": "markdown",
      "metadata": {
        "id": "H0GMIppc3G79"
      },
      "source": [
        "A list of tuples is returned.\n",
        "\n",
        "**option 2**: only one "
      ]
    },
    {
      "cell_type": "code",
      "metadata": {
        "colab": {
          "base_uri": "https://localhost:8080/"
        },
        "id": "vgu-4nDj3G8A",
        "outputId": "cf72eda2-25e0-43ad-ffab-240ded9d324b"
      },
      "source": [
        "cur.execute(tom_hanks_query)\n",
        "cur.fetchone()"
      ],
      "execution_count": 18,
      "outputs": [
        {
          "output_type": "execute_result",
          "data": {
            "text/plain": [
              "('Untitled Elvis Presley Project', 2021)"
            ]
          },
          "metadata": {},
          "execution_count": 18
        }
      ]
    },
    {
      "cell_type": "markdown",
      "metadata": {
        "id": "ZbeVFJ8B3G8F"
      },
      "source": [
        "Iterating using fetchone\n",
        "\n"
      ]
    },
    {
      "cell_type": "code",
      "metadata": {
        "id": "6QaaI42O3G8H"
      },
      "source": [
        "while True:\n",
        "    result = cur.fetchone()\n",
        "    if result is not None:\n",
        "        print(result)\n",
        "    else:\n",
        "        break"
      ],
      "execution_count": 23,
      "outputs": []
    },
    {
      "cell_type": "markdown",
      "metadata": {
        "id": "dSlZ9D7h3G8J"
      },
      "source": [
        "**option 3**: a portion"
      ]
    },
    {
      "cell_type": "code",
      "metadata": {
        "colab": {
          "base_uri": "https://localhost:8080/"
        },
        "id": "Orm_YC-u3G8K",
        "outputId": "041698f4-036b-4af7-d365-b8eb60b0dd27"
      },
      "source": [
        "cur.execute(tom_hanks_query)\n",
        "while True:\n",
        "    result = cur.fetchmany(2)\n",
        "    if len(result) > 0:\n",
        "        print(result)\n",
        "    else:\n",
        "        break"
      ],
      "execution_count": 22,
      "outputs": [
        {
          "output_type": "stream",
          "name": "stdout",
          "text": [
            "[('Untitled Elvis Presley Project', 2021), ('BIOS', 2021)]\n",
            "[('Untitled Elvis Presley Project', 2021), ('Borat Subsequent Moviefilm', 2020)]\n",
            "[('Greyhound', 2020)]\n"
          ]
        }
      ]
    },
    {
      "cell_type": "markdown",
      "metadata": {
        "id": "ZIj8wpnQ3G8O"
      },
      "source": [
        "### Problem 1\n",
        "\n",
        "Select all the films after 2000, where your favourite actor or actrice is playing. Print all the results."
      ]
    },
    {
      "cell_type": "code",
      "metadata": {
        "id": "1n7GoJGPb7uD"
      },
      "source": [
        "# Your code here"
      ],
      "execution_count": null,
      "outputs": []
    },
    {
      "cell_type": "markdown",
      "metadata": {
        "id": "ZYpBvJEE3G8T"
      },
      "source": [
        "## Using variables \n",
        "\n"
      ]
    },
    {
      "cell_type": "code",
      "metadata": {
        "id": "-X74jPms3G8V"
      },
      "source": [
        "name = \"Natalie Portman\"\n",
        "genre = \"Comedy\""
      ],
      "execution_count": 24,
      "outputs": []
    },
    {
      "cell_type": "code",
      "metadata": {
        "id": "JyliNsT33G8X"
      },
      "source": [
        "act_genre_query = \"\"\"\n",
        "SELECT title, premiered\n",
        "FROM titles \n",
        "    JOIN crew ON titles.title_id = crew.title_id\n",
        "    JOIN people ON crew.person_id = people.person_id\n",
        "    JOIN film_genres ON titles.title_id = film_genres.title_id\n",
        "    JOIN genre_types ON film_genres.genre_id = genre_types.id\n",
        "WHERE name = ? AND genre_name = ? AND premiered IS NOT NULL\n",
        "ORDER BY premiered DESC\n",
        "\"\"\""
      ],
      "execution_count": 25,
      "outputs": []
    },
    {
      "cell_type": "code",
      "metadata": {
        "colab": {
          "base_uri": "https://localhost:8080/"
        },
        "id": "IDCMmG_L3G8Z",
        "outputId": "955a6efd-0d52-4a7d-c1b0-6608ea82e5a6"
      },
      "source": [
        "cur.execute(act_genre_query, (name, genre))\n",
        "cur.fetchall()"
      ],
      "execution_count": 26,
      "outputs": [
        {
          "output_type": "execute_result",
          "data": {
            "text/plain": [
              "[('Your Highness', 2011),\n",
              " ('No Strings Attached', 2011),\n",
              " ('Hesher', 2010),\n",
              " ('New York, I Love You', 2008),\n",
              " ('Between Two Ferns with Zach Galifianakis', 2008),\n",
              " (\"Mr. Magorium's Wonder Emporium\", 2007),\n",
              " ('Free Zone', 2005),\n",
              " ('Garden State', 2004),\n",
              " ('Where the Heart Is', 2000),\n",
              " ('Anywhere But Here', 1999)]"
            ]
          },
          "metadata": {},
          "execution_count": 26
        }
      ]
    },
    {
      "cell_type": "markdown",
      "metadata": {
        "id": "unZbu4_D3G8c"
      },
      "source": [
        "### Problem 2\n",
        "\n",
        "Write a function that takes a type of film, genre, rating and returns the films that were rated by more than 100 000 people and with a rating higher than your specified number."
      ]
    },
    {
      "cell_type": "code",
      "metadata": {
        "id": "bByIwdzpcAki"
      },
      "source": [
        "# Your code goes here"
      ],
      "execution_count": null,
      "outputs": []
    },
    {
      "cell_type": "markdown",
      "metadata": {
        "id": "qXC2ftax3G8i"
      },
      "source": [
        "### SQL and pandas\n",
        "\n"
      ]
    },
    {
      "cell_type": "code",
      "metadata": {
        "colab": {
          "base_uri": "https://localhost:8080/",
          "height": 363
        },
        "id": "o6XCi1kw3G8k",
        "outputId": "118dfc22-2671-4564-9cce-cb30e313828a"
      },
      "source": [
        "df = pd.read_sql_query(act_genre_query, params = [name, genre], con=con)\n",
        "df"
      ],
      "execution_count": 27,
      "outputs": [
        {
          "output_type": "execute_result",
          "data": {
            "text/html": [
              "<div>\n",
              "<style scoped>\n",
              "    .dataframe tbody tr th:only-of-type {\n",
              "        vertical-align: middle;\n",
              "    }\n",
              "\n",
              "    .dataframe tbody tr th {\n",
              "        vertical-align: top;\n",
              "    }\n",
              "\n",
              "    .dataframe thead th {\n",
              "        text-align: right;\n",
              "    }\n",
              "</style>\n",
              "<table border=\"1\" class=\"dataframe\">\n",
              "  <thead>\n",
              "    <tr style=\"text-align: right;\">\n",
              "      <th></th>\n",
              "      <th>title</th>\n",
              "      <th>premiered</th>\n",
              "    </tr>\n",
              "  </thead>\n",
              "  <tbody>\n",
              "    <tr>\n",
              "      <th>0</th>\n",
              "      <td>Your Highness</td>\n",
              "      <td>2011</td>\n",
              "    </tr>\n",
              "    <tr>\n",
              "      <th>1</th>\n",
              "      <td>No Strings Attached</td>\n",
              "      <td>2011</td>\n",
              "    </tr>\n",
              "    <tr>\n",
              "      <th>2</th>\n",
              "      <td>Hesher</td>\n",
              "      <td>2010</td>\n",
              "    </tr>\n",
              "    <tr>\n",
              "      <th>3</th>\n",
              "      <td>New York, I Love You</td>\n",
              "      <td>2008</td>\n",
              "    </tr>\n",
              "    <tr>\n",
              "      <th>4</th>\n",
              "      <td>Between Two Ferns with Zach Galifianakis</td>\n",
              "      <td>2008</td>\n",
              "    </tr>\n",
              "    <tr>\n",
              "      <th>5</th>\n",
              "      <td>Mr. Magorium's Wonder Emporium</td>\n",
              "      <td>2007</td>\n",
              "    </tr>\n",
              "    <tr>\n",
              "      <th>6</th>\n",
              "      <td>Free Zone</td>\n",
              "      <td>2005</td>\n",
              "    </tr>\n",
              "    <tr>\n",
              "      <th>7</th>\n",
              "      <td>Garden State</td>\n",
              "      <td>2004</td>\n",
              "    </tr>\n",
              "    <tr>\n",
              "      <th>8</th>\n",
              "      <td>Where the Heart Is</td>\n",
              "      <td>2000</td>\n",
              "    </tr>\n",
              "    <tr>\n",
              "      <th>9</th>\n",
              "      <td>Anywhere But Here</td>\n",
              "      <td>1999</td>\n",
              "    </tr>\n",
              "  </tbody>\n",
              "</table>\n",
              "</div>"
            ],
            "text/plain": [
              "                                      title  premiered\n",
              "0                             Your Highness       2011\n",
              "1                       No Strings Attached       2011\n",
              "2                                    Hesher       2010\n",
              "3                      New York, I Love You       2008\n",
              "4  Between Two Ferns with Zach Galifianakis       2008\n",
              "5            Mr. Magorium's Wonder Emporium       2007\n",
              "6                                 Free Zone       2005\n",
              "7                              Garden State       2004\n",
              "8                        Where the Heart Is       2000\n",
              "9                         Anywhere But Here       1999"
            ]
          },
          "metadata": {},
          "execution_count": 27
        }
      ]
    },
    {
      "cell_type": "markdown",
      "metadata": {
        "id": "LvyimrVt3G8l"
      },
      "source": [
        "### Problem 3\n",
        "\n",
        "Rework problem 2 so that the data is in a dataframe format: title, rating, premiered"
      ]
    },
    {
      "cell_type": "code",
      "metadata": {
        "id": "rMKG5vBqcFjJ"
      },
      "source": [
        "# Your code goes here"
      ],
      "execution_count": null,
      "outputs": []
    },
    {
      "cell_type": "markdown",
      "metadata": {
        "id": "uEqbaUt-3G80"
      },
      "source": [
        "## Creating your own tables\n",
        "\n",
        "Use ```CREATE```\n",
        "\n",
        "The template:\n",
        "\n",
        "``` sql\n",
        "CREATE TABLE table_name (column1 INT, column2 TEXT)\n",
        "```"
      ]
    },
    {
      "cell_type": "code",
      "metadata": {
        "colab": {
          "base_uri": "https://localhost:8080/"
        },
        "id": "uX_ncE7i3G82",
        "outputId": "d3b92fa2-c2ec-4934-f3e9-a92ed28133fd"
      },
      "source": [
        "cur.execute(\"\"\"\n",
        "CREATE TABLE new_comedies (\n",
        "    title_id INT, \n",
        "    title TEXT, \n",
        "    premiered INT,\n",
        "    rating REAL,\n",
        "    PRIMARY KEY (title_id)\n",
        ")\n",
        "\"\"\")"
      ],
      "execution_count": 28,
      "outputs": [
        {
          "output_type": "execute_result",
          "data": {
            "text/plain": [
              "<sqlite3.Cursor at 0x7f38ee9d35e0>"
            ]
          },
          "metadata": {},
          "execution_count": 28
        }
      ]
    },
    {
      "cell_type": "markdown",
      "metadata": {
        "id": "xPA0ml9s3G83"
      },
      "source": [
        "To save:"
      ]
    },
    {
      "cell_type": "code",
      "metadata": {
        "id": "41zasmh63G85"
      },
      "source": [
        "con.commit()"
      ],
      "execution_count": null,
      "outputs": []
    },
    {
      "cell_type": "markdown",
      "metadata": {
        "id": "NPNUl2ol3G87"
      },
      "source": [
        "Bafore you do the commit, you can rollback to the previously saved version:"
      ]
    },
    {
      "cell_type": "code",
      "metadata": {
        "id": "Wf-Z8Qwo3G8-"
      },
      "source": [
        "con.rollback()"
      ],
      "execution_count": null,
      "outputs": []
    },
    {
      "cell_type": "code",
      "metadata": {
        "id": "7zysNIAc3G9B"
      },
      "source": [
        "new_comedies_query = \"\"\"\n",
        "SELECT titles.title_id, title, premiered, rating\n",
        "FROM titles\n",
        "    JOIN film_genres ON film_genres.title_id = titles.title_id\n",
        "    JOIN genre_types ON film_genres.genre_id = genre_types.id\n",
        "    JOIN rating ON titles.title_id = rating.title_id\n",
        "WHERE genre_types.genre_name = \"Comedy\" AND titles.premiered > 2019 AND titles.premiered < 2021\n",
        "\"\"\""
      ],
      "execution_count": 29,
      "outputs": []
    },
    {
      "cell_type": "code",
      "metadata": {
        "colab": {
          "base_uri": "https://localhost:8080/"
        },
        "id": "huTmmVF53G9D",
        "outputId": "60151e09-5179-4c13-98a5-7e96769aca1c"
      },
      "source": [
        "cur.execute(new_comedies_query)\n",
        "data = cur.fetchall()\n",
        "\n",
        "data[:5]"
      ],
      "execution_count": 30,
      "outputs": [
        {
          "output_type": "execute_result",
          "data": {
            "text/plain": [
              "[(446792, 'Surviving in L.A.', 2020, 8.1),\n",
              " (805647, 'The Witches', 2020, 5.2),\n",
              " (10004368, 'Jak najdalej stad', 2020, 7.2),\n",
              " (10006418, 'Avocado Toast the series', 2020, 7.3),\n",
              " (10023150, 'My Cousin', 2020, 5.8)]"
            ]
          },
          "metadata": {},
          "execution_count": 30
        }
      ]
    },
    {
      "cell_type": "markdown",
      "metadata": {
        "id": "fJL0vjyt3G9F"
      },
      "source": [
        "To add something into a table, use ```INSERT```:"
      ]
    },
    {
      "cell_type": "code",
      "metadata": {
        "id": "VDJKo5bW3G9H"
      },
      "source": [
        "cur.executemany(\"INSERT INTO new_comedies VALUES (?, ?, ?, ?)\", data)\n",
        "con.commit()"
      ],
      "execution_count": 31,
      "outputs": []
    },
    {
      "cell_type": "markdown",
      "metadata": {
        "id": "q-MhWnzw3G9J"
      },
      "source": [
        "## Deleting data"
      ]
    },
    {
      "cell_type": "markdown",
      "metadata": {
        "id": "fvSoMMhg3G9L"
      },
      "source": [
        "Let's say that we want to delete all the films that start with a B."
      ]
    },
    {
      "cell_type": "code",
      "metadata": {
        "colab": {
          "base_uri": "https://localhost:8080/"
        },
        "id": "O9KxF2Mb3G9M",
        "outputId": "94df76f8-7b33-4710-eeb7-85ede72dd7fe"
      },
      "source": [
        "cur.execute(\"SELECT COUNT(title_id) FROM new_comedies WHERE title LIKE 'B%'\")\n",
        "cur.fetchall()"
      ],
      "execution_count": 32,
      "outputs": [
        {
          "output_type": "execute_result",
          "data": {
            "text/plain": [
              "[(73,)]"
            ]
          },
          "metadata": {},
          "execution_count": 32
        }
      ]
    },
    {
      "cell_type": "code",
      "metadata": {
        "id": "ZQwy6UFV3G9P"
      },
      "source": [
        "cur.execute(\"DELETE FROM new_comedies WHERE title LIKE 'B%'\")\n",
        "con.commit()"
      ],
      "execution_count": 33,
      "outputs": []
    },
    {
      "cell_type": "code",
      "metadata": {
        "colab": {
          "base_uri": "https://localhost:8080/"
        },
        "id": "8I4CQmmV3G9R",
        "outputId": "157eeee4-1070-4ab6-8590-cd6ecf3236c6"
      },
      "source": [
        "cur.execute(\"SELECT COUNT(title_id) FROM new_comedies WHERE title LIKE 'B%'\")\n",
        "cur.fetchall()"
      ],
      "execution_count": 34,
      "outputs": [
        {
          "output_type": "execute_result",
          "data": {
            "text/plain": [
              "[(0,)]"
            ]
          },
          "metadata": {},
          "execution_count": 34
        }
      ]
    },
    {
      "cell_type": "markdown",
      "metadata": {
        "id": "jWCQZlM_3G9T"
      },
      "source": [
        "To delete the whole table, use ```DROP```. To avoid an error if such a table does not exist, use ```IF EXISTS```:"
      ]
    },
    {
      "cell_type": "code",
      "metadata": {
        "id": "-G2fmuCh3G9V"
      },
      "source": [
        "cur.execute(\"DROP TABLE IF EXISTS new_comedies\")\n",
        "con.commit()"
      ],
      "execution_count": 35,
      "outputs": []
    },
    {
      "cell_type": "markdown",
      "metadata": {
        "id": "dmo1bDB73G9W"
      },
      "source": [
        "## Other functions\n",
        "\n",
        "+ ```GROUP_CONCAT``` -- joins the data\n",
        "\n",
        "+ ```HAVING``` -- for filtering the data\n",
        "\n",
        "\n",
        "**Top-10 films based on their rating, where there are exactly two genres and 100 000 votes**\n"
      ]
    },
    {
      "cell_type": "code",
      "metadata": {
        "colab": {
          "base_uri": "https://localhost:8080/"
        },
        "id": "KzBkC31K3G9X",
        "outputId": "ab71b773-d090-411f-9550-387a4a068e44"
      },
      "source": [
        "cur.execute(\"\"\"\n",
        "SELECT title, premiered, COUNT(film_genres.genre_id) as n_genres, rating, votes, GROUP_CONCAT(genre_name, ', ')\n",
        "FROM titles\n",
        "    JOIN film_genres ON titles.title_id = film_genres.title_id\n",
        "    JOIN genre_types ON film_genres.genre_id = genre_types.id\n",
        "    JOIN rating ON titles.title_id = rating.title_id\n",
        "WHERE rating.votes > 100000\n",
        "GROUP BY titles.title_id\n",
        "HAVING n_genres = 2\n",
        "ORDER BY rating DESC, votes DESC\n",
        "LIMIT 10\n",
        "\"\"\")\n",
        "cur.fetchall()"
      ],
      "execution_count": 36,
      "outputs": [
        {
          "output_type": "execute_result",
          "data": {
            "text/plain": [
              "[('The Godfather', 1972, 2, 9.2, 1585284, 'Crime, Drama'),\n",
              " ('The Sopranos', 1999, 2, 9.2, 290309, 'Crime, Drama'),\n",
              " ('The Godfather: Part II', 1974, 2, 9.0, 1107605, 'Crime, Drama'),\n",
              " ('Pulp Fiction', 1994, 2, 8.9, 1793495, 'Crime, Drama'),\n",
              " ('Friends', 1994, 2, 8.9, 794054, 'Comedy, Romance'),\n",
              " ('12 Angry Men', 1957, 2, 8.9, 674893, 'Crime, Drama'),\n",
              " ('Forrest Gump', 1994, 2, 8.8, 1769908, 'Drama, Romance'),\n",
              " ('Peaky Blinders', 2013, 2, 8.8, 316333, 'Crime, Drama'),\n",
              " ('Freaks and Geeks', 1999, 2, 8.8, 126761, 'Comedy, Drama'),\n",
              " ('The Matrix', 1999, 2, 8.7, 1644392, 'Action, Sci-Fi')]"
            ]
          },
          "metadata": {},
          "execution_count": 36
        }
      ]
    },
    {
      "cell_type": "markdown",
      "metadata": {
        "id": "TDLf8ria3G9a"
      },
      "source": [
        "### Problem 4\n",
        "\n",
        "Select a couple of actors, create a table with year, rating, genres and your selected actors. You can edit the code below:"
      ]
    },
    {
      "cell_type": "markdown",
      "metadata": {
        "id": "9zDfZn3H3G9c"
      },
      "source": [
        "``` sql\n",
        "SELECT \n",
        "    ...\n",
        "    COUNT(...) as n_my_actors,\n",
        "    GROUP_CONCAT(...) as my_actors\n",
        "FROM titles \n",
        "    ...\n",
        "WHERE name IN (...)\n",
        "GROUP BY titles.title_id\n",
        "HAVING n_my_actors > 1\n",
        "ORDER BY n_my_actors, premiered DESC\n",
        "```"
      ]
    },
    {
      "cell_type": "code",
      "metadata": {
        "id": "3CkGnBiocKdb"
      },
      "source": [
        "# Your code goes here"
      ],
      "execution_count": null,
      "outputs": []
    }
  ]
}