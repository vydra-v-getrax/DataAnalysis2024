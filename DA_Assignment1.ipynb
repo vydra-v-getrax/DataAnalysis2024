{
  "cells": [
    {
      "cell_type": "markdown",
      "metadata": {
        "id": "Be5GO3natRSF"
      },
      "source": [
        "## Assignment 1\n",
        "\n",
        "Please send an .ipynb file, a .py file or a link to a public github repository with your file to daschapopowa@gmail.com\n",
        "\n",
        "##### Due Sept 28th, 21:00, for max. 8 points\n",
        "\n",
        "##### 2 bonus points if completed in-class, Sept 21st, by 21:00\n",
        "\n",
        "##### 6 points max. for late submission, Oct 5th, by 21:00"
      ]
    },
    {
      "cell_type": "markdown",
      "metadata": {
        "id": "ReLs3MNVtRSK"
      },
      "source": [
        "1. **CVC syllables generator -- 1 point**\n",
        "\n",
        "Write a program that generates CVC syllables using `vowels = 'aeiou'` and `consonants = 'ptkbdg'`, but excludes cases where the two consonants are the same. That is, we do not want items like *dod* or *bab*."
      ]
    },
    {
      "cell_type": "markdown",
      "metadata": {
        "id": "GHOE8DmvtRSM"
      },
      "source": [
        "2. **Define a proper title case function -- 0.5 point**\n",
        "\n",
        "Try to do a better job of getting title case.  For example, \"the cat in the hat\".title() ==> \"The Cat In The Hat\", but we want \"The Cat in the Hat\""
      ]
    },
    {
      "cell_type": "code",
      "execution_count": null,
      "metadata": {
        "id": "A5J4bn-ytRSP"
      },
      "outputs": [],
      "source": [
        "def proper_title_case(s):\n",
        "    nocaps = [\"the\", \"in\", \"on\", \"a\", \"an\"] # This needs to be extended.\n",
        "    #Your code goes below this comment\n",
        "    return #here goes what you want the function to return\n",
        "print(proper_title_case('An ant on a table'))#to test your function\n",
        "print(proper_title_case('The Cat In the Hat'))#to test your function"
      ]
    },
    {
      "cell_type": "markdown",
      "metadata": {
        "id": "V518C_jitRST"
      },
      "source": [
        "3. **Write the function `mean` -- 0.5 point**\n",
        "\n",
        "Complete the function `mean` for calculating the mean (average) of a\n",
        "list of numeric values.  Your function should take a list `vals` as its\n",
        "argument and return a float.  Keep in mind that `vals` might contain int\n",
        "values.\n",
        "Consider doing it with the in-line function `sum`, which facilitates a fast and readable one-line version of the function."
      ]
    },
    {
      "cell_type": "code",
      "execution_count": null,
      "metadata": {
        "id": "_RVoxmwttRSY"
      },
      "outputs": [],
      "source": [
        "def mean(vals):\n",
        "    \"\"\"Return the mean of the values in vals, presupposed to be\n",
        "    numeric (float, int, or long).\"\"\"\n",
        "    return #here goes what you want the function to return\n",
        "\n",
        "print(mean([1,5,1.1]))#to test your function"
      ]
    },
    {
      "cell_type": "markdown",
      "metadata": {
        "id": "kpaRj-lztRSb"
      },
      "source": [
        "4. **Write the function `standard deviation` -- 0.5 point**\n",
        "\n",
        "Complete the function `sd` for calculating the standard deviation of a\n",
        "list of numeric values.  Your function should take a list `vals` as its\n",
        "value and return a float.  Keep in mind that `vals` might contain int\n",
        "values. For details on calculating the standard deviation, see\n",
        "http://en.wikipedia.org/wiki/Standard_deviation\n",
        "\n",
        "I suggest using `float(len(vals)-1)` for the denominator, but\n",
        "`float(len(vals))` is fine.\n",
        "To get the square root of a float `x`, use `math.sqrt(x)`"
      ]
    },
    {
      "cell_type": "code",
      "execution_count": null,
      "metadata": {
        "id": "gAAgGxKQtRSe"
      },
      "outputs": [],
      "source": [
        "import math\n",
        "\n",
        "def sd(vals):\n",
        "    \"\"\"Return the standard deviation of the values in vals,\n",
        "    presupposed to be numeric (float, int).\"\"\"\n",
        "    #Your code goes below this comment, use the mean fuction defined in the previous task\n",
        "    return #here goes what you want the function to return\n",
        "\n",
        "print(sd([0,1,2]))#to test your function"
      ]
    },
    {
      "cell_type": "markdown",
      "metadata": {
        "id": "V4UtVJdZtRSg"
      },
      "source": [
        "5.1. **Basic CSV parser -- 2 points**.\n",
        "\n",
        "Complete the following function for turning the str\n",
        "`myspreadsheet` into a 10x3 matrix of data.  I should emphasize that the\n",
        "top line of `myspreadsheet` is not part of the data.  It's just there to\n",
        "help us out.\n",
        "Column 0 of your data should be int values.\n",
        "Column 1 of your data should be float values."
      ]
    },
    {
      "cell_type": "code",
      "execution_count": null,
      "metadata": {
        "id": "NxaJLg_CtRSj"
      },
      "outputs": [],
      "source": [
        "myspreadsheet =\"\"\"Subject,Height,Occupation\n",
        "1,74.37000326528938,Psychologist\n",
        "2,67.49686206937491,Psychologist\n",
        "3,74.92356434760966,Psychologist\n",
        "4,64.62372198999978,Psychologist\n",
        "5,67.76787900026083,Linguist\n",
        "6,61.50397707923559,Psychologist\n",
        "7,62.73680961908566,Psychologist\n",
        "8,68.60803984763902,Linguist\n",
        "9,70.16090500135535,Psychologist\n",
        "10,76.81144438287173,Linguist\"\"\"\n",
        "\n",
        "def csv_parser(s):\n",
        "    \"\"\"Parses the string s into lines, and then parses those lines by\n",
        "    splitting on the comma and converting the numerical data to int.\n",
        "    The output is a list of lists of subject data.\"\"\"\n",
        "    #Your code goes below this comment\n",
        "    # Data is our output. It will be a list of lists.\n",
        "\n",
        "    # Split csv into lines and store them in a list called 'lines'.\n",
        "\n",
        "    # Remove the first element from lines, so that you have only the data lines left.\n",
        "\n",
        "\n",
        "    # At this stage, we loop through the list called lines.\n",
        "    # As you loop\n",
        "    #     i. split each line on the commas;\n",
        "    #    ii. convert the Subject variable to int.\n",
        "    #   iii. convert the Height variable to float.\n",
        "    #    iv. add to data a list consisting of this line's Subject, Height, and Occupation values\n",
        "\n",
        "    return #here goes what you want the function to return\n",
        "print(csv_parser(myspreadsheet))#to test your function"
      ]
    },
    {
      "cell_type": "markdown",
      "metadata": {
        "id": "uWtU8lqztRSk"
      },
      "source": [
        "5.2. **The mean height -- 2 points**\n",
        "\n",
        "Complete the following function for computing the mean height of the\n",
        "subjects in this data set, using your mean function from above."
      ]
    },
    {
      "cell_type": "code",
      "execution_count": null,
      "metadata": {
        "id": "NwrKjeostRSm"
      },
      "outputs": [],
      "source": [
        "def mean_height(data):\n",
        "    \"\"\"Return the mean numerical value of column 1 in an list of lists.\n",
        "    data is the output of csv_parser(myspreadsheet)\"\"\"\n",
        "    #Your code goes below this comment\n",
        "    return #here goes what you want the function to return\n",
        "print(mean_height(myspreadsheet))#to test your function"
      ]
    },
    {
      "cell_type": "markdown",
      "metadata": {
        "id": "ib-r_6CotRSn"
      },
      "source": [
        "5.3. **Occupation distribution -- 1.5 points**.\n",
        "\n",
        "Complete the following function so that it\n",
        "returns a dictionary mapping occupation names into the number of times\n",
        "they occur in the data."
      ]
    },
    {
      "cell_type": "code",
      "execution_count": null,
      "metadata": {
        "id": "tN5X2UeCtRSn"
      },
      "outputs": [],
      "source": [
        "def occupation_distribution(data):\n",
        "    \"\"\"Returns a dictionary mapping occupation names into the number of times they occur in the data.\n",
        "    data is the output of csv_parser(myspreadsheet)\"\"\"\n",
        "    #Your code goes below this comment\n",
        "    return #here goes what you want the function to return\n",
        "print(occupation_distribution(myspreadsheet))#to test your function"
      ]
    }
  ],
  "metadata": {
    "kernelspec": {
      "display_name": "Python 3",
      "language": "python",
      "name": "python3"
    },
    "language_info": {
      "codemirror_mode": {
        "name": "ipython",
        "version": 3
      },
      "file_extension": ".py",
      "mimetype": "text/x-python",
      "name": "python",
      "nbconvert_exporter": "python",
      "pygments_lexer": "ipython3",
      "version": "3.6.5"
    },
    "colab": {
      "provenance": []
    }
  },
  "nbformat": 4,
  "nbformat_minor": 0
}