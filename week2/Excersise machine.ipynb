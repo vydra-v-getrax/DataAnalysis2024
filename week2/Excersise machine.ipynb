{
 "cells": [
  {
   "cell_type": "markdown",
   "id": "617df485",
   "metadata": {},
   "source": [
    "# Write solutions and run tests\n",
    "\n",
    "Write your code where specified then run the following code cell to check if the tests pass correctly. "
   ]
  },
  {
   "cell_type": "code",
   "execution_count": 42,
   "id": "ffdd1e6d",
   "metadata": {},
   "outputs": [],
   "source": [
    "!pip install pytest ipytest\n",
    "import pytest\n",
    "import ipytest\n",
    "ipytest.autoconfig()\n",
    "import mock\n",
    "import builtins\n"
   ]
  },
  {
   "cell_type": "markdown",
   "id": "988d16eb",
   "metadata": {},
   "source": [
    "## 1. Basic types"
   ]
  },
  {
   "cell_type": "markdown",
   "id": "33b42f87",
   "metadata": {},
   "source": [
    "### 1. Write a Python unit test program to check if a given number is prime or not."
   ]
  },
  {
   "cell_type": "code",
   "execution_count": 15,
   "id": "963e3e1d",
   "metadata": {},
   "outputs": [],
   "source": [
    "def is_prime(number):\n",
    "    if number < 2:\n",
    "        return False\n",
    "    for i in range(2, int(number**0.5) + 1):\n",
    "        if number % i == 0:\n",
    "            return False\n",
    "    return True\n"
   ]
  },
  {
   "cell_type": "code",
   "execution_count": 18,
   "id": "9f54110b",
   "metadata": {},
   "outputs": [
    {
     "name": "stdout",
     "output_type": "stream",
     "text": [
      "\u001b[1m======================================= test session starts =======================================\u001b[0m\n",
      "platform win32 -- Python 3.7.3, pytest-7.1.2, pluggy-1.0.0 -- C:\\Users\\Xiaomi\\Anaconda3\\python.exe\n",
      "cachedir: .pytest_cache\n",
      "rootdir: C:\\Users\\Xiaomi\\Desktop\\Сашина папка\\Вышка\\DataAnalysis\\DataAnalysis2024\\week2\n",
      "plugins: anyio-3.5.0, flaky-3.7.0\n",
      "\u001b[1mcollecting ... \u001b[0mcollected 18 items\n",
      "\n",
      "t_16115bf23b2b4970b1bbfedeb31b4269.py::test_is_prime[1-False] \u001b[32mPASSED\u001b[0m\u001b[32m                         [  5%]\u001b[0m\n",
      "t_16115bf23b2b4970b1bbfedeb31b4269.py::test_is_prime[2-True] \u001b[32mPASSED\u001b[0m\u001b[32m                          [ 11%]\u001b[0m\n",
      "t_16115bf23b2b4970b1bbfedeb31b4269.py::test_is_prime[3-True] \u001b[32mPASSED\u001b[0m\u001b[32m                          [ 16%]\u001b[0m\n",
      "t_16115bf23b2b4970b1bbfedeb31b4269.py::test_is_prime[5-True] \u001b[32mPASSED\u001b[0m\u001b[32m                          [ 22%]\u001b[0m\n",
      "t_16115bf23b2b4970b1bbfedeb31b4269.py::test_is_prime[7-True] \u001b[32mPASSED\u001b[0m\u001b[32m                          [ 27%]\u001b[0m\n",
      "t_16115bf23b2b4970b1bbfedeb31b4269.py::test_is_prime[9-False] \u001b[32mPASSED\u001b[0m\u001b[32m                         [ 33%]\u001b[0m\n",
      "t_16115bf23b2b4970b1bbfedeb31b4269.py::test_is_prime[10-False] \u001b[32mPASSED\u001b[0m\u001b[32m                        [ 38%]\u001b[0m\n",
      "t_16115bf23b2b4970b1bbfedeb31b4269.py::test_is_prime[11-True] \u001b[32mPASSED\u001b[0m\u001b[32m                         [ 44%]\u001b[0m\n",
      "t_16115bf23b2b4970b1bbfedeb31b4269.py::test_is_prime[12-False] \u001b[32mPASSED\u001b[0m\u001b[32m                        [ 50%]\u001b[0m\n",
      "t_16115bf23b2b4970b1bbfedeb31b4269.py::test_is_prime[14-False] \u001b[32mPASSED\u001b[0m\u001b[32m                        [ 55%]\u001b[0m\n",
      "t_16115bf23b2b4970b1bbfedeb31b4269.py::test_is_prime[15-False] \u001b[32mPASSED\u001b[0m\u001b[32m                        [ 61%]\u001b[0m\n",
      "t_16115bf23b2b4970b1bbfedeb31b4269.py::test_is_prime[17-True] \u001b[32mPASSED\u001b[0m\u001b[32m                         [ 66%]\u001b[0m\n",
      "t_16115bf23b2b4970b1bbfedeb31b4269.py::test_is_prime[19-True] \u001b[32mPASSED\u001b[0m\u001b[32m                         [ 72%]\u001b[0m\n",
      "t_16115bf23b2b4970b1bbfedeb31b4269.py::test_is_prime[189-False] \u001b[32mPASSED\u001b[0m\u001b[32m                       [ 77%]\u001b[0m\n",
      "t_16115bf23b2b4970b1bbfedeb31b4269.py::test_is_prime[21733-False] \u001b[32mPASSED\u001b[0m\u001b[32m                     [ 83%]\u001b[0m\n",
      "t_16115bf23b2b4970b1bbfedeb31b4269.py::test_is_prime[98881-False] \u001b[32mPASSED\u001b[0m\u001b[32m                     [ 88%]\u001b[0m\n",
      "t_16115bf23b2b4970b1bbfedeb31b4269.py::test_is_prime[5861-True] \u001b[32mPASSED\u001b[0m\u001b[32m                       [ 94%]\u001b[0m\n",
      "t_16115bf23b2b4970b1bbfedeb31b4269.py::test_is_prime[7907-True] \u001b[32mPASSED\u001b[0m\u001b[32m                       [100%]\u001b[0m\n",
      "\n",
      "\u001b[32m======================================= \u001b[32m\u001b[1m18 passed\u001b[0m\u001b[32m in 0.30s\u001b[0m\u001b[32m ========================================\u001b[0m\n"
     ]
    },
    {
     "data": {
      "text/plain": [
       "<ExitCode.OK: 0>"
      ]
     },
     "execution_count": 18,
     "metadata": {},
     "output_type": "execute_result"
    }
   ],
   "source": [
    "@pytest.mark.parametrize(\n",
    "    \"number, expected\",\n",
    "    [\n",
    "        (1, False),\n",
    "        (2, True),\n",
    "        (3, True),\n",
    "        (5, True),\n",
    "        (7, True),\n",
    "        (9, False),\n",
    "        (10, False),\n",
    "        (11, True),\n",
    "        (12, False),\n",
    "        (14, False),\n",
    "        (15, False),\n",
    "        (17, True),\n",
    "        (19, True),\n",
    "        (189, False),\n",
    "        (21733, False),\n",
    "        (98881, False),\n",
    "        (5861, True),\n",
    "        (7907, True),\n",
    "    ],\n",
    ")\n",
    "def test_is_prime(number,  expected):\n",
    "    answer = is_prime(number)\n",
    "    assert answer == expected\n",
    "\n",
    "ipytest.run('-vv')"
   ]
  },
  {
   "cell_type": "markdown",
   "id": "ddefd044",
   "metadata": {},
   "source": [
    "### 2. Write a Python program to check if a string is a palindrome. Program should be case-insensitive"
   ]
  },
  {
   "cell_type": "code",
   "execution_count": 27,
   "id": "560303fe",
   "metadata": {},
   "outputs": [],
   "source": [
    "def is_palindrome(string):\n",
    "    clean_string = string.lower().replace(\"'\", \"\").replace(' ', '')\n",
    "    return clean_string == clean_string[::-1]\n",
    "#     pass  # replace with your code"
   ]
  },
  {
   "cell_type": "code",
   "execution_count": 29,
   "id": "275076fe",
   "metadata": {},
   "outputs": [
    {
     "name": "stdout",
     "output_type": "stream",
     "text": [
      "\u001b[1m======================================= test session starts =======================================\u001b[0m\n",
      "platform win32 -- Python 3.7.3, pytest-7.1.2, pluggy-1.0.0 -- C:\\Users\\Xiaomi\\Anaconda3\\python.exe\n",
      "cachedir: .pytest_cache\n",
      "rootdir: C:\\Users\\Xiaomi\\Desktop\\Сашина папка\\Вышка\\DataAnalysis\\DataAnalysis2024\\week2\n",
      "plugins: anyio-3.5.0, flaky-3.7.0\n",
      "\u001b[1mcollecting ... \u001b[0mcollected 10 items\n",
      "\n",
      "t_16115bf23b2b4970b1bbfedeb31b4269.py::test_is_prime[hello-False] \u001b[32mPASSED\u001b[0m\u001b[32m                     [ 10%]\u001b[0m\n",
      "t_16115bf23b2b4970b1bbfedeb31b4269.py::test_is_prime[All right-False] \u001b[32mPASSED\u001b[0m\u001b[32m                 [ 20%]\u001b[0m\n",
      "t_16115bf23b2b4970b1bbfedeb31b4269.py::test_is_prime[Madam-True] \u001b[32mPASSED\u001b[0m\u001b[32m                      [ 30%]\u001b[0m\n",
      "t_16115bf23b2b4970b1bbfedeb31b4269.py::test_is_prime[Madam I'm Adam-True] \u001b[32mPASSED\u001b[0m\u001b[32m             [ 40%]\u001b[0m\n",
      "t_16115bf23b2b4970b1bbfedeb31b4269.py::test_is_prime[repaper-True] \u001b[32mPASSED\u001b[0m\u001b[32m                    [ 50%]\u001b[0m\n",
      "t_16115bf23b2b4970b1bbfedeb31b4269.py::test_is_palindrome[hello-False] \u001b[32mPASSED\u001b[0m\u001b[32m                [ 60%]\u001b[0m\n",
      "t_16115bf23b2b4970b1bbfedeb31b4269.py::test_is_palindrome[All right-False] \u001b[32mPASSED\u001b[0m\u001b[32m            [ 70%]\u001b[0m\n",
      "t_16115bf23b2b4970b1bbfedeb31b4269.py::test_is_palindrome[Madam-True] \u001b[32mPASSED\u001b[0m\u001b[32m                 [ 80%]\u001b[0m\n",
      "t_16115bf23b2b4970b1bbfedeb31b4269.py::test_is_palindrome[Madam I'm Adam-True] \u001b[32mPASSED\u001b[0m\u001b[32m        [ 90%]\u001b[0m\n",
      "t_16115bf23b2b4970b1bbfedeb31b4269.py::test_is_palindrome[repaper-True] \u001b[32mPASSED\u001b[0m\u001b[32m               [100%]\u001b[0m\n",
      "\n",
      "\u001b[32m======================================= \u001b[32m\u001b[1m10 passed\u001b[0m\u001b[32m in 0.20s\u001b[0m\u001b[32m ========================================\u001b[0m\n"
     ]
    },
    {
     "data": {
      "text/plain": [
       "<ExitCode.OK: 0>"
      ]
     },
     "execution_count": 29,
     "metadata": {},
     "output_type": "execute_result"
    }
   ],
   "source": [
    "@pytest.mark.parametrize(\n",
    "    \"line, expected\",\n",
    "    [\n",
    "        ('hello', False),\n",
    "        ('All right', False),\n",
    "        ('Madam', True),\n",
    "        (\"Madam I'm Adam\", True),\n",
    "        ('repaper', True),\n",
    "    ],\n",
    ")\n",
    "def test_is_palindrome(line,  expected):\n",
    "    answer = is_palindrome(line)\n",
    "    assert answer == expected\n",
    "\n",
    "ipytest.run('-vv')"
   ]
  },
  {
   "cell_type": "markdown",
   "id": "c7d48056",
   "metadata": {},
   "source": [
    "### 3. Write a Python program to map two lists into a dictionary. E.g. [1, 2] + ['a', 'b'] => {1: 'a', 2: 'b'}. If their lengths are defferent, return a string 'Unable to map'"
   ]
  },
  {
   "cell_type": "code",
   "execution_count": 34,
   "id": "38c908e9",
   "metadata": {},
   "outputs": [],
   "source": [
    "def lists_to_dict(keys, values):\n",
    "    if len(keys) == len(values):\n",
    "        dictionary = dict(zip(keys, values))\n",
    "        return dictionary\n",
    "    return 'Unable to map'\n",
    "#     pass  # replace with your code"
   ]
  },
  {
   "cell_type": "code",
   "execution_count": 32,
   "id": "57eb9d0f",
   "metadata": {},
   "outputs": [
    {
     "data": {
      "text/plain": [
       "{'cat': 'mammal', 'frog': 'amphibian', 'bud': 'insect'}"
      ]
     },
     "execution_count": 32,
     "metadata": {},
     "output_type": "execute_result"
    }
   ],
   "source": [
    "lists_to_dict(['cat', 'frog', 'bud'], ['mammal', 'amphibian', 'insect'])"
   ]
  },
  {
   "cell_type": "code",
   "execution_count": 35,
   "id": "ad4429c7",
   "metadata": {},
   "outputs": [
    {
     "name": "stdout",
     "output_type": "stream",
     "text": [
      "\u001b[1m======================================= test session starts =======================================\u001b[0m\n",
      "platform win32 -- Python 3.7.3, pytest-7.1.2, pluggy-1.0.0 -- C:\\Users\\Xiaomi\\Anaconda3\\python.exe\n",
      "cachedir: .pytest_cache\n",
      "rootdir: C:\\Users\\Xiaomi\\Desktop\\Сашина папка\\Вышка\\DataAnalysis\\DataAnalysis2024\\week2\n",
      "plugins: anyio-3.5.0, flaky-3.7.0\n",
      "\u001b[1mcollecting ... \u001b[0mcollected 13 items\n",
      "\n",
      "t_16115bf23b2b4970b1bbfedeb31b4269.py::test_is_prime[hello-False] \u001b[32mPASSED\u001b[0m\u001b[32m                     [  7%]\u001b[0m\n",
      "t_16115bf23b2b4970b1bbfedeb31b4269.py::test_is_prime[All right-False] \u001b[32mPASSED\u001b[0m\u001b[32m                 [ 15%]\u001b[0m\n",
      "t_16115bf23b2b4970b1bbfedeb31b4269.py::test_is_prime[Madam-True] \u001b[32mPASSED\u001b[0m\u001b[32m                      [ 23%]\u001b[0m\n",
      "t_16115bf23b2b4970b1bbfedeb31b4269.py::test_is_prime[Madam I'm Adam-True] \u001b[32mPASSED\u001b[0m\u001b[32m             [ 30%]\u001b[0m\n",
      "t_16115bf23b2b4970b1bbfedeb31b4269.py::test_is_prime[repaper-True] \u001b[32mPASSED\u001b[0m\u001b[32m                    [ 38%]\u001b[0m\n",
      "t_16115bf23b2b4970b1bbfedeb31b4269.py::test_is_palindrome[hello-False] \u001b[32mPASSED\u001b[0m\u001b[32m                [ 46%]\u001b[0m\n",
      "t_16115bf23b2b4970b1bbfedeb31b4269.py::test_is_palindrome[All right-False] \u001b[32mPASSED\u001b[0m\u001b[32m            [ 53%]\u001b[0m\n",
      "t_16115bf23b2b4970b1bbfedeb31b4269.py::test_is_palindrome[Madam-True] \u001b[32mPASSED\u001b[0m\u001b[32m                 [ 61%]\u001b[0m\n",
      "t_16115bf23b2b4970b1bbfedeb31b4269.py::test_is_palindrome[Madam I'm Adam-True] \u001b[32mPASSED\u001b[0m\u001b[32m        [ 69%]\u001b[0m\n",
      "t_16115bf23b2b4970b1bbfedeb31b4269.py::test_is_palindrome[repaper-True] \u001b[32mPASSED\u001b[0m\u001b[32m               [ 76%]\u001b[0m\n",
      "t_16115bf23b2b4970b1bbfedeb31b4269.py::test_lists_to_dict[list10-list20-expected0] \u001b[32mPASSED\u001b[0m\u001b[32m    [ 84%]\u001b[0m\n",
      "t_16115bf23b2b4970b1bbfedeb31b4269.py::test_lists_to_dict[list11-list21-expected1] \u001b[32mPASSED\u001b[0m\u001b[32m    [ 92%]\u001b[0m\n",
      "t_16115bf23b2b4970b1bbfedeb31b4269.py::test_lists_to_dict[list12-list22-Unable to map] \u001b[32mPASSED\u001b[0m\u001b[32m [100%]\u001b[0m\n",
      "\n",
      "\u001b[32m======================================= \u001b[32m\u001b[1m13 passed\u001b[0m\u001b[32m in 0.22s\u001b[0m\u001b[32m ========================================\u001b[0m\n"
     ]
    },
    {
     "data": {
      "text/plain": [
       "<ExitCode.OK: 0>"
      ]
     },
     "execution_count": 35,
     "metadata": {},
     "output_type": "execute_result"
    }
   ],
   "source": [
    "@pytest.mark.parametrize(\n",
    "    \"list1, list2, expected\",\n",
    "    [\n",
    "        ([1, 2, 3, 4, 5], ['a', 'b', 'c', 'd', 'e'], {1: 'a', 2: 'b', 3: 'c', 4: 'd', 5: 'e'}),\n",
    "        (['cat', 'frog', 'bud'], ['mammal', 'amphibian', 'insect'], {'cat': 'mammal', 'frog': 'amphibian', 'bud': 'insect'}),\n",
    "        (['cat', 'frog'], ['mammal', 'amphibian', 'insect'], 'Unable to map'),\n",
    "    ],\n",
    ")\n",
    "def test_lists_to_dict(list1, list2,  expected):\n",
    "    answer = lists_to_dict(list1, list2)\n",
    "    assert answer == expected\n",
    "\n",
    "ipytest.run('-vv')"
   ]
  },
  {
   "cell_type": "markdown",
   "id": "7e1193b7",
   "metadata": {},
   "source": [
    "### 4. Write a Python program to convert a month name to a number of days. \n",
    "\n",
    "E.g.: \n",
    "\n",
    "Input the name of Month: January\n",
    "\n",
    "No. of days: 31 days\n"
   ]
  },
  {
   "cell_type": "code",
   "execution_count": 45,
   "id": "151322a7",
   "metadata": {},
   "outputs": [],
   "source": [
    "def number_of_days():\n",
    "    month = input('Input the name of month: ')\n",
    "    MONTHS = {\n",
    "        'January': 31, 'February': 28, 'March': 31, 'April': 30, 'May': 31, \n",
    "         'June': 30, 'July': 31, 'August': 31, 'September': 30, 'October': 31, 'November': 30, 'December': 31,\n",
    "    }\n",
    "    return MONTHS.get(month.title())\n",
    "#     pass  # replace with your code"
   ]
  },
  {
   "cell_type": "code",
   "execution_count": 40,
   "id": "095265e8",
   "metadata": {},
   "outputs": [
    {
     "data": {
      "text/plain": [
       "[('january', 31),\n",
       " ('february', 28),\n",
       " ('march', 31),\n",
       " ('april', 30),\n",
       " ('may', 31),\n",
       " ('june', 30),\n",
       " ('july', 31),\n",
       " ('august', 31),\n",
       " ('september', 30),\n",
       " ('october', 31),\n",
       " ('november', 30),\n",
       " ('december', 31)]"
      ]
     },
     "execution_count": 40,
     "metadata": {},
     "output_type": "execute_result"
    }
   ],
   "source": [
    "test = []\n",
    "for k, v in {\n",
    "        'January': 31, 'February': 28, 'March': 31, 'April': 30, 'May': 31, \n",
    "         'June': 30, 'July': 31, 'August': 31, 'September': 30, 'October': 31, 'November': 30, 'December': 31,\n",
    "    }.items():\n",
    "    test.append((k.lower(), v))\n",
    "test"
   ]
  },
  {
   "cell_type": "code",
   "execution_count": 46,
   "id": "64b1d0be",
   "metadata": {},
   "outputs": [
    {
     "name": "stdout",
     "output_type": "stream",
     "text": [
      "\u001b[1m======================================= test session starts =======================================\u001b[0m\n",
      "platform win32 -- Python 3.7.3, pytest-7.1.2, pluggy-1.0.0 -- C:\\Users\\Xiaomi\\Anaconda3\\python.exe\n",
      "cachedir: .pytest_cache\n",
      "rootdir: C:\\Users\\Xiaomi\\Desktop\\Сашина папка\\Вышка\\DataAnalysis\\DataAnalysis2024\\week2\n",
      "plugins: anyio-3.5.0, flaky-3.7.0\n",
      "\u001b[1mcollecting ... \u001b[0mcollected 25 items\n",
      "\n",
      "t_16115bf23b2b4970b1bbfedeb31b4269.py::test_is_prime[hello-False] \u001b[32mPASSED\u001b[0m\u001b[32m                     [  4%]\u001b[0m\n",
      "t_16115bf23b2b4970b1bbfedeb31b4269.py::test_is_prime[All right-False] \u001b[32mPASSED\u001b[0m\u001b[32m                 [  8%]\u001b[0m\n",
      "t_16115bf23b2b4970b1bbfedeb31b4269.py::test_is_prime[Madam-True] \u001b[32mPASSED\u001b[0m\u001b[32m                      [ 12%]\u001b[0m\n",
      "t_16115bf23b2b4970b1bbfedeb31b4269.py::test_is_prime[Madam I'm Adam-True] \u001b[32mPASSED\u001b[0m\u001b[32m             [ 16%]\u001b[0m\n",
      "t_16115bf23b2b4970b1bbfedeb31b4269.py::test_is_prime[repaper-True] \u001b[32mPASSED\u001b[0m\u001b[32m                    [ 20%]\u001b[0m\n",
      "t_16115bf23b2b4970b1bbfedeb31b4269.py::test_is_palindrome[hello-False] \u001b[32mPASSED\u001b[0m\u001b[32m                [ 24%]\u001b[0m\n",
      "t_16115bf23b2b4970b1bbfedeb31b4269.py::test_is_palindrome[All right-False] \u001b[32mPASSED\u001b[0m\u001b[32m            [ 28%]\u001b[0m\n",
      "t_16115bf23b2b4970b1bbfedeb31b4269.py::test_is_palindrome[Madam-True] \u001b[32mPASSED\u001b[0m\u001b[32m                 [ 32%]\u001b[0m\n",
      "t_16115bf23b2b4970b1bbfedeb31b4269.py::test_is_palindrome[Madam I'm Adam-True] \u001b[32mPASSED\u001b[0m\u001b[32m        [ 36%]\u001b[0m\n",
      "t_16115bf23b2b4970b1bbfedeb31b4269.py::test_is_palindrome[repaper-True] \u001b[32mPASSED\u001b[0m\u001b[32m               [ 40%]\u001b[0m\n",
      "t_16115bf23b2b4970b1bbfedeb31b4269.py::test_lists_to_dict[list10-list20-expected0] \u001b[32mPASSED\u001b[0m\u001b[32m    [ 44%]\u001b[0m\n",
      "t_16115bf23b2b4970b1bbfedeb31b4269.py::test_lists_to_dict[list11-list21-expected1] \u001b[32mPASSED\u001b[0m\u001b[32m    [ 48%]\u001b[0m\n",
      "t_16115bf23b2b4970b1bbfedeb31b4269.py::test_lists_to_dict[list12-list22-Unable to map] \u001b[32mPASSED\u001b[0m\u001b[32m [ 52%]\u001b[0m\n",
      "t_16115bf23b2b4970b1bbfedeb31b4269.py::test_number_of_days[january-31] \u001b[32mPASSED\u001b[0m\u001b[32m                [ 56%]\u001b[0m\n",
      "t_16115bf23b2b4970b1bbfedeb31b4269.py::test_number_of_days[february-28] \u001b[32mPASSED\u001b[0m\u001b[32m               [ 60%]\u001b[0m\n",
      "t_16115bf23b2b4970b1bbfedeb31b4269.py::test_number_of_days[march-31] \u001b[32mPASSED\u001b[0m\u001b[32m                  [ 64%]\u001b[0m\n",
      "t_16115bf23b2b4970b1bbfedeb31b4269.py::test_number_of_days[april-30] \u001b[32mPASSED\u001b[0m\u001b[32m                  [ 68%]\u001b[0m\n",
      "t_16115bf23b2b4970b1bbfedeb31b4269.py::test_number_of_days[may-31] \u001b[32mPASSED\u001b[0m\u001b[32m                    [ 72%]\u001b[0m\n",
      "t_16115bf23b2b4970b1bbfedeb31b4269.py::test_number_of_days[june-30] \u001b[32mPASSED\u001b[0m\u001b[32m                   [ 76%]\u001b[0m\n",
      "t_16115bf23b2b4970b1bbfedeb31b4269.py::test_number_of_days[july-31] \u001b[32mPASSED\u001b[0m\u001b[32m                   [ 80%]\u001b[0m\n",
      "t_16115bf23b2b4970b1bbfedeb31b4269.py::test_number_of_days[august-31] \u001b[32mPASSED\u001b[0m\u001b[32m                 [ 84%]\u001b[0m\n",
      "t_16115bf23b2b4970b1bbfedeb31b4269.py::test_number_of_days[september-30] \u001b[32mPASSED\u001b[0m\u001b[32m              [ 88%]\u001b[0m\n",
      "t_16115bf23b2b4970b1bbfedeb31b4269.py::test_number_of_days[october-31] \u001b[32mPASSED\u001b[0m\u001b[32m                [ 92%]\u001b[0m\n",
      "t_16115bf23b2b4970b1bbfedeb31b4269.py::test_number_of_days[november-30] \u001b[32mPASSED\u001b[0m\u001b[32m               [ 96%]\u001b[0m\n",
      "t_16115bf23b2b4970b1bbfedeb31b4269.py::test_number_of_days[december-31] \u001b[32mPASSED\u001b[0m\u001b[32m               [100%]\u001b[0m\n",
      "\n",
      "\u001b[32m======================================= \u001b[32m\u001b[1m25 passed\u001b[0m\u001b[32m in 0.37s\u001b[0m\u001b[32m ========================================\u001b[0m\n"
     ]
    },
    {
     "data": {
      "text/plain": [
       "<ExitCode.OK: 0>"
      ]
     },
     "execution_count": 46,
     "metadata": {},
     "output_type": "execute_result"
    }
   ],
   "source": [
    "@pytest.mark.parametrize(\n",
    "    \"month, expected\",\n",
    "    [\n",
    "        ('january', 31),\n",
    "        ('february', 28),\n",
    "        ('march', 31),\n",
    "        ('april', 30),\n",
    "        ('may', 31),\n",
    "        ('june', 30),\n",
    "        ('july', 31),\n",
    "        ('august', 31),\n",
    "        ('september', 30),\n",
    "        ('october', 31),\n",
    "        ('november', 30),\n",
    "        ('december', 31),\n",
    "    ],\n",
    ")\n",
    "def test_number_of_days(month, expected):\n",
    "    with mock.patch.object(builtins, 'input', lambda _: month):\n",
    "        assert number_of_days() == expected\n",
    "\n",
    "ipytest.run('-vv')"
   ]
  },
  {
   "cell_type": "markdown",
   "id": "4c658b63",
   "metadata": {},
   "source": [
    "### 5. Write a Python program that takes a text file as input and returns the number of words of a given text file. Empty strings '' are not words, spaces removed, punctuation is ignored\n"
   ]
  },
  {
   "cell_type": "code",
   "execution_count": 53,
   "id": "b6fc1d0d",
   "metadata": {},
   "outputs": [],
   "source": [
    "def word_num(filepath):\n",
    "    with open(filepath, 'r', encoding='utf-8') as file:\n",
    "        text = file.read()\n",
    "    words = text.split(' ')\n",
    "    words = [w for w in words if w != '']\n",
    "    return len(words)\n",
    "#     pass  # replace with your code"
   ]
  },
  {
   "cell_type": "code",
   "execution_count": 56,
   "id": "c9fceb1d",
   "metadata": {},
   "outputs": [
    {
     "name": "stdout",
     "output_type": "stream",
     "text": [
      "\u001b[1m======================================= test session starts =======================================\u001b[0m\n",
      "platform win32 -- Python 3.7.3, pytest-7.1.2, pluggy-1.0.0 -- C:\\Users\\Xiaomi\\Anaconda3\\python.exe\n",
      "cachedir: .pytest_cache\n",
      "rootdir: C:\\Users\\Xiaomi\\Desktop\\Сашина папка\\Вышка\\DataAnalysis\\DataAnalysis2024\\week2\n",
      "plugins: anyio-3.5.0, flaky-3.7.0\n",
      "\u001b[1mcollecting ... \u001b[0mcollected 27 items\n",
      "\n",
      "t_16115bf23b2b4970b1bbfedeb31b4269.py::test_is_prime[hello-False] \u001b[32mPASSED\u001b[0m\u001b[32m                     [  3%]\u001b[0m\n",
      "t_16115bf23b2b4970b1bbfedeb31b4269.py::test_is_prime[All right-False] \u001b[32mPASSED\u001b[0m\u001b[32m                 [  7%]\u001b[0m\n",
      "t_16115bf23b2b4970b1bbfedeb31b4269.py::test_is_prime[Madam-True] \u001b[32mPASSED\u001b[0m\u001b[32m                      [ 11%]\u001b[0m\n",
      "t_16115bf23b2b4970b1bbfedeb31b4269.py::test_is_prime[Madam I'm Adam-True] \u001b[32mPASSED\u001b[0m\u001b[32m             [ 14%]\u001b[0m\n",
      "t_16115bf23b2b4970b1bbfedeb31b4269.py::test_is_prime[repaper-True] \u001b[32mPASSED\u001b[0m\u001b[32m                    [ 18%]\u001b[0m\n",
      "t_16115bf23b2b4970b1bbfedeb31b4269.py::test_is_palindrome[hello-False] \u001b[32mPASSED\u001b[0m\u001b[32m                [ 22%]\u001b[0m\n",
      "t_16115bf23b2b4970b1bbfedeb31b4269.py::test_is_palindrome[All right-False] \u001b[32mPASSED\u001b[0m\u001b[32m            [ 25%]\u001b[0m\n",
      "t_16115bf23b2b4970b1bbfedeb31b4269.py::test_is_palindrome[Madam-True] \u001b[32mPASSED\u001b[0m\u001b[32m                 [ 29%]\u001b[0m\n",
      "t_16115bf23b2b4970b1bbfedeb31b4269.py::test_is_palindrome[Madam I'm Adam-True] \u001b[32mPASSED\u001b[0m\u001b[32m        [ 33%]\u001b[0m\n",
      "t_16115bf23b2b4970b1bbfedeb31b4269.py::test_is_palindrome[repaper-True] \u001b[32mPASSED\u001b[0m\u001b[32m               [ 37%]\u001b[0m\n",
      "t_16115bf23b2b4970b1bbfedeb31b4269.py::test_lists_to_dict[list10-list20-expected0] \u001b[32mPASSED\u001b[0m\u001b[32m    [ 40%]\u001b[0m\n",
      "t_16115bf23b2b4970b1bbfedeb31b4269.py::test_lists_to_dict[list11-list21-expected1] \u001b[32mPASSED\u001b[0m\u001b[32m    [ 44%]\u001b[0m\n",
      "t_16115bf23b2b4970b1bbfedeb31b4269.py::test_lists_to_dict[list12-list22-Unable to map] \u001b[32mPASSED\u001b[0m\u001b[32m [ 48%]\u001b[0m\n",
      "t_16115bf23b2b4970b1bbfedeb31b4269.py::test_number_of_days[january-31] \u001b[32mPASSED\u001b[0m\u001b[32m                [ 51%]\u001b[0m\n",
      "t_16115bf23b2b4970b1bbfedeb31b4269.py::test_number_of_days[february-28] \u001b[32mPASSED\u001b[0m\u001b[32m               [ 55%]\u001b[0m\n",
      "t_16115bf23b2b4970b1bbfedeb31b4269.py::test_number_of_days[march-31] \u001b[32mPASSED\u001b[0m\u001b[32m                  [ 59%]\u001b[0m\n",
      "t_16115bf23b2b4970b1bbfedeb31b4269.py::test_number_of_days[april-30] \u001b[32mPASSED\u001b[0m\u001b[32m                  [ 62%]\u001b[0m\n",
      "t_16115bf23b2b4970b1bbfedeb31b4269.py::test_number_of_days[may-31] \u001b[32mPASSED\u001b[0m\u001b[32m                    [ 66%]\u001b[0m\n",
      "t_16115bf23b2b4970b1bbfedeb31b4269.py::test_number_of_days[june-30] \u001b[32mPASSED\u001b[0m\u001b[32m                   [ 70%]\u001b[0m\n",
      "t_16115bf23b2b4970b1bbfedeb31b4269.py::test_number_of_days[july-31] \u001b[32mPASSED\u001b[0m\u001b[32m                   [ 74%]\u001b[0m\n",
      "t_16115bf23b2b4970b1bbfedeb31b4269.py::test_number_of_days[august-31] \u001b[32mPASSED\u001b[0m\u001b[32m                 [ 77%]\u001b[0m\n",
      "t_16115bf23b2b4970b1bbfedeb31b4269.py::test_number_of_days[september-30] \u001b[32mPASSED\u001b[0m\u001b[32m              [ 81%]\u001b[0m\n",
      "t_16115bf23b2b4970b1bbfedeb31b4269.py::test_number_of_days[october-31] \u001b[32mPASSED\u001b[0m\u001b[32m                [ 85%]\u001b[0m\n",
      "t_16115bf23b2b4970b1bbfedeb31b4269.py::test_number_of_days[november-30] \u001b[32mPASSED\u001b[0m\u001b[32m               [ 88%]\u001b[0m\n",
      "t_16115bf23b2b4970b1bbfedeb31b4269.py::test_number_of_days[december-31] \u001b[32mPASSED\u001b[0m\u001b[32m               [ 92%]\u001b[0m\n",
      "t_16115bf23b2b4970b1bbfedeb31b4269.py::test_word_num[alice.txt-11597] \u001b[32mPASSED\u001b[0m\u001b[32m                 [ 96%]\u001b[0m\n",
      "t_16115bf23b2b4970b1bbfedeb31b4269.py::test_word_num[\\u0432\\u044b\\u0436\\u0438\\u0432\\u0448\\u0438\\u0439.txt-1436] \u001b[32mPASSED\u001b[0m\u001b[32m [100%]\u001b[0m\n",
      "\n",
      "\u001b[32m======================================= \u001b[32m\u001b[1m27 passed\u001b[0m\u001b[32m in 0.43s\u001b[0m\u001b[32m ========================================\u001b[0m\n"
     ]
    },
    {
     "data": {
      "text/plain": [
       "<ExitCode.OK: 0>"
      ]
     },
     "execution_count": 56,
     "metadata": {},
     "output_type": "execute_result"
    }
   ],
   "source": [
    "@pytest.mark.parametrize(\n",
    "    \"filepath, expected\",\n",
    "    [\n",
    "        ('alice.txt', 11597),\n",
    "        ('выживший.txt', 1436)\n",
    "    ],\n",
    ")\n",
    "def test_word_num(filepath, expected):\n",
    "    answer = word_num(filepath)\n",
    "    assert answer == expected\n",
    "\n",
    "ipytest.run('-vv')"
   ]
  },
  {
   "cell_type": "markdown",
   "id": "de7a0401",
   "metadata": {},
   "source": [
    "# If you are here, really good job!"
   ]
  },
  {
   "cell_type": "markdown",
   "id": "99c4cec7",
   "metadata": {},
   "source": [
    "## Upload Friends dataset and save a json file containing the following information about each character:\n",
    "* the number of lines per character\n",
    "* the average number of symbols per line for this character\n",
    "* the average number of words per line for this character\n",
    "* the most frequent character that talks just before this character\n",
    "* the most frequent character that talks just after this character\n",
    "* the percent of questions among all the lines of this character (any line ending with '?' is considered a question)\n",
    "\n",
    "The result should look like this:\n",
    "> friends.json\n",
    "```\n",
    "[\n",
    "    {\n",
    "        'name': 'Monica',\n",
    "        'avg_symb/line': 18.9,\n",
    "        'avg_word/line': 5.2,\n",
    "        'top_before': 'Chandler',\n",
    "        'top_after': 'Joey',\n",
    "        'questions_rate': 33.24%,\n",
    "    },\n",
    "]\n",
    "```"
   ]
  },
  {
   "cell_type": "code",
   "execution_count": 57,
   "id": "de4630d6",
   "metadata": {},
   "outputs": [],
   "source": [
    "### YOUR CODE HERE"
   ]
  },
  {
   "cell_type": "code",
   "execution_count": null,
   "id": "7db9aaee",
   "metadata": {},
   "outputs": [],
   "source": []
  }
 ],
 "metadata": {
  "kernelspec": {
   "display_name": "Python 3 (ipykernel)",
   "language": "python",
   "name": "python3"
  },
  "language_info": {
   "codemirror_mode": {
    "name": "ipython",
    "version": 3
   },
   "file_extension": ".py",
   "mimetype": "text/x-python",
   "name": "python",
   "nbconvert_exporter": "python",
   "pygments_lexer": "ipython3",
   "version": "3.7.3"
  }
 },
 "nbformat": 4,
 "nbformat_minor": 5
}
