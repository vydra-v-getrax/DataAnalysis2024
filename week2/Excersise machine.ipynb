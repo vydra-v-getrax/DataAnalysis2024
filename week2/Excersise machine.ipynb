{
 "cells": [
  {
   "cell_type": "markdown",
   "id": "cf96747e",
   "metadata": {},
   "source": [
    "# Write solutions and run tests\n",
    "\n",
    "Write your code where specified then run the following code cell to check if the tests pass correctly. "
   ]
  },
  {
   "cell_type": "code",
   "execution_count": null,
   "id": "027455c0",
   "metadata": {},
   "outputs": [],
   "source": [
    "### Run this cell so that tests work properly\n",
    "\n",
    "!pip install pytest ipytest\n",
    "import pytest\n",
    "import ipytest\n",
    "ipytest.autoconfig()\n",
    "import mock\n",
    "import builtins\n"
   ]
  },
  {
   "cell_type": "markdown",
   "id": "f2ccf358",
   "metadata": {},
   "source": [
    "## 1. Basic types"
   ]
  },
  {
   "cell_type": "markdown",
   "id": "ce9026c4",
   "metadata": {},
   "source": [
    "### 1. Write a Python unit test program to check if a given number is prime or not."
   ]
  },
  {
   "cell_type": "code",
   "execution_count": null,
   "id": "f16aca00",
   "metadata": {},
   "outputs": [],
   "source": [
    "def is_prime(number):\n",
    "    pass  # replace with your code"
   ]
  },
  {
   "cell_type": "code",
   "execution_count": null,
   "id": "0f073cce",
   "metadata": {},
   "outputs": [],
   "source": [
    "@pytest.mark.parametrize(\n",
    "    \"number, expected\",\n",
    "    [\n",
    "        (1, False),\n",
    "        (2, True),\n",
    "        (3, True),\n",
    "        (5, True),\n",
    "        (7, True),\n",
    "        (9, False),\n",
    "        (10, False),\n",
    "        (11, True),\n",
    "        (12, False),\n",
    "        (14, False),\n",
    "        (15, False),\n",
    "        (17, True),\n",
    "        (19, True),\n",
    "        (189, False),\n",
    "        (21733, False),\n",
    "        (98881, False),\n",
    "        (5861, True),\n",
    "        (7907, True),\n",
    "    ],\n",
    ")\n",
    "def test_is_prime(number,  expected):\n",
    "    answer = is_prime(number)\n",
    "    assert answer == expected\n",
    "\n",
    "ipytest.run('-vv')"
   ]
  },
  {
   "cell_type": "markdown",
   "id": "1f2da24c",
   "metadata": {},
   "source": [
    "### 2. Write a Python program to check if a string is a palindrome. Program should be case-insensitive"
   ]
  },
  {
   "cell_type": "code",
   "execution_count": null,
   "id": "35d79ca7",
   "metadata": {},
   "outputs": [],
   "source": [
    "def is_palindrome(string):\n",
    "    pass  # replace with your code"
   ]
  },
  {
   "cell_type": "code",
   "execution_count": null,
   "id": "835642d0",
   "metadata": {},
   "outputs": [],
   "source": [
    "@pytest.mark.parametrize(\n",
    "    \"line, expected\",\n",
    "    [\n",
    "        ('hello', False),\n",
    "        ('All right', False),\n",
    "        ('Madam', True),\n",
    "        (\"Madam I'm Adam\", True),\n",
    "        ('repaper', True),\n",
    "    ],\n",
    ")\n",
    "def test_is_palindrome(line,  expected):\n",
    "    answer = is_palindrome(line)\n",
    "    assert answer == expected\n",
    "\n",
    "ipytest.run('-vv')"
   ]
  },
  {
   "cell_type": "markdown",
   "id": "3802560f",
   "metadata": {},
   "source": [
    "### 3. Write a Python program to map two lists into a dictionary. E.g. [1, 2] + ['a', 'b'] => {1: 'a', 2: 'b'}. If their lengths are defferent, return a string 'Unable to map'"
   ]
  },
  {
   "cell_type": "code",
   "execution_count": null,
   "id": "860dbc5e",
   "metadata": {},
   "outputs": [],
   "source": [
    "def lists_to_dict(keys, values):\n",
    "    pass  # replace with your code"
   ]
  },
  {
   "cell_type": "code",
   "execution_count": null,
   "id": "1634d60c",
   "metadata": {},
   "outputs": [],
   "source": [
    "@pytest.mark.parametrize(\n",
    "    \"list1, list2, expected\",\n",
    "    [\n",
    "        ([1, 2, 3, 4, 5], ['a', 'b', 'c', 'd', 'e'], {1: 'a', 2: 'b', 3: 'c', 4: 'd', 5: 'e'}),\n",
    "        (['cat', 'frog', 'bud'], ['mammal', 'amphibian', 'insect'], {'cat': 'mammal', 'frog': 'amphibian', 'bud': 'insect'}),\n",
    "        (['cat', 'frog'], ['mammal', 'amphibian', 'insect'], 'Unable to map'),\n",
    "    ],\n",
    ")\n",
    "def test_lists_to_dict(list1, list2,  expected):\n",
    "    answer = lists_to_dict(list1, list2)\n",
    "    assert answer == expected\n",
    "\n",
    "ipytest.run('-vv')"
   ]
  },
  {
   "cell_type": "markdown",
   "id": "1d5baae7",
   "metadata": {},
   "source": [
    "### 4. Write a Python program to convert a month name to a number of days. \n",
    "\n",
    "E.g.: \n",
    "\n",
    "Input the name of Month: January\n",
    "\n",
    "No. of days: 31 days\n"
   ]
  },
  {
   "cell_type": "code",
   "execution_count": null,
   "id": "5ed4203f",
   "metadata": {},
   "outputs": [],
   "source": [
    "def number_of_days():\n",
    "    pass  # replace with your code"
   ]
  },
  {
   "cell_type": "code",
   "execution_count": null,
   "id": "1d51a697",
   "metadata": {},
   "outputs": [],
   "source": [
    "@pytest.mark.parametrize(\n",
    "    \"month, expected\",\n",
    "    [\n",
    "        ('january', 31),\n",
    "        ('february', 28),\n",
    "        ('march', 31),\n",
    "        ('april', 30),\n",
    "        ('may', 31),\n",
    "        ('june', 30),\n",
    "        ('july', 31),\n",
    "        ('august', 31),\n",
    "        ('september', 30),\n",
    "        ('october', 31),\n",
    "        ('november', 30),\n",
    "        ('december', 31),\n",
    "    ],\n",
    ")\n",
    "def test_number_of_days(month, expected):\n",
    "    with mock.patch.object(builtins, 'input', lambda _: month):\n",
    "        assert number_of_days() == expected\n",
    "\n",
    "ipytest.run('-vv')"
   ]
  },
  {
   "cell_type": "markdown",
   "id": "c68ee8e5",
   "metadata": {},
   "source": [
    "### 5. Write a Python program that takes a text file as input and returns the number of words of a given text file. Empty strings '' are not words, spaces removed, punctuation is ignored\n"
   ]
  },
  {
   "cell_type": "code",
   "execution_count": null,
   "id": "6078fd3d",
   "metadata": {},
   "outputs": [],
   "source": [
    "def word_num(filepath):\n",
    "    pass  # replace with your code"
   ]
  },
  {
   "cell_type": "code",
   "execution_count": null,
   "id": "43ad78b1",
   "metadata": {},
   "outputs": [],
   "source": [
    "@pytest.mark.parametrize(\n",
    "    \"filepath, expected\",\n",
    "    [\n",
    "        ('alice.txt', 11597),\n",
    "        ('выживший.txt', 1436)\n",
    "    ],\n",
    ")\n",
    "def test_word_num(filepath, expected):\n",
    "    answer = word_num(filepath)\n",
    "    assert answer == expected\n",
    "\n",
    "ipytest.run('-vv')"
   ]
  },
  {
   "cell_type": "markdown",
   "id": "53db2479",
   "metadata": {},
   "source": [
    "### 6. Create a [Sator-rotas](https://en.wikipedia.org/wiki/Sator_Square) square from given three words. Result should be a single string with spaces between letters.\n"
   ]
  },
  {
   "cell_type": "code",
   "execution_count": null,
   "id": "dfb2c135",
   "metadata": {},
   "outputs": [],
   "source": [
    "def sator_square(wordlist=['sator', 'arepo', 'tenet']):\n",
    "    pass"
   ]
  },
  {
   "cell_type": "code",
   "execution_count": null,
   "id": "b6057906",
   "metadata": {},
   "outputs": [],
   "source": [
    "@pytest.mark.parametrize(\n",
    "    \"wordlist, expected\",\n",
    "    [\n",
    "        (['sator', 'arepo', 'tenet'], \n",
    "         \"\"\"S A T O R\\nA R E P O\\nT E N E T\\nO P E R A\\nR O T A S\"\"\"),\n",
    "    ],\n",
    ")\n",
    "def test_sator_square(wordlist,  expected):\n",
    "    answer = sator_square(wordlist)\n",
    "    assert answer == expected\n",
    "\n",
    "ipytest.run('-vv')"
   ]
  },
  {
   "cell_type": "markdown",
   "id": "e83f39b0",
   "metadata": {},
   "source": [
    "# If you are here, really good job!"
   ]
  },
  {
   "cell_type": "markdown",
   "id": "fda48df2",
   "metadata": {},
   "source": [
    "## Upload Friends dataset and save a json file containing the following information about each character:\n",
    "* the number of lines per character\n",
    "* the average number of symbols per line for this character\n",
    "* the average number of words per line for this character\n",
    "* the most frequent character that talks just before this character\n",
    "* the most frequent character that talks just after this character\n",
    "* the percent of questions among all the lines of this character (any line ending with '?' is considered a question)\n",
    "\n",
    "The result should look like this:\n",
    "> friends.json\n",
    "```\n",
    "[\n",
    "    {\n",
    "        'name': 'Monica',\n",
    "        'avg_symb/line': 18.9,\n",
    "        'avg_word/line': 5.2,\n",
    "        'top_before': 'Chandler',\n",
    "        'top_after': 'Joey',\n",
    "        'questions_rate': 33.24%,\n",
    "    },\n",
    "]\n",
    "```"
   ]
  },
  {
   "cell_type": "code",
   "execution_count": null,
   "id": "5f2ff87d",
   "metadata": {},
   "outputs": [],
   "source": [
    "### YOUR CODE HERE"
   ]
  },
  {
   "cell_type": "code",
   "execution_count": null,
   "id": "c6d61f1c",
   "metadata": {},
   "outputs": [],
   "source": []
  }
 ],
 "metadata": {
  "kernelspec": {
   "display_name": "Python 3 (ipykernel)",
   "language": "python",
   "name": "python3"
  },
  "language_info": {
   "codemirror_mode": {
    "name": "ipython",
    "version": 3
   },
   "file_extension": ".py",
   "mimetype": "text/x-python",
   "name": "python",
   "nbconvert_exporter": "python",
   "pygments_lexer": "ipython3",
   "version": "3.7.3"
  }
 },
 "nbformat": 4,
 "nbformat_minor": 5
}
