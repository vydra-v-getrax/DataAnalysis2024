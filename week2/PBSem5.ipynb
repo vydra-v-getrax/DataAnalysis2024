{
 "cells": [
  {
   "cell_type": "markdown",
   "metadata": {},
   "source": [
    "## Subroutines and modules\n",
    "\n",
    "We can now write fairly large programs. As they get larger and longer, they get\n",
    "harder to understand, harder to keep track of what they’re doing, and harder to\n",
    "make changes when changes are necessary.\n",
    "\n",
    "There are several ways you’ll see this effect in your actual code. First, code will\n",
    "get repetitive; you’ll find yourself repeating whole blocks of code in your programs.\n",
    "This is always a bad idea. The problem is that if you ever need to change one of\n",
    "these blocks, you’ll typically need to change all of them, and it’s quite easy to either\n",
    "forget to do that, or do be inconsistent about it.\n",
    "\n",
    "Another way you’ll see this in a language like Python is that your indentation for\n",
    "code blocks will become confusing. You’ll be working on some line of code at the\n",
    "end of a block that’s tabbed/spaced in some number of times and not being sure\n",
    "how many tabs or spaces you need for the next line.\n",
    "\n",
    "These issues make us want to factor our code, break it into more efficient and conceptually\n",
    "more reasonable chunks: functions and modules."
   ]
  },
  {
   "cell_type": "markdown",
   "metadata": {},
   "source": [
    "#### Simple functions\n",
    "\n",
    "Functions are defined with the `def` keyword, followed by a function name of your\n",
    "choosing, parentheses, and colon. These are followed by a block of statements."
   ]
  },
  {
   "cell_type": "code",
   "execution_count": 1,
   "metadata": {},
   "outputs": [],
   "source": [
    "def myfunction():\n",
    "    print('This is a function')\n",
    "    print(\"That's all it does\")"
   ]
  },
  {
   "cell_type": "markdown",
   "metadata": {},
   "source": [
    "We can invoke this function just as we invoke any other function. The invocation\n",
    "must follow the function defintion (but need not follow it immediately of course)."
   ]
  },
  {
   "cell_type": "code",
   "execution_count": 2,
   "metadata": {},
   "outputs": [
    {
     "name": "stdout",
     "output_type": "stream",
     "text": [
      "This is a function\n",
      "That's all it does\n"
     ]
    }
   ],
   "source": [
    "def myfunction():\n",
    "    print('This is a function')\n",
    "    print(\"That's all it does\")\n",
    "#invoking that function\n",
    "myfunction()"
   ]
  },
  {
   "cell_type": "markdown",
   "metadata": {},
   "source": [
    "Functions allow us to simplify repetitive code. Consider the following simple program:"
   ]
  },
  {
   "cell_type": "code",
   "execution_count": 3,
   "metadata": {},
   "outputs": [
    {
     "name": "stdout",
     "output_type": "stream",
     "text": [
      "Colorless green ideas...\n",
      "...sleep furiously\n",
      "Enter a number: 6\n",
      "Your number was big enough\n"
     ]
    }
   ],
   "source": [
    "#print a famous sentence over two lines\n",
    "print('Colorless green ideas...')\n",
    "print('...sleep furiously')\n",
    "#get the user to enter a number\n",
    "num = input('Enter a number: ')\n",
    "#print the sentence again if it’s < 5\n",
    "if int(num) < 5:\n",
    "    print('Colorless green ideas...')\n",
    "    print('...sleep furiously')\n",
    "else:\n",
    "    print('Your number was big enough')"
   ]
  },
  {
   "cell_type": "markdown",
   "metadata": {},
   "source": [
    "Notice how the first and second lines are completed in the `if` block. We can avoid\n",
    "this repetition by defining our own function:"
   ]
  },
  {
   "cell_type": "code",
   "execution_count": 6,
   "metadata": {},
   "outputs": [
    {
     "name": "stdout",
     "output_type": "stream",
     "text": [
      "Colorless green ideas...\n",
      "...sleep furiously\n",
      "Enter a number: 3\n",
      "Colorless green ideas...\n",
      "...sleep furiously\n"
     ]
    }
   ],
   "source": [
    "#print a famous sentence over two lines\n",
    "def myfunc():\n",
    "    print('Colorless green ideas...')\n",
    "    print('...sleep furiously')\n",
    "#invoke the function\n",
    "myfunc()\n",
    "#get the user to enter a number\n",
    "num = input('Enter a number: ')\n",
    "#print the sentence again if it’s < 5\n",
    "if int(num) < 5:\n",
    "    myfunc()\n",
    "else:\n",
    "    print('Your number was big enough')"
   ]
  },
  {
   "cell_type": "markdown",
   "metadata": {},
   "source": [
    "Here we factor out the repeated two-line section as a separate function. We then\n",
    "call that function twice in the following code. \n",
    "The new code \n",
    "\n",
    "+ makes clear that those repeated parts are the same\n",
    "+ is also easier to maintain in the sense that if we wanted to change one of the repeated\n",
    "lines, we can do so once and the change is applied in both applications of the\n",
    "function\n",
    "\n",
    "Functions can be more complex of course. Here’s a slightly longer bit of code that\n",
    "takes input from the user."
   ]
  },
  {
   "cell_type": "code",
   "execution_count": 1,
   "metadata": {},
   "outputs": [
    {
     "name": "stdout",
     "output_type": "stream",
     "text": [
      "Word: elephant\n",
      "This is your word:  elephant\n",
      "Your word was long.\n"
     ]
    }
   ],
   "source": [
    "#a function\n",
    "def myfunc():\n",
    "    #user supplies a word\n",
    "    word = input('Word: ')\n",
    "    #print that word\n",
    "    print('This is your word: ',word)\n",
    "    #check if > 5\n",
    "    if len(word) > 5:\n",
    "        print('Your word was long.')\n",
    "    else:\n",
    "        print('Your word was short.')\n",
    "#invoke the function\n",
    "myfunc()"
   ]
  },
  {
   "cell_type": "markdown",
   "metadata": {},
   "source": [
    "Here the function reads user input, prints it, and then does different things depending\n",
    "on the length of the input.\n",
    "Notice how the function code creates a variable `word`. It’s important to note that\n",
    "that variable is available only **inside** the function. If we try to refer to a variable created\n",
    "and assigned a value inside some function outside that function, we get an error.\n",
    "Here’s an example of that:"
   ]
  },
  {
   "cell_type": "code",
   "execution_count": 2,
   "metadata": {},
   "outputs": [
    {
     "name": "stdout",
     "output_type": "stream",
     "text": [
      "Word: linguist\n",
      "This is your word: linguist\n"
     ]
    },
    {
     "ename": "NameError",
     "evalue": "name 'word' is not defined",
     "output_type": "error",
     "traceback": [
      "\u001b[1;31m---------------------------------------------------------------------------\u001b[0m",
      "\u001b[1;31mNameError\u001b[0m                                 Traceback (most recent call last)",
      "\u001b[1;32m<ipython-input-2-f2100897c4c3>\u001b[0m in \u001b[0;36m<module>\u001b[1;34m()\u001b[0m\n\u001b[0;32m      4\u001b[0m     \u001b[0mprint\u001b[0m\u001b[1;33m(\u001b[0m\u001b[1;34m'This is your word:'\u001b[0m\u001b[1;33m,\u001b[0m\u001b[0mword\u001b[0m\u001b[1;33m)\u001b[0m\u001b[1;33m\u001b[0m\u001b[0m\n\u001b[0;32m      5\u001b[0m \u001b[0mmyfunc\u001b[0m\u001b[1;33m(\u001b[0m\u001b[1;33m)\u001b[0m\u001b[1;33m\u001b[0m\u001b[0m\n\u001b[1;32m----> 6\u001b[1;33m \u001b[1;32mif\u001b[0m \u001b[0mlen\u001b[0m\u001b[1;33m(\u001b[0m\u001b[0mword\u001b[0m\u001b[1;33m)\u001b[0m \u001b[1;33m<\u001b[0m \u001b[1;36m5\u001b[0m\u001b[1;33m:\u001b[0m\u001b[1;33m\u001b[0m\u001b[0m\n\u001b[0m\u001b[0;32m      7\u001b[0m     \u001b[0mprint\u001b[0m\u001b[1;33m(\u001b[0m\u001b[1;34m\"Your word wasn't long enough\"\u001b[0m\u001b[1;33m)\u001b[0m\u001b[1;33m\u001b[0m\u001b[0m\n",
      "\u001b[1;31mNameError\u001b[0m: name 'word' is not defined"
     ]
    }
   ],
   "source": [
    "#this doesn’t work!\n",
    "def myfunc():\n",
    "    word = input('Word: ')\n",
    "    print('This is your word:',word)\n",
    "myfunc()\n",
    "if len(word) < 5:\n",
    "    print(\"Your word wasn't long enough\")"
   ]
  },
  {
   "cell_type": "markdown",
   "metadata": {},
   "source": [
    "On the other hand, variables outside a function are available inside a function.\n",
    "Here’s an example:"
   ]
  },
  {
   "cell_type": "code",
   "execution_count": 3,
   "metadata": {},
   "outputs": [
    {
     "name": "stdout",
     "output_type": "stream",
     "text": [
      "Word: linguist\n",
      "This is your word:  linguist\n"
     ]
    }
   ],
   "source": [
    "#user supplies a word\n",
    "word = input('Word: ')\n",
    "#function refers to previous value!\n",
    "def myfunc():\n",
    "    print('This is your word: ',word)\n",
    "#invoke the function\n",
    "myfunc()\n",
    "#check if the word is less than 5 letters\n",
    "if len(word) < 5:\n",
    "    print(\"Your word wasn't long enough\")"
   ]
  },
  {
   "cell_type": "markdown",
   "metadata": {},
   "source": [
    "Here the value of `word` is set outside the function. When the function is called, it\n",
    "has access to that value.\n",
    "\n",
    "#### Functions that return values"
   ]
  },
  {
   "cell_type": "markdown",
   "metadata": {},
   "source": [
    "So far, our functions have taken no arguments and have returned no values. In\n",
    "this section, we will see how to write functions that return a value. The syntax is very\n",
    "simple, the returned value of a function follows the keyword `return`. Here’s a\n",
    "simple example:"
   ]
  },
  {
   "cell_type": "code",
   "execution_count": 4,
   "metadata": {},
   "outputs": [
    {
     "name": "stdout",
     "output_type": "stream",
     "text": [
      "This prints.\n",
      "Here's the function output: 6\n"
     ]
    }
   ],
   "source": [
    "#function definition\n",
    "def myfunc():\n",
    "    #prints this\n",
    "    print(\"This prints.\")\n",
    "    #return the value 6\n",
    "    return 6\n",
    "    #gratuitous print command\n",
    "    print(\"This doesn't print!\")\n",
    "#invoke the function, assign value to x\n",
    "x = myfunc()\n",
    "#print the value of x\n",
    "print(\"Here's the function output:\",x)   "
   ]
  },
  {
   "cell_type": "markdown",
   "metadata": {},
   "source": [
    "Notice how the first `print` statement executes, but the second does not. The\n",
    "`return` statement exits the function, so subsequent statements cannot run.\n",
    "\n",
    "This does not mean that `return` must always be last in the function. We can, for\n",
    "example, embed `return` in an `if` structure."
   ]
  },
  {
   "cell_type": "code",
   "execution_count": 6,
   "metadata": {},
   "outputs": [
    {
     "name": "stdout",
     "output_type": "stream",
     "text": [
      "Type a word: linguist\n",
      "The result:  8\n"
     ]
    }
   ],
   "source": [
    "#function definition\n",
    "def lcountfunc():\n",
    "    #user supplies a word\n",
    "    wd = input('Type a word: ')\n",
    "    #check the length of the word\n",
    "    if len(wd) > 4:\n",
    "        #return length of word...\n",
    "        #...and exit function\n",
    "        return len(wd)\n",
    "    #otherwise...\n",
    "    else:\n",
    "        print('The word is too short!')\n",
    "#save value of function in variable\n",
    "res = lcountfunc()\n",
    "#print value of variable\n",
    "print('The result: ',res)"
   ]
  },
  {
   "cell_type": "markdown",
   "metadata": {},
   "source": [
    "Note that this function either returns a value or prints a value. If you use it in a context where you expect it to return a value, with `=` for example, we end up with\n",
    "the non-value `None` if it does not, in fact, return a value.\n",
    "\n",
    "Functions can also return more than one value. This is as simple as putting several\n",
    "values—seperated by commas—after the `return`. Here’s a simple example:"
   ]
  },
  {
   "cell_type": "code",
   "execution_count": 7,
   "metadata": {},
   "outputs": [
    {
     "name": "stdout",
     "output_type": "stream",
     "text": [
      "First string: happy\n",
      "Second string: linguist\n",
      "a = 5\n",
      "b = 8\n",
      "c = happy linguist\n"
     ]
    }
   ],
   "source": [
    "#function definition\n",
    "def myfunc():\n",
    "    #collect two strings\n",
    "    x = input('First string: ')\n",
    "    y = input('Second string: ')\n",
    "    #concatenate the strings\n",
    "    z = x + ' ' + y\n",
    "    #return all three\n",
    "    return len(x),len(y),z\n",
    "#invoke the function saving all\n",
    "#3 return values\n",
    "a,b,c = myfunc()\n",
    "#print the three values\n",
    "print('a =',a)\n",
    "print('b =',b)\n",
    "print('c =',c)"
   ]
  },
  {
   "cell_type": "markdown",
   "metadata": {},
   "source": [
    "Here the function prompts for two strings and then returns three values: the length\n",
    "of the first string, length of the second string, and the concatenation of the two\n",
    "strings. Note incidentally that the returned values need not be of the same type.\n",
    "Here, the first two returned values are integers and the third is a string.\n",
    "\n",
    "#### Functions that take arguments\n",
    "\n",
    "Functions can take arguments as well. This is superficially simple to do, but can\n",
    "get tricky. Basically, for a function to take an argument, you put some number of\n",
    "variable names in the parentheses in the function definition. Here’s a very simple\n",
    "example:"
   ]
  },
  {
   "cell_type": "code",
   "execution_count": 1,
   "metadata": {},
   "outputs": [
    {
     "name": "stdout",
     "output_type": "stream",
     "text": [
      "13\n",
      "strings too\n"
     ]
    }
   ],
   "source": [
    "#function that takes 2 arguments\n",
    "def myfunc(a,b):\n",
    "    #return the concatenation\n",
    "    #OR addition of those values\n",
    "    return a + b\n",
    "#invoke the function with numbers\n",
    "print(myfunc(3,10))\n",
    "#invoke the function with strings\n",
    "print(myfunc('strings ','too'))"
   ]
  },
  {
   "cell_type": "markdown",
   "metadata": {},
   "source": [
    "In this example, we give our function two arguments `a` and `b`. The function then\n",
    "applies the `+` operator to those. If we invoke the function with integer arguments,\n",
    "the result is the addition of the arguments. If we invoke the function with string\n",
    "arguments, we get the concatenation of those arguments. Thus Python does not\n",
    "generally restrict the type of the arguments a function can take.\n",
    "\n",
    "Ideally, argument names should be novel, not to be confused with other variables.\n",
    "Let’s consider this a bit more closely however. Compare the following two programs:"
   ]
  },
  {
   "cell_type": "code",
   "execution_count": 2,
   "metadata": {},
   "outputs": [
    {
     "name": "stdout",
     "output_type": "stream",
     "text": [
      "a value\n",
      "another value!\n",
      "a value\n"
     ]
    }
   ],
   "source": [
    "x = 'a value'\n",
    "def anotherfunc(a):\n",
    "    a = 'another value!'\n",
    "    return a\n",
    "print(x)\n",
    "print(anotherfunc(x))\n",
    "print(x)"
   ]
  },
  {
   "cell_type": "code",
   "execution_count": 3,
   "metadata": {},
   "outputs": [
    {
     "name": "stdout",
     "output_type": "stream",
     "text": [
      "[4, 5, 6]\n",
      "[4, 5, 6, 7]\n",
      "[4, 5, 6, 7]\n"
     ]
    }
   ],
   "source": [
    "x = [4,5,6]\n",
    "def anotherfunc(a):\n",
    "    a.append(7)\n",
    "    return a\n",
    "print(x)\n",
    "print(anotherfunc(x))\n",
    "print(x)"
   ]
  },
  {
   "cell_type": "markdown",
   "metadata": {},
   "source": [
    "The difference between these two programs corresponds to mutability. Mutable\n",
    "objects all work as in the second program; immutable objects work as in the first\n",
    "one."
   ]
  },
  {
   "cell_type": "markdown",
   "metadata": {},
   "source": [
    "We’ve already seen functions with more than one argument. There is more than\n",
    "one way to invoke these. Consider this example:"
   ]
  },
  {
   "cell_type": "code",
   "execution_count": 5,
   "metadata": {},
   "outputs": [
    {
     "name": "stdout",
     "output_type": "stream",
     "text": [
      "one way\n",
      "another way\n",
      "yet another way\n"
     ]
    }
   ],
   "source": [
    "#function definition\n",
    "def thefunction(x,y):\n",
    "    return x + ' ' + y\n",
    "#invoke the function 3 ways\n",
    "print(thefunction('one','way'))\n",
    "print(thefunction(x = 'another',y = 'way'))\n",
    "print(thefunction(y = 'way',x = 'yet another'))"
   ]
  },
  {
   "cell_type": "markdown",
   "metadata": {},
   "source": [
    "Here we define a function with two arguments and invoke it three different ways.\n",
    "One way is to just provide two arguments; these are interpreted as the two arguments\n",
    "in the function in the same order. A second way, is to name the variables.\n",
    "The names tell us which argument gets associated with which variable. Note that if we take this option, we can give the names in any order, as above.\n",
    "\n",
    "The `=` can be used in the function declaration as well to give default values to the\n",
    "function arguments. Here’s an example:"
   ]
  },
  {
   "cell_type": "code",
   "execution_count": 7,
   "metadata": {},
   "outputs": [
    {
     "name": "stdout",
     "output_type": "stream",
     "text": [
      "hat oops\n",
      "chair oops\n",
      "hat chair\n"
     ]
    }
   ],
   "source": [
    "#function with default value\n",
    "#for 2nd argument\n",
    "def f(x,y = 'oops'):\n",
    "    return x + ' ' + y\n",
    "#invoked 3 ways\n",
    "print(f('hat'))\n",
    "print(f(x='chair'))\n",
    "print(f('hat','chair'))"
   ]
  },
  {
   "cell_type": "markdown",
   "metadata": {},
   "source": [
    "Note that if you mix arguments with and without default values in your function\n",
    "declaration, all the arguments with default values must follow the arguments without.\n",
    "\n",
    "You can also write functions with a variable number of arguments. If you want\n",
    "a variable number of unnamed arguments, you put some variable name in the\n",
    "parentheses in your function declaration with a preceding asterisk. This variable\n",
    "can then be used as a list in the function body. If you want a variable number of\n",
    "named arguments, you put some variable name in the parentheses in your function\n",
    "declaration with two preceding asterisks. This variable can be used as a dictionary in the function body. If you use both, the list variable must precede the dictionary\n",
    "variable. Here is a simple example:"
   ]
  },
  {
   "cell_type": "code",
   "execution_count": 8,
   "metadata": {},
   "outputs": [
    {
     "name": "stdout",
     "output_type": "stream",
     "text": [
      "\t 3\n",
      "\t 6\n",
      "\t 8\n",
      "\t hat \t wow\n",
      "\t chair \t 3.5\n"
     ]
    }
   ],
   "source": [
    "#function with an unspecified\n",
    "#number of unnamed and named arguments\n",
    "def func(*args,**kwargs):\n",
    "    #print unnamed args\n",
    "    for a in args:\n",
    "        print('\\t',a)\n",
    "    #print named args\n",
    "    for k in kwargs:\n",
    "        print('\\t',k,'\\t',kwargs[k])\n",
    "#invoked with unnamed FOLLOWED by\n",
    "#named arguments\n",
    "func(3,6,8,hat='wow',chair=3.5)"
   ]
  },
  {
   "cell_type": "markdown",
   "metadata": {},
   "source": [
    "This function simply prints out all variables given as unnamed variables and then\n",
    "prints out all variables given as named variables. The latter are printed with their\n",
    "names."
   ]
  },
  {
   "cell_type": "markdown",
   "metadata": {},
   "source": [
    "#### Modules\n",
    "\n",
    "You can import pre-written code as a module, e.g.,\n",
    "\n",
    "```\n",
    "import re\n",
    "import random\n",
    "from sys import ardv #to import only specific elements of a module \n",
    "import sys as s #to create an alias for the module\n",
    "```"
   ]
  }
 ],
 "metadata": {
  "kernelspec": {
   "display_name": "Python 3 (ipykernel)",
   "language": "python",
   "name": "python3"
  },
  "language_info": {
   "codemirror_mode": {
    "name": "ipython",
    "version": 3
   },
   "file_extension": ".py",
   "mimetype": "text/x-python",
   "name": "python",
   "nbconvert_exporter": "python",
   "pygments_lexer": "ipython3",
   "version": "3.7.3"
  }
 },
 "nbformat": 4,
 "nbformat_minor": 2
}
