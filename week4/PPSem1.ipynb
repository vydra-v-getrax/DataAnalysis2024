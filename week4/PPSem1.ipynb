{
 "cells": [
  {
   "cell_type": "markdown",
   "metadata": {},
   "source": [
    "# Morphological analysis in Python\n",
    "\n",
    "```\n",
    "pip install pymystem3\n",
    "\n",
    "pip install pymorphy2\n",
    "```"
   ]
  },
  {
   "cell_type": "code",
   "execution_count": 1,
   "metadata": {},
   "outputs": [],
   "source": [
    "from pymystem3 import Mystem\n",
    "import pymorphy2"
   ]
  },
  {
   "cell_type": "markdown",
   "metadata": {},
   "source": [
    "## pymystem3"
   ]
  },
  {
   "cell_type": "markdown",
   "metadata": {},
   "source": [
    "`Pymystem3` is the wrapper for the Mystem: https://pythonhosted.org/pymystem3/\n",
    "\n",
    "First, we need to create an exemplar of the class:"
   ]
  },
  {
   "cell_type": "code",
   "execution_count": 2,
   "metadata": {},
   "outputs": [],
   "source": [
    "m = Mystem()"
   ]
  },
  {
   "cell_type": "markdown",
   "metadata": {},
   "source": [
    "This class has two methods:\n",
    "\n",
    "+ `lemmatize` -- returns a list of lemmas\n",
    "+ `analyze` -- returns the full analysis as a dictionary.\n",
    "\n",
    "Let's try out the two methods on a simple text:"
   ]
  },
  {
   "cell_type": "code",
   "execution_count": 3,
   "metadata": {},
   "outputs": [],
   "source": [
    "text = 'Живые выступления Делии де Франс - это камерные шоу,' +\\\n",
    "'в которых классические инструменты - фортепиано и арфа - соединяются с электроникой. ' +\\\n",
    "'Темой музыкального исследования Делии становятся пропорции - ' +\\\n",
    "'как много эксперимента нужно поп-музыке и как много попа нужно экспериментальной музыке.'"
   ]
  },
  {
   "cell_type": "code",
   "execution_count": 4,
   "metadata": {},
   "outputs": [
    {
     "data": {
      "text/plain": [
       "'Живые выступления Делии де Франс - это камерные шоу,в которых классические инструменты - фортепиано и арфа - соединяются с электроникой. Темой музыкального исследования Делии становятся пропорции - как много эксперимента нужно поп-музыке и как много попа нужно экспериментальной музыке.'"
      ]
     },
     "execution_count": 4,
     "metadata": {},
     "output_type": "execute_result"
    }
   ],
   "source": [
    "text"
   ]
  },
  {
   "cell_type": "code",
   "execution_count": 5,
   "metadata": {},
   "outputs": [
    {
     "data": {
      "text/plain": [
       "['это', ' ', 'камерный', ' ', 'шоу', ',', 'в', ' ', 'который', ' ']"
      ]
     },
     "execution_count": 5,
     "metadata": {},
     "output_type": "execute_result"
    }
   ],
   "source": [
    "lemmas = m.lemmatize(text)\n",
    "lemmas[10:20]"
   ]
  },
  {
   "cell_type": "markdown",
   "metadata": {},
   "source": [
    "We can easily put the text back together:"
   ]
  },
  {
   "cell_type": "code",
   "execution_count": 7,
   "metadata": {},
   "outputs": [
    {
     "name": "stdout",
     "output_type": "stream",
     "text": [
      "живой выступление делий де франс - это камерный шоу,в который классический инструмент - фортепиано и арфа - соединяться с электроника. тема музыкальный исследование делий становиться пропорция - как много эксперимент нужно поп-музыка и как много поп нужный экспериментальный музыка.\n",
      "\n"
     ]
    }
   ],
   "source": [
    "print(''.join(lemmas))"
   ]
  },
  {
   "cell_type": "code",
   "execution_count": 6,
   "metadata": {},
   "outputs": [
    {
     "name": "stdout",
     "output_type": "stream",
     "text": [
      "[{'analysis': [{'lex': 'живой', 'wt': 0.9239751582, 'gr': 'A=(вин,мн,полн,неод|им,мн,полн)'}], 'text': 'Живые'}, {'text': ' '}, {'analysis': [{'lex': 'выступление', 'wt': 1, 'gr': 'S,сред,неод=(вин,мн|род,ед|им,мн)'}], 'text': 'выступления'}, {'text': ' '}, {'analysis': [{'lex': 'делий', 'wt': 1, 'gr': 'S,имя,муж,од=(пр,ед|им,мн)'}], 'text': 'Делии'}, {'text': ' '}, {'analysis': [{'lex': 'де', 'wt': 1, 'gr': 'PART='}], 'text': 'де'}, {'text': ' '}, {'analysis': [{'lex': 'франс', 'wt': 1, 'gr': 'S,имя,муж,од=им,ед'}], 'text': 'Франс'}, {'text': ' - '}]\n"
     ]
    }
   ],
   "source": [
    "ana = m.analyze(text)\n",
    "print(ana[:10])"
   ]
  },
  {
   "cell_type": "markdown",
   "metadata": {},
   "source": [
    "The analysis of each word is an element of an array:"
   ]
  },
  {
   "cell_type": "code",
   "execution_count": 9,
   "metadata": {},
   "outputs": [
    {
     "name": "stdout",
     "output_type": "stream",
     "text": [
      "{'analysis': [{'lex': 'живой', 'wt': 0.9239751582, 'gr': 'A=(вин,мн,полн,неод|им,мн,полн)'}], 'text': 'Живые'}\n",
      "{'text': ' '}\n",
      "{'analysis': [{'lex': 'выступление', 'wt': 1, 'gr': 'S,сред,неод=(вин,мн|род,ед|им,мн)'}], 'text': 'выступления'}\n",
      "{'text': ' '}\n",
      "{'analysis': [{'lex': 'делий', 'wt': 1, 'gr': 'S,имя,муж,од=(пр,ед|им,мн)'}], 'text': 'Делии'}\n",
      "{'text': ' '}\n",
      "{'analysis': [{'lex': 'де', 'wt': 1, 'gr': 'PART='}], 'text': 'де'}\n",
      "{'text': ' '}\n",
      "{'analysis': [{'lex': 'франс', 'wt': 1, 'gr': 'S,имя,муж,од=им,ед'}], 'text': 'Франс'}\n",
      "{'text': ' - '}\n"
     ]
    }
   ],
   "source": [
    "for word in ana[:10]:\n",
    "    print(word)"
   ]
  },
  {
   "cell_type": "markdown",
   "metadata": {},
   "source": [
    "The field `text` contains the original words, the field `analysis` (that could be absent) contains the grammatical characteristics of the lemma.\n",
    "\n",
    "What is the meaning of `=` and `|` in the grammatical analysis above?\n",
    "\n",
    "Let's extract the part of speech information:"
   ]
  },
  {
   "cell_type": "code",
   "execution_count": 7,
   "metadata": {},
   "outputs": [
    {
     "name": "stdout",
     "output_type": "stream",
     "text": [
      "Живые A\n",
      "выступления S\n",
      "Делии S\n",
      "де PART\n",
      "Франс S\n",
      "это PART\n",
      "камерные A\n",
      "шоу S\n",
      "в PR\n",
      "которых APRO\n",
      "классические A\n",
      "инструменты S\n",
      "фортепиано S\n",
      "и CONJ\n",
      "арфа S\n",
      "соединяются V\n",
      "с PR\n",
      "электроникой S\n",
      "Темой S\n",
      "музыкального A\n",
      "исследования S\n",
      "Делии S\n",
      "становятся V\n",
      "пропорции S\n",
      "как CONJ\n",
      "много ADV\n",
      "эксперимента S\n",
      "нужно ADV\n",
      "поп-музыке S\n",
      "и CONJ\n",
      "как ADVPRO\n",
      "много ADV\n",
      "попа S\n",
      "нужно A\n",
      "экспериментальной A\n",
      "музыке S\n"
     ]
    }
   ],
   "source": [
    "for word in ana:\n",
    "    if 'analysis' in word:\n",
    "        gr = word['analysis'][0]['gr']\n",
    "        pos = gr.split('=')[0].split(',')[0]\n",
    "        print(word['text'], pos)"
   ]
  },
  {
   "cell_type": "markdown",
   "metadata": {},
   "source": [
    "#### To sum up:\n",
    "\n",
    "##### Advantages:\n",
    "\n",
    "+ great quality of the analysis\n",
    "+ it resolves part of speech homonymy \n",
    "+ it takes into account the context\n",
    "\n",
    "##### Disadvantages:\n",
    "\n",
    "+ it is slow (but if you strip the text of the punctuation, it will work much faster)\n"
   ]
  },
  {
   "cell_type": "markdown",
   "metadata": {},
   "source": [
    "## pymorphy2\n",
    "\n",
    "`pymorphy2` is not a wrapper, it is a morphological analyzer, created for and on Python. It can do what `pymystem3` can do, and more: for example, it can change the word form. `pymorphy2` can also deal with unknown words.\n",
    "\n",
    "https://pymorphy2.readthedocs.io/en/latest/\n",
    "\n",
    "`pymorphy2` was trained on the OpenCorpora word lists, which is reflected in its tag choice. \n",
    "\n",
    "Again, we start by creating an exemplar of the class MorphAnalyzer. It is recommended to create one exemplar and work with it, since it takes up a lot of the memory."
   ]
  },
  {
   "cell_type": "code",
   "execution_count": 11,
   "metadata": {},
   "outputs": [],
   "source": [
    "from pymorphy2 import MorphAnalyzer\n",
    "morph = MorphAnalyzer()"
   ]
  },
  {
   "cell_type": "markdown",
   "metadata": {},
   "source": [
    "To analyze a word we use the method `parse`:"
   ]
  },
  {
   "cell_type": "code",
   "execution_count": 12,
   "metadata": {},
   "outputs": [
    {
     "data": {
      "text/plain": [
       "[Parse(word='стали', tag=OpencorporaTag('VERB,perf,intr plur,past,indc'), normal_form='стать', score=0.984662, methods_stack=((<DictionaryAnalyzer>, 'стали', 904, 4),)),\n",
       " Parse(word='стали', tag=OpencorporaTag('NOUN,inan,femn sing,gent'), normal_form='сталь', score=0.003067, methods_stack=((<DictionaryAnalyzer>, 'стали', 13, 1),)),\n",
       " Parse(word='стали', tag=OpencorporaTag('NOUN,inan,femn sing,datv'), normal_form='сталь', score=0.003067, methods_stack=((<DictionaryAnalyzer>, 'стали', 13, 2),)),\n",
       " Parse(word='стали', tag=OpencorporaTag('NOUN,inan,femn sing,loct'), normal_form='сталь', score=0.003067, methods_stack=((<DictionaryAnalyzer>, 'стали', 13, 5),)),\n",
       " Parse(word='стали', tag=OpencorporaTag('NOUN,inan,femn plur,nomn'), normal_form='сталь', score=0.003067, methods_stack=((<DictionaryAnalyzer>, 'стали', 13, 6),)),\n",
       " Parse(word='стали', tag=OpencorporaTag('NOUN,inan,femn plur,accs'), normal_form='сталь', score=0.003067, methods_stack=((<DictionaryAnalyzer>, 'стали', 13, 9),))]"
      ]
     },
     "execution_count": 12,
     "metadata": {},
     "output_type": "execute_result"
    }
   ],
   "source": [
    "ana = morph.parse('стали')\n",
    "ana"
   ]
  },
  {
   "cell_type": "markdown",
   "metadata": {},
   "source": [
    "The analyzer returned all the possible analyses starting with the most likely analysis.\n",
    "\n",
    "Each parse has the following attributes: the orginal word, the tag, the lemma, the probability of the parse:"
   ]
  },
  {
   "cell_type": "code",
   "execution_count": 23,
   "metadata": {},
   "outputs": [
    {
     "name": "stdout",
     "output_type": "stream",
     "text": [
      "Слово: стали\n",
      "Тэг: VERB,perf,intr plur,past,indc\n",
      "Лемма: стать\n",
      "Вероятность: 0.984662\n"
     ]
    }
   ],
   "source": [
    "first = ana[0]  # the first parse\n",
    "print('Слово:', first.word)\n",
    "print('Тэг:', first.tag)\n",
    "print('Лемма:', first.normal_form)\n",
    "print('Вероятность:', first.score)"
   ]
  },
  {
   "cell_type": "markdown",
   "metadata": {},
   "source": [
    "For each parse, we can get a corresponding lemma and all the information about it:"
   ]
  },
  {
   "cell_type": "code",
   "execution_count": 14,
   "metadata": {},
   "outputs": [
    {
     "data": {
      "text/plain": [
       "Parse(word='стать', tag=OpencorporaTag('INFN,perf,intr'), normal_form='стать', score=1.0, methods_stack=((<DictionaryAnalyzer>, 'стать', 904, 0),))"
      ]
     },
     "execution_count": 14,
     "metadata": {},
     "output_type": "execute_result"
    }
   ],
   "source": [
    "first.normalized"
   ]
  },
  {
   "cell_type": "code",
   "execution_count": 24,
   "metadata": {},
   "outputs": [
    {
     "name": "stdout",
     "output_type": "stream",
     "text": [
      "Разбор слова:  Parse(word='стали', tag=OpencorporaTag('NOUN,inan,femn plur,accs'), normal_form='сталь', score=0.003067, methods_stack=((<DictionaryAnalyzer>, 'стали', 13, 9),))\n",
      "\n",
      "Разбор леммы:  Parse(word='сталь', tag=OpencorporaTag('NOUN,inan,femn sing,nomn'), normal_form='сталь', score=1.0, methods_stack=((<DictionaryAnalyzer>, 'сталь', 13, 0),))\n"
     ]
    }
   ],
   "source": [
    "last = ana[-1] # the last parse\n",
    "print('Разбор слова: ', last)\n",
    "print()\n",
    "print('Разбор леммы: ', last.normalized)"
   ]
  },
  {
   "cell_type": "markdown",
   "metadata": {},
   "source": [
    "If one prints the contents of the tag, one could think think that this is a string:"
   ]
  },
  {
   "cell_type": "code",
   "execution_count": 16,
   "metadata": {},
   "outputs": [
    {
     "name": "stdout",
     "output_type": "stream",
     "text": [
      "VERB,perf,intr plur,past,indc\n"
     ]
    }
   ],
   "source": [
    "first = ana[0]  # первый разбор\n",
    "print(first.tag)"
   ]
  },
  {
   "cell_type": "markdown",
   "metadata": {},
   "source": [
    "In reality, it is an object of the class `OpencorporaTag`, therefore, you can't manipulate it in all the ways you could manipulate a string.\n",
    "\n",
    "You could, however, check whether a certain grammeme is in the tag:\n"
   ]
  },
  {
   "cell_type": "code",
   "execution_count": 17,
   "metadata": {},
   "outputs": [
    {
     "data": {
      "text/plain": [
       "False"
      ]
     },
     "execution_count": 17,
     "metadata": {},
     "output_type": "execute_result"
    }
   ],
   "source": [
    "'NOUN' in first.tag"
   ]
  },
  {
   "cell_type": "code",
   "execution_count": 18,
   "metadata": {},
   "outputs": [
    {
     "data": {
      "text/plain": [
       "True"
      ]
     },
     "execution_count": 18,
     "metadata": {},
     "output_type": "execute_result"
    }
   ],
   "source": [
    "'VERB' in first.tag"
   ]
  },
  {
   "cell_type": "code",
   "execution_count": 19,
   "metadata": {},
   "outputs": [
    {
     "data": {
      "text/plain": [
       "False"
      ]
     },
     "execution_count": 19,
     "metadata": {},
     "output_type": "execute_result"
    }
   ],
   "source": [
    "{'VERB', 'sing'} in first.tag"
   ]
  },
  {
   "cell_type": "code",
   "execution_count": 20,
   "metadata": {},
   "outputs": [
    {
     "data": {
      "text/plain": [
       "True"
      ]
     },
     "execution_count": 20,
     "metadata": {},
     "output_type": "execute_result"
    }
   ],
   "source": [
    "{'VERB', 'plur'} in first.tag"
   ]
  },
  {
   "cell_type": "markdown",
   "metadata": {},
   "source": [
    "Out of each tag one could get more detailed information. If the grammeme is contained within the parse, we will get it, if not, we will get `None`."
   ]
  },
  {
   "cell_type": "code",
   "execution_count": null,
   "metadata": {},
   "outputs": [],
   "source": [
    "p.tag.POS           # Part of Speech, часть речи\n",
    "p.tag.animacy       # одушевленность\n",
    "p.tag.aspect        # вид: совершенный или несовершенный\n",
    "p.tag.case          # падеж\n",
    "p.tag.gender        # род (мужской, женский, средний)\n",
    "p.tag.involvement   # включенность говорящего в действие\n",
    "p.tag.mood          # наклонение (повелительное, изъявительное)\n",
    "p.tag.number        # число (единственное, множественное)\n",
    "p.tag.person        # лицо (1, 2, 3)\n",
    "p.tag.tense         # время (настоящее, прошедшее, будущее)\n",
    "p.tag.transitivity  # переходность (переходный, непереходный)\n",
    "p.tag.voice         # залог (действительный, страдательный)"
   ]
  },
  {
   "cell_type": "code",
   "execution_count": 21,
   "metadata": {},
   "outputs": [
    {
     "name": "stdout",
     "output_type": "stream",
     "text": [
      "VERB,perf,intr plur,past,indc\n",
      "Время:  past\n",
      "Падеж:  None\n"
     ]
    }
   ],
   "source": [
    "print(first.tag)\n",
    "print('Время: ', first.tag.tense)\n",
    "print('Падеж: ', first.tag.case)"
   ]
  },
  {
   "cell_type": "markdown",
   "metadata": {},
   "source": [
    "Here you can fird the full list of grammemes used in the module - https://pymorphy2.readthedocs.io/en/latest/user/grammemes.html. If you are searching for a grammeme that is not on the list, you will get an error.\n",
    "\n",
    "One could also get a string in cyrillic:\n"
   ]
  },
  {
   "cell_type": "code",
   "execution_count": 22,
   "metadata": {},
   "outputs": [
    {
     "data": {
      "text/plain": [
       "'ГЛ,сов,неперех мн,прош,изъяв'"
      ]
     },
     "execution_count": 22,
     "metadata": {},
     "output_type": "execute_result"
    }
   ],
   "source": [
    "first.tag.cyr_repr"
   ]
  },
  {
   "cell_type": "markdown",
   "metadata": {},
   "source": [
    "## Inflection\n",
    "\n",
    "If we have the analysis for the word, we can put the word in a different form by using the `inflect` function. This fuction gets a set of grammemes as an input and tries to apply them to the analysis."
   ]
  },
  {
   "cell_type": "code",
   "execution_count": 25,
   "metadata": {},
   "outputs": [
    {
     "data": {
      "text/plain": [
       "[Parse(word='программирую', tag=OpencorporaTag('VERB,impf,tran sing,1per,pres,indc'), normal_form='программировать', score=1.0, methods_stack=((<DictionaryAnalyzer>, 'программирую', 168, 1),))]"
      ]
     },
     "execution_count": 25,
     "metadata": {},
     "output_type": "execute_result"
    }
   ],
   "source": [
    "morph.parse('программирую')"
   ]
  },
  {
   "cell_type": "code",
   "execution_count": 26,
   "metadata": {},
   "outputs": [
    {
     "data": {
      "text/plain": [
       "Parse(word='программируем', tag=OpencorporaTag('VERB,impf,tran plur,1per,pres,indc'), normal_form='программировать', score=1.0, methods_stack=((<DictionaryAnalyzer>, 'программируем', 168, 2),))"
      ]
     },
     "execution_count": 26,
     "metadata": {},
     "output_type": "execute_result"
    }
   ],
   "source": [
    "prog = morph.parse('программирую')[0]\n",
    "prog.inflect({'plur'})"
   ]
  },
  {
   "cell_type": "code",
   "execution_count": 27,
   "metadata": {},
   "outputs": [
    {
     "data": {
      "text/plain": [
       "Parse(word='программировали', tag=OpencorporaTag('VERB,impf,tran plur,past,indc'), normal_form='программировать', score=1.0, methods_stack=((<DictionaryAnalyzer>, 'программировали', 168, 10),))"
      ]
     },
     "execution_count": 27,
     "metadata": {},
     "output_type": "execute_result"
    }
   ],
   "source": [
    "prog.inflect({'plur', 'past'})"
   ]
  },
  {
   "cell_type": "code",
   "execution_count": 28,
   "metadata": {},
   "outputs": [
    {
     "data": {
      "text/plain": [
       "Parse(word='программировал', tag=OpencorporaTag('VERB,impf,tran masc,sing,past,indc'), normal_form='программировать', score=1.0, methods_stack=((<DictionaryAnalyzer>, 'программировал', 168, 7),))"
      ]
     },
     "execution_count": 28,
     "metadata": {},
     "output_type": "execute_result"
    }
   ],
   "source": [
    "prog.inflect({'past'})"
   ]
  },
  {
   "cell_type": "code",
   "execution_count": 29,
   "metadata": {},
   "outputs": [
    {
     "data": {
      "text/plain": [
       "Parse(word='программировала', tag=OpencorporaTag('VERB,impf,tran femn,sing,past,indc'), normal_form='программировать', score=1.0, methods_stack=((<DictionaryAnalyzer>, 'программировала', 168, 8),))"
      ]
     },
     "execution_count": 29,
     "metadata": {},
     "output_type": "execute_result"
    }
   ],
   "source": [
    "prog.inflect({'past', 'femn'})"
   ]
  },
  {
   "cell_type": "markdown",
   "metadata": {},
   "source": [
    "## Word forms\n",
    "\n",
    "Using the `lexeme` attribute, we could get an array of all the word forms:\n"
   ]
  },
  {
   "cell_type": "code",
   "execution_count": 30,
   "metadata": {},
   "outputs": [
    {
     "data": {
      "text/plain": [
       "[Parse(word='программировать', tag=OpencorporaTag('INFN,impf,tran'), normal_form='программировать', score=1.0, methods_stack=((<DictionaryAnalyzer>, 'программировать', 168, 0),)),\n",
       " Parse(word='программирую', tag=OpencorporaTag('VERB,impf,tran sing,1per,pres,indc'), normal_form='программировать', score=1.0, methods_stack=((<DictionaryAnalyzer>, 'программирую', 168, 1),)),\n",
       " Parse(word='программируем', tag=OpencorporaTag('VERB,impf,tran plur,1per,pres,indc'), normal_form='программировать', score=1.0, methods_stack=((<DictionaryAnalyzer>, 'программируем', 168, 2),)),\n",
       " Parse(word='программируешь', tag=OpencorporaTag('VERB,impf,tran sing,2per,pres,indc'), normal_form='программировать', score=1.0, methods_stack=((<DictionaryAnalyzer>, 'программируешь', 168, 3),)),\n",
       " Parse(word='программируете', tag=OpencorporaTag('VERB,impf,tran plur,2per,pres,indc'), normal_form='программировать', score=1.0, methods_stack=((<DictionaryAnalyzer>, 'программируете', 168, 4),)),\n",
       " Parse(word='программирует', tag=OpencorporaTag('VERB,impf,tran sing,3per,pres,indc'), normal_form='программировать', score=1.0, methods_stack=((<DictionaryAnalyzer>, 'программирует', 168, 5),)),\n",
       " Parse(word='программируют', tag=OpencorporaTag('VERB,impf,tran plur,3per,pres,indc'), normal_form='программировать', score=1.0, methods_stack=((<DictionaryAnalyzer>, 'программируют', 168, 6),)),\n",
       " Parse(word='программировал', tag=OpencorporaTag('VERB,impf,tran masc,sing,past,indc'), normal_form='программировать', score=1.0, methods_stack=((<DictionaryAnalyzer>, 'программировал', 168, 7),)),\n",
       " Parse(word='программировала', tag=OpencorporaTag('VERB,impf,tran femn,sing,past,indc'), normal_form='программировать', score=1.0, methods_stack=((<DictionaryAnalyzer>, 'программировала', 168, 8),)),\n",
       " Parse(word='программировало', tag=OpencorporaTag('VERB,impf,tran neut,sing,past,indc'), normal_form='программировать', score=1.0, methods_stack=((<DictionaryAnalyzer>, 'программировало', 168, 9),)),\n",
       " Parse(word='программировали', tag=OpencorporaTag('VERB,impf,tran plur,past,indc'), normal_form='программировать', score=1.0, methods_stack=((<DictionaryAnalyzer>, 'программировали', 168, 10),)),\n",
       " Parse(word='программируй', tag=OpencorporaTag('VERB,impf,tran sing,impr,excl'), normal_form='программировать', score=1.0, methods_stack=((<DictionaryAnalyzer>, 'программируй', 168, 11),)),\n",
       " Parse(word='программируйте', tag=OpencorporaTag('VERB,impf,tran plur,impr,excl'), normal_form='программировать', score=1.0, methods_stack=((<DictionaryAnalyzer>, 'программируйте', 168, 12),)),\n",
       " Parse(word='программирующий', tag=OpencorporaTag('PRTF,impf,tran,pres,actv masc,sing,nomn'), normal_form='программировать', score=1.0, methods_stack=((<DictionaryAnalyzer>, 'программирующий', 168, 13),)),\n",
       " Parse(word='программирующего', tag=OpencorporaTag('PRTF,impf,tran,pres,actv masc,sing,gent'), normal_form='программировать', score=1.0, methods_stack=((<DictionaryAnalyzer>, 'программирующего', 168, 14),)),\n",
       " Parse(word='программирующему', tag=OpencorporaTag('PRTF,impf,tran,pres,actv masc,sing,datv'), normal_form='программировать', score=1.0, methods_stack=((<DictionaryAnalyzer>, 'программирующему', 168, 15),)),\n",
       " Parse(word='программирующего', tag=OpencorporaTag('PRTF,impf,tran,pres,actv anim,masc,sing,accs'), normal_form='программировать', score=1.0, methods_stack=((<DictionaryAnalyzer>, 'программирующего', 168, 16),)),\n",
       " Parse(word='программирующий', tag=OpencorporaTag('PRTF,impf,tran,pres,actv inan,masc,sing,accs'), normal_form='программировать', score=1.0, methods_stack=((<DictionaryAnalyzer>, 'программирующий', 168, 17),)),\n",
       " Parse(word='программирующим', tag=OpencorporaTag('PRTF,impf,tran,pres,actv masc,sing,ablt'), normal_form='программировать', score=1.0, methods_stack=((<DictionaryAnalyzer>, 'программирующим', 168, 18),)),\n",
       " Parse(word='программирующем', tag=OpencorporaTag('PRTF,impf,tran,pres,actv masc,sing,loct'), normal_form='программировать', score=1.0, methods_stack=((<DictionaryAnalyzer>, 'программирующем', 168, 19),)),\n",
       " Parse(word='программирующая', tag=OpencorporaTag('PRTF,impf,tran,pres,actv femn,sing,nomn'), normal_form='программировать', score=1.0, methods_stack=((<DictionaryAnalyzer>, 'программирующая', 168, 20),)),\n",
       " Parse(word='программирующей', tag=OpencorporaTag('PRTF,impf,tran,pres,actv femn,sing,gent'), normal_form='программировать', score=1.0, methods_stack=((<DictionaryAnalyzer>, 'программирующей', 168, 21),)),\n",
       " Parse(word='программирующей', tag=OpencorporaTag('PRTF,impf,tran,pres,actv femn,sing,datv'), normal_form='программировать', score=1.0, methods_stack=((<DictionaryAnalyzer>, 'программирующей', 168, 22),)),\n",
       " Parse(word='программирующую', tag=OpencorporaTag('PRTF,impf,tran,pres,actv femn,sing,accs'), normal_form='программировать', score=1.0, methods_stack=((<DictionaryAnalyzer>, 'программирующую', 168, 23),)),\n",
       " Parse(word='программирующей', tag=OpencorporaTag('PRTF,impf,tran,pres,actv femn,sing,ablt'), normal_form='программировать', score=1.0, methods_stack=((<DictionaryAnalyzer>, 'программирующей', 168, 24),)),\n",
       " Parse(word='программирующею', tag=OpencorporaTag('PRTF,impf,tran,pres,actv femn,sing,ablt,V-ey'), normal_form='программировать', score=1.0, methods_stack=((<DictionaryAnalyzer>, 'программирующею', 168, 25),)),\n",
       " Parse(word='программирующей', tag=OpencorporaTag('PRTF,impf,tran,pres,actv femn,sing,loct'), normal_form='программировать', score=1.0, methods_stack=((<DictionaryAnalyzer>, 'программирующей', 168, 26),)),\n",
       " Parse(word='программирующее', tag=OpencorporaTag('PRTF,impf,tran,pres,actv neut,sing,nomn'), normal_form='программировать', score=1.0, methods_stack=((<DictionaryAnalyzer>, 'программирующее', 168, 27),)),\n",
       " Parse(word='программирующего', tag=OpencorporaTag('PRTF,impf,tran,pres,actv neut,sing,gent'), normal_form='программировать', score=1.0, methods_stack=((<DictionaryAnalyzer>, 'программирующего', 168, 28),)),\n",
       " Parse(word='программирующему', tag=OpencorporaTag('PRTF,impf,tran,pres,actv neut,sing,datv'), normal_form='программировать', score=1.0, methods_stack=((<DictionaryAnalyzer>, 'программирующему', 168, 29),)),\n",
       " Parse(word='программирующее', tag=OpencorporaTag('PRTF,impf,tran,pres,actv neut,sing,accs'), normal_form='программировать', score=1.0, methods_stack=((<DictionaryAnalyzer>, 'программирующее', 168, 30),)),\n",
       " Parse(word='программирующим', tag=OpencorporaTag('PRTF,impf,tran,pres,actv neut,sing,ablt'), normal_form='программировать', score=1.0, methods_stack=((<DictionaryAnalyzer>, 'программирующим', 168, 31),)),\n",
       " Parse(word='программирующем', tag=OpencorporaTag('PRTF,impf,tran,pres,actv neut,sing,loct'), normal_form='программировать', score=1.0, methods_stack=((<DictionaryAnalyzer>, 'программирующем', 168, 32),)),\n",
       " Parse(word='программирующие', tag=OpencorporaTag('PRTF,impf,tran,pres,actv plur,nomn'), normal_form='программировать', score=1.0, methods_stack=((<DictionaryAnalyzer>, 'программирующие', 168, 33),)),\n",
       " Parse(word='программирующих', tag=OpencorporaTag('PRTF,impf,tran,pres,actv plur,gent'), normal_form='программировать', score=1.0, methods_stack=((<DictionaryAnalyzer>, 'программирующих', 168, 34),)),\n",
       " Parse(word='программирующим', tag=OpencorporaTag('PRTF,impf,tran,pres,actv plur,datv'), normal_form='программировать', score=1.0, methods_stack=((<DictionaryAnalyzer>, 'программирующим', 168, 35),)),\n",
       " Parse(word='программирующих', tag=OpencorporaTag('PRTF,impf,tran,pres,actv anim,plur,accs'), normal_form='программировать', score=1.0, methods_stack=((<DictionaryAnalyzer>, 'программирующих', 168, 36),)),\n",
       " Parse(word='программирующие', tag=OpencorporaTag('PRTF,impf,tran,pres,actv inan,plur,accs'), normal_form='программировать', score=1.0, methods_stack=((<DictionaryAnalyzer>, 'программирующие', 168, 37),)),\n",
       " Parse(word='программирующими', tag=OpencorporaTag('PRTF,impf,tran,pres,actv plur,ablt'), normal_form='программировать', score=1.0, methods_stack=((<DictionaryAnalyzer>, 'программирующими', 168, 38),)),\n",
       " Parse(word='программирующих', tag=OpencorporaTag('PRTF,impf,tran,pres,actv plur,loct'), normal_form='программировать', score=1.0, methods_stack=((<DictionaryAnalyzer>, 'программирующих', 168, 39),)),\n",
       " Parse(word='программировавший', tag=OpencorporaTag('PRTF,impf,tran,past,actv masc,sing,nomn'), normal_form='программировать', score=1.0, methods_stack=((<DictionaryAnalyzer>, 'программировавший', 168, 40),)),\n",
       " Parse(word='программировавшего', tag=OpencorporaTag('PRTF,impf,tran,past,actv masc,sing,gent'), normal_form='программировать', score=1.0, methods_stack=((<DictionaryAnalyzer>, 'программировавшего', 168, 41),)),\n",
       " Parse(word='программировавшему', tag=OpencorporaTag('PRTF,impf,tran,past,actv masc,sing,datv'), normal_form='программировать', score=1.0, methods_stack=((<DictionaryAnalyzer>, 'программировавшему', 168, 42),)),\n",
       " Parse(word='программировавшего', tag=OpencorporaTag('PRTF,impf,tran,past,actv anim,masc,sing,accs'), normal_form='программировать', score=1.0, methods_stack=((<DictionaryAnalyzer>, 'программировавшего', 168, 43),)),\n",
       " Parse(word='программировавший', tag=OpencorporaTag('PRTF,impf,tran,past,actv inan,masc,sing,accs'), normal_form='программировать', score=1.0, methods_stack=((<DictionaryAnalyzer>, 'программировавший', 168, 44),)),\n",
       " Parse(word='программировавшим', tag=OpencorporaTag('PRTF,impf,tran,past,actv masc,sing,ablt'), normal_form='программировать', score=1.0, methods_stack=((<DictionaryAnalyzer>, 'программировавшим', 168, 45),)),\n",
       " Parse(word='программировавшем', tag=OpencorporaTag('PRTF,impf,tran,past,actv masc,sing,loct'), normal_form='программировать', score=1.0, methods_stack=((<DictionaryAnalyzer>, 'программировавшем', 168, 46),)),\n",
       " Parse(word='программировавшая', tag=OpencorporaTag('PRTF,impf,tran,past,actv femn,sing,nomn'), normal_form='программировать', score=1.0, methods_stack=((<DictionaryAnalyzer>, 'программировавшая', 168, 47),)),\n",
       " Parse(word='программировавшей', tag=OpencorporaTag('PRTF,impf,tran,past,actv femn,sing,gent'), normal_form='программировать', score=1.0, methods_stack=((<DictionaryAnalyzer>, 'программировавшей', 168, 48),)),\n",
       " Parse(word='программировавшей', tag=OpencorporaTag('PRTF,impf,tran,past,actv femn,sing,datv'), normal_form='программировать', score=1.0, methods_stack=((<DictionaryAnalyzer>, 'программировавшей', 168, 49),)),\n",
       " Parse(word='программировавшую', tag=OpencorporaTag('PRTF,impf,tran,past,actv femn,sing,accs'), normal_form='программировать', score=1.0, methods_stack=((<DictionaryAnalyzer>, 'программировавшую', 168, 50),)),\n",
       " Parse(word='программировавшей', tag=OpencorporaTag('PRTF,impf,tran,past,actv femn,sing,ablt'), normal_form='программировать', score=1.0, methods_stack=((<DictionaryAnalyzer>, 'программировавшей', 168, 51),)),\n",
       " Parse(word='программировавшею', tag=OpencorporaTag('PRTF,impf,tran,past,actv femn,sing,ablt,V-ey'), normal_form='программировать', score=1.0, methods_stack=((<DictionaryAnalyzer>, 'программировавшею', 168, 52),)),\n",
       " Parse(word='программировавшей', tag=OpencorporaTag('PRTF,impf,tran,past,actv femn,sing,loct'), normal_form='программировать', score=1.0, methods_stack=((<DictionaryAnalyzer>, 'программировавшей', 168, 53),)),\n",
       " Parse(word='программировавшее', tag=OpencorporaTag('PRTF,impf,tran,past,actv neut,sing,nomn'), normal_form='программировать', score=1.0, methods_stack=((<DictionaryAnalyzer>, 'программировавшее', 168, 54),)),\n",
       " Parse(word='программировавшего', tag=OpencorporaTag('PRTF,impf,tran,past,actv neut,sing,gent'), normal_form='программировать', score=1.0, methods_stack=((<DictionaryAnalyzer>, 'программировавшего', 168, 55),)),\n",
       " Parse(word='программировавшему', tag=OpencorporaTag('PRTF,impf,tran,past,actv neut,sing,datv'), normal_form='программировать', score=1.0, methods_stack=((<DictionaryAnalyzer>, 'программировавшему', 168, 56),)),\n",
       " Parse(word='программировавшее', tag=OpencorporaTag('PRTF,impf,tran,past,actv neut,sing,accs'), normal_form='программировать', score=1.0, methods_stack=((<DictionaryAnalyzer>, 'программировавшее', 168, 57),)),\n",
       " Parse(word='программировавшим', tag=OpencorporaTag('PRTF,impf,tran,past,actv neut,sing,ablt'), normal_form='программировать', score=1.0, methods_stack=((<DictionaryAnalyzer>, 'программировавшим', 168, 58),)),\n",
       " Parse(word='программировавшем', tag=OpencorporaTag('PRTF,impf,tran,past,actv neut,sing,loct'), normal_form='программировать', score=1.0, methods_stack=((<DictionaryAnalyzer>, 'программировавшем', 168, 59),)),\n",
       " Parse(word='программировавшие', tag=OpencorporaTag('PRTF,impf,tran,past,actv plur,nomn'), normal_form='программировать', score=1.0, methods_stack=((<DictionaryAnalyzer>, 'программировавшие', 168, 60),)),\n",
       " Parse(word='программировавших', tag=OpencorporaTag('PRTF,impf,tran,past,actv plur,gent'), normal_form='программировать', score=1.0, methods_stack=((<DictionaryAnalyzer>, 'программировавших', 168, 61),)),\n",
       " Parse(word='программировавшим', tag=OpencorporaTag('PRTF,impf,tran,past,actv plur,datv'), normal_form='программировать', score=1.0, methods_stack=((<DictionaryAnalyzer>, 'программировавшим', 168, 62),)),\n",
       " Parse(word='программировавших', tag=OpencorporaTag('PRTF,impf,tran,past,actv anim,plur,accs'), normal_form='программировать', score=1.0, methods_stack=((<DictionaryAnalyzer>, 'программировавших', 168, 63),)),\n",
       " Parse(word='программировавшие', tag=OpencorporaTag('PRTF,impf,tran,past,actv inan,plur,accs'), normal_form='программировать', score=1.0, methods_stack=((<DictionaryAnalyzer>, 'программировавшие', 168, 64),)),\n",
       " Parse(word='программировавшими', tag=OpencorporaTag('PRTF,impf,tran,past,actv plur,ablt'), normal_form='программировать', score=1.0, methods_stack=((<DictionaryAnalyzer>, 'программировавшими', 168, 65),)),\n",
       " Parse(word='программировавших', tag=OpencorporaTag('PRTF,impf,tran,past,actv plur,loct'), normal_form='программировать', score=1.0, methods_stack=((<DictionaryAnalyzer>, 'программировавших', 168, 66),)),\n",
       " Parse(word='программируемый', tag=OpencorporaTag('PRTF,impf,tran,pres,pssv masc,sing,nomn'), normal_form='программировать', score=1.0, methods_stack=((<DictionaryAnalyzer>, 'программируемый', 168, 67),)),\n",
       " Parse(word='программируемого', tag=OpencorporaTag('PRTF,impf,tran,pres,pssv masc,sing,gent'), normal_form='программировать', score=1.0, methods_stack=((<DictionaryAnalyzer>, 'программируемого', 168, 68),)),\n",
       " Parse(word='программируемому', tag=OpencorporaTag('PRTF,impf,tran,pres,pssv masc,sing,datv'), normal_form='программировать', score=1.0, methods_stack=((<DictionaryAnalyzer>, 'программируемому', 168, 69),)),\n",
       " Parse(word='программируемого', tag=OpencorporaTag('PRTF,impf,tran,pres,pssv anim,masc,sing,accs'), normal_form='программировать', score=1.0, methods_stack=((<DictionaryAnalyzer>, 'программируемого', 168, 70),)),\n",
       " Parse(word='программируемый', tag=OpencorporaTag('PRTF,impf,tran,pres,pssv inan,masc,sing,accs'), normal_form='программировать', score=1.0, methods_stack=((<DictionaryAnalyzer>, 'программируемый', 168, 71),)),\n",
       " Parse(word='программируемым', tag=OpencorporaTag('PRTF,impf,tran,pres,pssv masc,sing,ablt'), normal_form='программировать', score=1.0, methods_stack=((<DictionaryAnalyzer>, 'программируемым', 168, 72),)),\n",
       " Parse(word='программируемом', tag=OpencorporaTag('PRTF,impf,tran,pres,pssv masc,sing,loct'), normal_form='программировать', score=1.0, methods_stack=((<DictionaryAnalyzer>, 'программируемом', 168, 73),)),\n",
       " Parse(word='программируемая', tag=OpencorporaTag('PRTF,impf,tran,pres,pssv femn,sing,nomn'), normal_form='программировать', score=1.0, methods_stack=((<DictionaryAnalyzer>, 'программируемая', 168, 74),)),\n",
       " Parse(word='программируемой', tag=OpencorporaTag('PRTF,impf,tran,pres,pssv femn,sing,gent'), normal_form='программировать', score=1.0, methods_stack=((<DictionaryAnalyzer>, 'программируемой', 168, 75),)),\n",
       " Parse(word='программируемой', tag=OpencorporaTag('PRTF,impf,tran,pres,pssv femn,sing,datv'), normal_form='программировать', score=1.0, methods_stack=((<DictionaryAnalyzer>, 'программируемой', 168, 76),)),\n",
       " Parse(word='программируемую', tag=OpencorporaTag('PRTF,impf,tran,pres,pssv femn,sing,accs'), normal_form='программировать', score=1.0, methods_stack=((<DictionaryAnalyzer>, 'программируемую', 168, 77),)),\n",
       " Parse(word='программируемой', tag=OpencorporaTag('PRTF,impf,tran,pres,pssv femn,sing,ablt'), normal_form='программировать', score=1.0, methods_stack=((<DictionaryAnalyzer>, 'программируемой', 168, 78),)),\n",
       " Parse(word='программируемою', tag=OpencorporaTag('PRTF,impf,tran,pres,pssv femn,sing,ablt,V-oy'), normal_form='программировать', score=1.0, methods_stack=((<DictionaryAnalyzer>, 'программируемою', 168, 79),)),\n",
       " Parse(word='программируемой', tag=OpencorporaTag('PRTF,impf,tran,pres,pssv femn,sing,loct'), normal_form='программировать', score=1.0, methods_stack=((<DictionaryAnalyzer>, 'программируемой', 168, 80),)),\n",
       " Parse(word='программируемое', tag=OpencorporaTag('PRTF,impf,tran,pres,pssv neut,sing,nomn'), normal_form='программировать', score=1.0, methods_stack=((<DictionaryAnalyzer>, 'программируемое', 168, 81),)),\n",
       " Parse(word='программируемого', tag=OpencorporaTag('PRTF,impf,tran,pres,pssv neut,sing,gent'), normal_form='программировать', score=1.0, methods_stack=((<DictionaryAnalyzer>, 'программируемого', 168, 82),)),\n",
       " Parse(word='программируемому', tag=OpencorporaTag('PRTF,impf,tran,pres,pssv neut,sing,datv'), normal_form='программировать', score=1.0, methods_stack=((<DictionaryAnalyzer>, 'программируемому', 168, 83),)),\n",
       " Parse(word='программируемое', tag=OpencorporaTag('PRTF,impf,tran,pres,pssv neut,sing,accs'), normal_form='программировать', score=1.0, methods_stack=((<DictionaryAnalyzer>, 'программируемое', 168, 84),)),\n",
       " Parse(word='программируемым', tag=OpencorporaTag('PRTF,impf,tran,pres,pssv neut,sing,ablt'), normal_form='программировать', score=1.0, methods_stack=((<DictionaryAnalyzer>, 'программируемым', 168, 85),)),\n",
       " Parse(word='программируемом', tag=OpencorporaTag('PRTF,impf,tran,pres,pssv neut,sing,loct'), normal_form='программировать', score=1.0, methods_stack=((<DictionaryAnalyzer>, 'программируемом', 168, 86),)),\n",
       " Parse(word='программируемые', tag=OpencorporaTag('PRTF,impf,tran,pres,pssv plur,nomn'), normal_form='программировать', score=1.0, methods_stack=((<DictionaryAnalyzer>, 'программируемые', 168, 87),)),\n",
       " Parse(word='программируемых', tag=OpencorporaTag('PRTF,impf,tran,pres,pssv plur,gent'), normal_form='программировать', score=1.0, methods_stack=((<DictionaryAnalyzer>, 'программируемых', 168, 88),)),\n",
       " Parse(word='программируемым', tag=OpencorporaTag('PRTF,impf,tran,pres,pssv plur,datv'), normal_form='программировать', score=1.0, methods_stack=((<DictionaryAnalyzer>, 'программируемым', 168, 89),)),\n",
       " Parse(word='программируемых', tag=OpencorporaTag('PRTF,impf,tran,pres,pssv anim,plur,accs'), normal_form='программировать', score=1.0, methods_stack=((<DictionaryAnalyzer>, 'программируемых', 168, 90),)),\n",
       " Parse(word='программируемые', tag=OpencorporaTag('PRTF,impf,tran,pres,pssv inan,plur,accs'), normal_form='программировать', score=1.0, methods_stack=((<DictionaryAnalyzer>, 'программируемые', 168, 91),)),\n",
       " Parse(word='программируемыми', tag=OpencorporaTag('PRTF,impf,tran,pres,pssv plur,ablt'), normal_form='программировать', score=1.0, methods_stack=((<DictionaryAnalyzer>, 'программируемыми', 168, 92),)),\n",
       " Parse(word='программируемых', tag=OpencorporaTag('PRTF,impf,tran,pres,pssv plur,loct'), normal_form='программировать', score=1.0, methods_stack=((<DictionaryAnalyzer>, 'программируемых', 168, 93),)),\n",
       " Parse(word='программированный', tag=OpencorporaTag('PRTF,impf,tran,past,pssv masc,sing,nomn'), normal_form='программировать', score=1.0, methods_stack=((<DictionaryAnalyzer>, 'программированный', 168, 94),)),\n",
       " Parse(word='программированного', tag=OpencorporaTag('PRTF,impf,tran,past,pssv masc,sing,gent'), normal_form='программировать', score=1.0, methods_stack=((<DictionaryAnalyzer>, 'программированного', 168, 95),)),\n",
       " Parse(word='программированному', tag=OpencorporaTag('PRTF,impf,tran,past,pssv masc,sing,datv'), normal_form='программировать', score=1.0, methods_stack=((<DictionaryAnalyzer>, 'программированному', 168, 96),)),\n",
       " Parse(word='программированного', tag=OpencorporaTag('PRTF,impf,tran,past,pssv anim,masc,sing,accs'), normal_form='программировать', score=1.0, methods_stack=((<DictionaryAnalyzer>, 'программированного', 168, 97),)),\n",
       " Parse(word='программированный', tag=OpencorporaTag('PRTF,impf,tran,past,pssv inan,masc,sing,accs'), normal_form='программировать', score=1.0, methods_stack=((<DictionaryAnalyzer>, 'программированный', 168, 98),)),\n",
       " Parse(word='программированным', tag=OpencorporaTag('PRTF,impf,tran,past,pssv masc,sing,ablt'), normal_form='программировать', score=1.0, methods_stack=((<DictionaryAnalyzer>, 'программированным', 168, 99),)),\n",
       " Parse(word='программированном', tag=OpencorporaTag('PRTF,impf,tran,past,pssv masc,sing,loct'), normal_form='программировать', score=1.0, methods_stack=((<DictionaryAnalyzer>, 'программированном', 168, 100),)),\n",
       " Parse(word='программированная', tag=OpencorporaTag('PRTF,impf,tran,past,pssv femn,sing,nomn'), normal_form='программировать', score=1.0, methods_stack=((<DictionaryAnalyzer>, 'программированная', 168, 101),)),\n",
       " Parse(word='программированной', tag=OpencorporaTag('PRTF,impf,tran,past,pssv femn,sing,gent'), normal_form='программировать', score=1.0, methods_stack=((<DictionaryAnalyzer>, 'программированной', 168, 102),)),\n",
       " Parse(word='программированной', tag=OpencorporaTag('PRTF,impf,tran,past,pssv femn,sing,datv'), normal_form='программировать', score=1.0, methods_stack=((<DictionaryAnalyzer>, 'программированной', 168, 103),)),\n",
       " Parse(word='программированную', tag=OpencorporaTag('PRTF,impf,tran,past,pssv femn,sing,accs'), normal_form='программировать', score=1.0, methods_stack=((<DictionaryAnalyzer>, 'программированную', 168, 104),)),\n",
       " Parse(word='программированной', tag=OpencorporaTag('PRTF,impf,tran,past,pssv femn,sing,ablt'), normal_form='программировать', score=1.0, methods_stack=((<DictionaryAnalyzer>, 'программированной', 168, 105),)),\n",
       " Parse(word='программированною', tag=OpencorporaTag('PRTF,impf,tran,past,pssv femn,sing,ablt,V-oy'), normal_form='программировать', score=1.0, methods_stack=((<DictionaryAnalyzer>, 'программированною', 168, 106),)),\n",
       " Parse(word='программированной', tag=OpencorporaTag('PRTF,impf,tran,past,pssv femn,sing,loct'), normal_form='программировать', score=1.0, methods_stack=((<DictionaryAnalyzer>, 'программированной', 168, 107),)),\n",
       " Parse(word='программированное', tag=OpencorporaTag('PRTF,impf,tran,past,pssv neut,sing,nomn'), normal_form='программировать', score=1.0, methods_stack=((<DictionaryAnalyzer>, 'программированное', 168, 108),)),\n",
       " Parse(word='программированного', tag=OpencorporaTag('PRTF,impf,tran,past,pssv neut,sing,gent'), normal_form='программировать', score=1.0, methods_stack=((<DictionaryAnalyzer>, 'программированного', 168, 109),)),\n",
       " Parse(word='программированному', tag=OpencorporaTag('PRTF,impf,tran,past,pssv neut,sing,datv'), normal_form='программировать', score=1.0, methods_stack=((<DictionaryAnalyzer>, 'программированному', 168, 110),)),\n",
       " Parse(word='программированное', tag=OpencorporaTag('PRTF,impf,tran,past,pssv neut,sing,accs'), normal_form='программировать', score=1.0, methods_stack=((<DictionaryAnalyzer>, 'программированное', 168, 111),)),\n",
       " Parse(word='программированным', tag=OpencorporaTag('PRTF,impf,tran,past,pssv neut,sing,ablt'), normal_form='программировать', score=1.0, methods_stack=((<DictionaryAnalyzer>, 'программированным', 168, 112),)),\n",
       " Parse(word='программированном', tag=OpencorporaTag('PRTF,impf,tran,past,pssv neut,sing,loct'), normal_form='программировать', score=1.0, methods_stack=((<DictionaryAnalyzer>, 'программированном', 168, 113),)),\n",
       " Parse(word='программированные', tag=OpencorporaTag('PRTF,impf,tran,past,pssv plur,nomn'), normal_form='программировать', score=1.0, methods_stack=((<DictionaryAnalyzer>, 'программированные', 168, 114),)),\n",
       " Parse(word='программированных', tag=OpencorporaTag('PRTF,impf,tran,past,pssv plur,gent'), normal_form='программировать', score=1.0, methods_stack=((<DictionaryAnalyzer>, 'программированных', 168, 115),)),\n",
       " Parse(word='программированным', tag=OpencorporaTag('PRTF,impf,tran,past,pssv plur,datv'), normal_form='программировать', score=1.0, methods_stack=((<DictionaryAnalyzer>, 'программированным', 168, 116),)),\n",
       " Parse(word='программированных', tag=OpencorporaTag('PRTF,impf,tran,past,pssv anim,plur,accs'), normal_form='программировать', score=1.0, methods_stack=((<DictionaryAnalyzer>, 'программированных', 168, 117),)),\n",
       " Parse(word='программированные', tag=OpencorporaTag('PRTF,impf,tran,past,pssv inan,plur,accs'), normal_form='программировать', score=1.0, methods_stack=((<DictionaryAnalyzer>, 'программированные', 168, 118),)),\n",
       " Parse(word='программированными', tag=OpencorporaTag('PRTF,impf,tran,past,pssv plur,ablt'), normal_form='программировать', score=1.0, methods_stack=((<DictionaryAnalyzer>, 'программированными', 168, 119),)),\n",
       " Parse(word='программированных', tag=OpencorporaTag('PRTF,impf,tran,past,pssv plur,loct'), normal_form='программировать', score=1.0, methods_stack=((<DictionaryAnalyzer>, 'программированных', 168, 120),)),\n",
       " Parse(word='программируя', tag=OpencorporaTag('GRND,impf,tran pres'), normal_form='программировать', score=1.0, methods_stack=((<DictionaryAnalyzer>, 'программируя', 168, 121),)),\n",
       " Parse(word='программировавши', tag=OpencorporaTag('GRND,impf,tran past,V-sh'), normal_form='программировать', score=1.0, methods_stack=((<DictionaryAnalyzer>, 'программировавши', 168, 122),)),\n",
       " Parse(word='программируем', tag=OpencorporaTag('PRTS,impf,pres,pssv masc,sing'), normal_form='программировать', score=1.0, methods_stack=((<DictionaryAnalyzer>, 'программируем', 168, 123),)),\n",
       " Parse(word='программируема', tag=OpencorporaTag('PRTS,impf,pres,pssv femn,sing'), normal_form='программировать', score=1.0, methods_stack=((<DictionaryAnalyzer>, 'программируема', 168, 124),)),\n",
       " Parse(word='программируемо', tag=OpencorporaTag('PRTS,impf,pres,pssv neut,sing'), normal_form='программировать', score=1.0, methods_stack=((<DictionaryAnalyzer>, 'программируемо', 168, 125),)),\n",
       " Parse(word='программируемы', tag=OpencorporaTag('PRTS,impf,pres,pssv plur'), normal_form='программировать', score=1.0, methods_stack=((<DictionaryAnalyzer>, 'программируемы', 168, 126),)),\n",
       " Parse(word='программирован', tag=OpencorporaTag('PRTS,impf,past,pssv masc,sing'), normal_form='программировать', score=1.0, methods_stack=((<DictionaryAnalyzer>, 'программирован', 168, 127),)),\n",
       " Parse(word='программирована', tag=OpencorporaTag('PRTS,impf,past,pssv femn,sing'), normal_form='программировать', score=1.0, methods_stack=((<DictionaryAnalyzer>, 'программирована', 168, 128),)),\n",
       " Parse(word='программировано', tag=OpencorporaTag('PRTS,impf,past,pssv neut,sing'), normal_form='программировать', score=1.0, methods_stack=((<DictionaryAnalyzer>, 'программировано', 168, 129),)),\n",
       " Parse(word='программированы', tag=OpencorporaTag('PRTS,impf,past,pssv plur'), normal_form='программировать', score=1.0, methods_stack=((<DictionaryAnalyzer>, 'программированы', 168, 130),))]"
      ]
     },
     "execution_count": 30,
     "metadata": {},
     "output_type": "execute_result"
    }
   ],
   "source": [
    "prog.lexeme"
   ]
  },
  {
   "cell_type": "markdown",
   "metadata": {},
   "source": [
    "## Agreement with a numeral\n",
    "\n",
    "From documentation:\n",
    "\n",
    ">Слово нужно ставить в разные формы в зависимости от числительного, к которому оно относится. Например: “1 бутявка”, “2 бутявки”, “5 бутявок” Для этих целей используйте метод Parse.make_agree_with_number():\n",
    "\n"
   ]
  },
  {
   "cell_type": "code",
   "execution_count": 31,
   "metadata": {},
   "outputs": [],
   "source": [
    "butyavka = morph.parse('бутявка')[0]"
   ]
  },
  {
   "cell_type": "code",
   "execution_count": 32,
   "metadata": {},
   "outputs": [
    {
     "data": {
      "text/plain": [
       "'бутявка'"
      ]
     },
     "execution_count": 32,
     "metadata": {},
     "output_type": "execute_result"
    }
   ],
   "source": [
    "butyavka.make_agree_with_number(1).word"
   ]
  },
  {
   "cell_type": "code",
   "execution_count": 33,
   "metadata": {},
   "outputs": [
    {
     "data": {
      "text/plain": [
       "'бутявки'"
      ]
     },
     "execution_count": 33,
     "metadata": {},
     "output_type": "execute_result"
    }
   ],
   "source": [
    "butyavka.make_agree_with_number(2).word"
   ]
  },
  {
   "cell_type": "code",
   "execution_count": 35,
   "metadata": {},
   "outputs": [
    {
     "data": {
      "text/plain": [
       "'бутявок'"
      ]
     },
     "execution_count": 35,
     "metadata": {},
     "output_type": "execute_result"
    }
   ],
   "source": [
    "butyavka.make_agree_with_number(100).word"
   ]
  },
  {
   "cell_type": "markdown",
   "metadata": {},
   "source": [
    "#### Summing up:\n",
    "\n",
    "##### Advantages:\n",
    "\n",
    "+ it parses, it deals with the inclination cases\n",
    "+ it generates hypotheses for unknown words\n",
    "+ it is written on Python and is faster than Mystem\n",
    "+ it can work with Ukranian -- note as an idea for your in-class presentation or your final project\n",
    "\n",
    "##### Disadvantages:\n",
    "\n",
    "+ some problems with the quality of the parses\n",
    "+ it does not take into account the context\n",
    "\n",
    "#### Exercise:\n",
    "\n",
    "1. Find a poem\n",
    "2. Print a list of all the words from the poem with their part of speech tags\n",
    "3. Print a lemmatized version of the poem\n",
    "4. Print the poem with all the verbs in the imperative \n"
   ]
  },
  {
   "cell_type": "markdown",
   "metadata": {},
   "source": [
    "## Tokenizing and tagging some text using NLTK"
   ]
  },
  {
   "cell_type": "code",
   "execution_count": 53,
   "metadata": {},
   "outputs": [
    {
     "name": "stdout",
     "output_type": "stream",
     "text": [
      "[nltk_data] Downloading package punkt to\n",
      "[nltk_data]     C:\\Users\\Admin\\AppData\\Roaming\\nltk_data...\n",
      "[nltk_data]   Package punkt is already up-to-date!\n",
      "[nltk_data] Downloading package averaged_perceptron_tagger to\n",
      "[nltk_data]     C:\\Users\\Admin\\AppData\\Roaming\\nltk_data...\n",
      "[nltk_data]   Unzipping taggers\\averaged_perceptron_tagger.zip.\n"
     ]
    },
    {
     "data": {
      "text/plain": [
       "True"
      ]
     },
     "execution_count": 53,
     "metadata": {},
     "output_type": "execute_result"
    }
   ],
   "source": [
    "import nltk\n",
    "nltk.download('punkt')\n",
    "nltk.download('averaged_perceptron_tagger')"
   ]
  },
  {
   "cell_type": "code",
   "execution_count": 49,
   "metadata": {},
   "outputs": [],
   "source": [
    "sentence = \"\"\"At eight o'clock on Thursday morning Arthur didn't feel very good.\"\"\""
   ]
  },
  {
   "cell_type": "code",
   "execution_count": 51,
   "metadata": {},
   "outputs": [],
   "source": [
    "tokens = nltk.word_tokenize(sentence)"
   ]
  },
  {
   "cell_type": "code",
   "execution_count": 54,
   "metadata": {},
   "outputs": [
    {
     "data": {
      "text/plain": [
       "['At',\n",
       " 'eight',\n",
       " \"o'clock\",\n",
       " 'on',\n",
       " 'Thursday',\n",
       " 'morning',\n",
       " 'Arthur',\n",
       " 'did',\n",
       " \"n't\",\n",
       " 'feel',\n",
       " 'very',\n",
       " 'good',\n",
       " '.']"
      ]
     },
     "execution_count": 54,
     "metadata": {},
     "output_type": "execute_result"
    }
   ],
   "source": [
    "tokens"
   ]
  },
  {
   "cell_type": "code",
   "execution_count": 57,
   "metadata": {},
   "outputs": [
    {
     "data": {
      "text/plain": [
       "[('At', 'IN'),\n",
       " ('eight', 'CD'),\n",
       " (\"o'clock\", 'NN'),\n",
       " ('on', 'IN'),\n",
       " ('Thursday', 'NNP'),\n",
       " ('morning', 'NN'),\n",
       " ('Arthur', 'NNP'),\n",
       " ('did', 'VBD'),\n",
       " (\"n't\", 'RB'),\n",
       " ('feel', 'VB'),\n",
       " ('very', 'RB'),\n",
       " ('good', 'JJ'),\n",
       " ('.', '.')]"
      ]
     },
     "execution_count": 57,
     "metadata": {},
     "output_type": "execute_result"
    }
   ],
   "source": [
    "tagged = nltk.pos_tag(tokens)\n",
    "tagged[0:13]"
   ]
  }
 ],
 "metadata": {
  "kernelspec": {
   "display_name": "Python 3 (ipykernel)",
   "language": "python",
   "name": "python3"
  },
  "language_info": {
   "codemirror_mode": {
    "name": "ipython",
    "version": 3
   },
   "file_extension": ".py",
   "mimetype": "text/x-python",
   "name": "python",
   "nbconvert_exporter": "python",
   "pygments_lexer": "ipython3",
   "version": "3.7.3"
  }
 },
 "nbformat": 4,
 "nbformat_minor": 2
}
