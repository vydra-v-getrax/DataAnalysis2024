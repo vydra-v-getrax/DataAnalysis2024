{
 "cells": [
  {
   "cell_type": "markdown",
   "metadata": {
    "id": "LzxJ7kUhqPUQ"
   },
   "source": [
    "# Классы\n",
    "\n",
    "Object-oriented programming (OOP) is one of the key approaches to programming. Programs are represented as a set of objects, each of which is a representative of some more general type (class).\n",
    "\n",
    "A class describes the properties (attributes) and actions (methods) of an object, for example, a cat has paws (attribute number of paws), eye color, color, it can make sounds (purr) - this is a method. A cat as a species is a general scheme that is relevant for all individual cats (for the cat Princess, the cat Softpaws and all others).\n",
    "\n",
    "A specific cat, for example, the cat Softpaws, has all these properties, but there may be differences. For example, the eye color may be yellow, the color may be red. But the Princess may have green eyes and gray color.\n",
    "\n",
    "Softpaws, Princess are ```instances``` of cats, specific objects belonging to the same class.\n",
    "\n",
    "Let's describe this in Python.\n",
    "\n",
    "The ```__init__``` method receives parameters that we set for a specific object, and they are assigned there. Let's focus on eye color and coat color for now.\n",
    "\n",
    "```self``` means this object. This allows us to access different attributes of the object inside the method, for example, to see the eye color inside talk. In this example, this is unnecessary, but if cats could talk, we could substitute the name, for example, in the answer, cats.\n",
    "\n",
    "Classes are usually named with a capital letter, and representative objects with a lowercase letter."
   ]
  },
  {
   "cell_type": "code",
   "execution_count": 1,
   "metadata": {
    "id": "xAcGDfesqPUh"
   },
   "outputs": [],
   "source": [
    "class Cat:\n",
    "    \n",
    "    number_of_eyes = 2\n",
    "    \n",
    "    def __init__(self, eye_color, fur_color):\n",
    "        self.eye_color = eye_color\n",
    "        self.fur_color = fur_color\n",
    "        \n",
    "    def talk(self):\n",
    "        return \"Meow!\""
   ]
  },
  {
   "cell_type": "code",
   "execution_count": 2,
   "metadata": {
    "id": "EWCyVRfsqPU4"
   },
   "outputs": [],
   "source": [
    "princess = Cat(eye_color=\"green\", fur_color=\"grey\")\n",
    "softpaws = Cat(eye_color=\"yellow\", fur_color=\"red\")"
   ]
  },
  {
   "cell_type": "markdown",
   "metadata": {
    "id": "vrUXwnDvqPU_"
   },
   "source": [
    "Let's print Princess. So far it doesn't work because the class doesn't have a default parameter for printing:"
   ]
  },
  {
   "cell_type": "code",
   "execution_count": 3,
   "metadata": {
    "colab": {
     "base_uri": "https://localhost:8080/"
    },
    "id": "s56PyDIvqPVD",
    "outputId": "37e3d346-6777-4b37-95b2-db80ad204e54"
   },
   "outputs": [
    {
     "data": {
      "text/plain": [
       "<__main__.Cat at 0x1bb3b0cfbe0>"
      ]
     },
     "execution_count": 3,
     "metadata": {},
     "output_type": "execute_result"
    }
   ],
   "source": [
    "princess"
   ]
  },
  {
   "cell_type": "markdown",
   "metadata": {
    "id": "HotIqCnvqPVH"
   },
   "source": [
    "But we can call methods and ask Princess to meow:"
   ]
  },
  {
   "cell_type": "code",
   "execution_count": 4,
   "metadata": {
    "colab": {
     "base_uri": "https://localhost:8080/",
     "height": 35
    },
    "id": "v52F5RDhqPVK",
    "outputId": "6594be59-011a-4bdf-99ac-95f7d9596fd3"
   },
   "outputs": [
    {
     "data": {
      "text/plain": [
       "'Meow!'"
      ]
     },
     "execution_count": 4,
     "metadata": {},
     "output_type": "execute_result"
    }
   ],
   "source": [
    "princess.talk()"
   ]
  },
  {
   "cell_type": "markdown",
   "metadata": {
    "id": "_aLr7WCYqPVM"
   },
   "source": [
    "or learn the eye color or the fur color:"
   ]
  },
  {
   "cell_type": "code",
   "execution_count": 5,
   "metadata": {
    "colab": {
     "base_uri": "https://localhost:8080/"
    },
    "id": "tlz-gHRCqPVN",
    "outputId": "10df9054-ba35-4c78-c25d-91ca46fefa1d"
   },
   "outputs": [
    {
     "name": "stdout",
     "output_type": "stream",
     "text": [
      "green\n",
      "grey\n"
     ]
    }
   ],
   "source": [
    "print(princess.eye_color)\n",
    "print(princess.fur_color)"
   ]
  },
  {
   "cell_type": "code",
   "execution_count": 6,
   "metadata": {
    "colab": {
     "base_uri": "https://localhost:8080/"
    },
    "id": "L3tkXm69qPVP",
    "outputId": "9d82cb6b-d4fe-428e-fa28-15c1eb7d39d4"
   },
   "outputs": [
    {
     "name": "stdout",
     "output_type": "stream",
     "text": [
      "yellow\n",
      "red\n"
     ]
    }
   ],
   "source": [
    "print(softpaws.eye_color)\n",
    "print(softpaws.fur_color)"
   ]
  },
  {
   "cell_type": "markdown",
   "metadata": {
    "id": "1QU4B_8pqPVS"
   },
   "source": [
    "We can check the type of an object"
   ]
  },
  {
   "cell_type": "code",
   "execution_count": 7,
   "metadata": {
    "colab": {
     "base_uri": "https://localhost:8080/"
    },
    "id": "_tuek4hvqPVT",
    "outputId": "50f439b4-5dfc-43d9-c7ef-1580412595a9"
   },
   "outputs": [
    {
     "data": {
      "text/plain": [
       "__main__.Cat"
      ]
     },
     "execution_count": 7,
     "metadata": {},
     "output_type": "execute_result"
    }
   ],
   "source": [
    "type(princess)"
   ]
  },
  {
   "cell_type": "code",
   "execution_count": 7,
   "metadata": {
    "colab": {
     "base_uri": "https://localhost:8080/"
    },
    "id": "rp7k3lszqPVW",
    "outputId": "6fa8569e-0892-41b7-e560-0e5b46a06653"
   },
   "outputs": [
    {
     "data": {
      "text/plain": [
       "str"
      ]
     },
     "execution_count": 7,
     "metadata": {},
     "output_type": "execute_result"
    }
   ],
   "source": [
    "type(\"princess\")"
   ]
  },
  {
   "cell_type": "code",
   "execution_count": 8,
   "metadata": {
    "colab": {
     "base_uri": "https://localhost:8080/"
    },
    "id": "LLy7yp-uqPVX",
    "outputId": "1f484b8f-6dfc-4711-d30f-c02ebc56f38e"
   },
   "outputs": [
    {
     "data": {
      "text/plain": [
       "2"
      ]
     },
     "execution_count": 8,
     "metadata": {},
     "output_type": "execute_result"
    }
   ],
   "source": [
    "princess.number_of_eyes"
   ]
  },
  {
   "cell_type": "code",
   "execution_count": 9,
   "metadata": {
    "id": "pVZ6YtBpqPVY"
   },
   "outputs": [],
   "source": [
    "princess.number_of_eyes = 3"
   ]
  },
  {
   "cell_type": "code",
   "execution_count": 11,
   "metadata": {},
   "outputs": [
    {
     "data": {
      "text/plain": [
       "3"
      ]
     },
     "execution_count": 11,
     "metadata": {},
     "output_type": "execute_result"
    }
   ],
   "source": [
    "princess.number_of_eyes"
   ]
  },
  {
   "cell_type": "code",
   "execution_count": 10,
   "metadata": {
    "colab": {
     "base_uri": "https://localhost:8080/"
    },
    "id": "ePzd-rxkqPVa",
    "outputId": "b37002d4-3c71-4d86-c2f1-cf34f4dd23d0"
   },
   "outputs": [
    {
     "data": {
      "text/plain": [
       "2"
      ]
     },
     "execution_count": 10,
     "metadata": {},
     "output_type": "execute_result"
    }
   ],
   "source": [
    "softpaws.number_of_eyes"
   ]
  },
  {
   "cell_type": "markdown",
   "metadata": {
    "id": "17QMhNULqPVc"
   },
   "source": [
    "## Inheritance\n",
    "\n",
    "Cats and dogs are quite similar, they have eye color, maybe a name, they can make sounds (in different ways). We can describe the animal in general, and then just clarify the points that are different (for example, in actions).\n",
    "\n",
    "To show that a method does not need different attributes and other properties, you can write ```@staticmethod```\n",
    "\n",
    "You noticed that init comes with underscores, and talk without. Methods with underscores are special (magic) methods of Python that describe standard things that usually happen to objects (for example, initialization, that is, defining an object, string representation, length, comparison with another, equality, etc.). You can read [here](https://www.tutorialsteacher.com/python/magic-methods-in-python)"
   ]
  },
  {
   "cell_type": "code",
   "execution_count": 31,
   "metadata": {
    "id": "Jgj7APKDqPVe"
   },
   "outputs": [],
   "source": [
    "class Animal:\n",
    "    \n",
    "    def __init__(self, name, age, eye_color, fur_color):\n",
    "        self.name = name\n",
    "        self.age = age\n",
    "        self.eye_color = eye_color\n",
    "        self.fur_color = fur_color\n",
    "    \n",
    "    @staticmethod # takes no attributes (e.g., self.name)\n",
    "    def talk():\n",
    "        return \"...\" # string\n",
    "    \n",
    "    def birthday(self):\n",
    "        self.age += 1\n",
    "        return f\"{self.name} is {self.age}!\"\n",
    "    \n",
    "    def __str__(self):\n",
    "        return f\"Name: {self.name}.\\nAge: {self.age}.\\nEyes: {self.eye_color}.\\nColor: {self.fur_color}\""
   ]
  },
  {
   "cell_type": "markdown",
   "metadata": {
    "id": "K8y8Vnr-qPVf"
   },
   "source": [
    "We generally made a piction of what an animal looks like to us, now we can show that it is a cat or a dog. In this schema, they differ only in that they make different sounds. We can indicate after the class name that this class inherits the properties of another, that is, it will take everything that it has and overwrite what we write here (talk)."
   ]
  },
  {
   "cell_type": "code",
   "execution_count": 32,
   "metadata": {
    "id": "zIoI3F3UqPVg"
   },
   "outputs": [],
   "source": [
    "class Dog(Animal):\n",
    "    \n",
    "    @staticmethod\n",
    "    def talk():\n",
    "        return \"Woof!\"\n",
    "    \n",
    "    @staticmethod\n",
    "    def get_stick():\n",
    "        return \"Woof!Woof!\"\n",
    "\n",
    "class Cat(Animal):\n",
    "    \n",
    "    @staticmethod\n",
    "    def talk():\n",
    "        return \"Meow!\""
   ]
  },
  {
   "cell_type": "code",
   "execution_count": 33,
   "metadata": {
    "id": "8pV0-OyHqPVh"
   },
   "outputs": [],
   "source": [
    "princess = Cat(\"Princess\", 3, \"green\", \"gray\")\n",
    "softpaws = Cat(\"Softpaws\", 5, \"yellow\", \"red\")\n",
    "\n",
    "barbos = Dog(\"Barbos\", 4, \"black\", \"black\")"
   ]
  },
  {
   "cell_type": "code",
   "execution_count": 34,
   "metadata": {
    "colab": {
     "base_uri": "https://localhost:8080/",
     "height": 35
    },
    "id": "im4RyNBvqPVi",
    "outputId": "f805e54c-44dd-4622-9950-92a84ca75f55"
   },
   "outputs": [
    {
     "data": {
      "text/plain": [
       "'Woof!Woof!'"
      ]
     },
     "execution_count": 34,
     "metadata": {},
     "output_type": "execute_result"
    }
   ],
   "source": [
    "barbos.get_stick()"
   ]
  },
  {
   "cell_type": "code",
   "execution_count": 35,
   "metadata": {
    "colab": {
     "base_uri": "https://localhost:8080/",
     "height": 166
    },
    "id": "mxX7EKg5qPVj",
    "outputId": "095352b2-c574-491f-8062-4377e3c753bd"
   },
   "outputs": [
    {
     "ename": "AttributeError",
     "evalue": "'Cat' object has no attribute 'get_stick'",
     "output_type": "error",
     "traceback": [
      "\u001b[1;31m---------------------------------------------------------------------------\u001b[0m",
      "\u001b[1;31mAttributeError\u001b[0m                            Traceback (most recent call last)",
      "\u001b[1;32m~\\AppData\\Local\\Temp\\ipykernel_14364\\631790285.py\u001b[0m in \u001b[0;36m<module>\u001b[1;34m\u001b[0m\n\u001b[1;32m----> 1\u001b[1;33m \u001b[0mprincess\u001b[0m\u001b[1;33m.\u001b[0m\u001b[0mget_stick\u001b[0m\u001b[1;33m(\u001b[0m\u001b[1;33m)\u001b[0m\u001b[1;33m\u001b[0m\u001b[1;33m\u001b[0m\u001b[0m\n\u001b[0m",
      "\u001b[1;31mAttributeError\u001b[0m: 'Cat' object has no attribute 'get_stick'"
     ]
    }
   ],
   "source": [
    "princess.get_stick()"
   ]
  },
  {
   "cell_type": "code",
   "execution_count": 36,
   "metadata": {
    "colab": {
     "base_uri": "https://localhost:8080/"
    },
    "id": "yN0jGpeAqPVk",
    "outputId": "f59d50c1-aad8-4190-a3ec-5f29a319e1f4"
   },
   "outputs": [
    {
     "name": "stdout",
     "output_type": "stream",
     "text": [
      "<class '__main__.Cat'>\n",
      "<class '__main__.Dog'>\n"
     ]
    }
   ],
   "source": [
    "print(type(softpaws))\n",
    "print(type(barbos))"
   ]
  },
  {
   "cell_type": "code",
   "execution_count": 37,
   "metadata": {
    "colab": {
     "base_uri": "https://localhost:8080/",
     "height": 35
    },
    "id": "wT-6HPrXqPVo",
    "outputId": "e60a6682-c75f-4ca8-95ea-087c3525321d"
   },
   "outputs": [
    {
     "data": {
      "text/plain": [
       "'Meow!'"
      ]
     },
     "execution_count": 37,
     "metadata": {},
     "output_type": "execute_result"
    }
   ],
   "source": [
    "softpaws.talk()"
   ]
  },
  {
   "cell_type": "code",
   "execution_count": 38,
   "metadata": {
    "colab": {
     "base_uri": "https://localhost:8080/",
     "height": 35
    },
    "id": "dXzKs52dqPVp",
    "outputId": "187e615f-7c11-43e3-9ebf-598bbc010e6b"
   },
   "outputs": [
    {
     "data": {
      "text/plain": [
       "'Woof!'"
      ]
     },
     "execution_count": 38,
     "metadata": {},
     "output_type": "execute_result"
    }
   ],
   "source": [
    "barbos.talk()"
   ]
  },
  {
   "cell_type": "markdown",
   "metadata": {
    "id": "LuDt04FrqPVr"
   },
   "source": [
    "Убедимся, что методы Animal работают"
   ]
  },
  {
   "cell_type": "code",
   "execution_count": 39,
   "metadata": {
    "colab": {
     "base_uri": "https://localhost:8080/"
    },
    "id": "Bsv-AYJcqPVs",
    "outputId": "05384435-17f6-43ee-f05c-56f17236c2a3"
   },
   "outputs": [
    {
     "name": "stdout",
     "output_type": "stream",
     "text": [
      "5\n",
      "Softpaws is 6!\n",
      "6\n"
     ]
    }
   ],
   "source": [
    "print(softpaws.age)\n",
    "print(softpaws.birthday())\n",
    "print(softpaws.age)"
   ]
  },
  {
   "cell_type": "code",
   "execution_count": 40,
   "metadata": {
    "colab": {
     "base_uri": "https://localhost:8080/"
    },
    "id": "LrXazRiaqPVt",
    "outputId": "4bc510a6-5b5a-42b0-fb64-f3b2ebbd5dd1"
   },
   "outputs": [
    {
     "name": "stdout",
     "output_type": "stream",
     "text": [
      "4\n",
      "Barbos is 5!\n",
      "5\n"
     ]
    }
   ],
   "source": [
    "print(barbos.age)\n",
    "print(barbos.birthday())\n",
    "print(barbos.age)"
   ]
  },
  {
   "cell_type": "code",
   "execution_count": 41,
   "metadata": {
    "colab": {
     "base_uri": "https://localhost:8080/"
    },
    "id": "en0oHmLWqPVu",
    "outputId": "204cd9e0-102f-42b1-dabf-5d777e71a01c"
   },
   "outputs": [
    {
     "name": "stdout",
     "output_type": "stream",
     "text": [
      "Name: Barbos.\n",
      "Age: 5.\n",
      "Eyes: black.\n",
      "Color: black\n"
     ]
    }
   ],
   "source": [
    "print(barbos)"
   ]
  },
  {
   "cell_type": "code",
   "execution_count": 42,
   "metadata": {
    "colab": {
     "base_uri": "https://localhost:8080/"
    },
    "id": "LNQ-qeJ3qPVv",
    "outputId": "0865ffea-0ed9-40ef-aedc-1f02d68688d2"
   },
   "outputs": [
    {
     "data": {
      "text/plain": [
       "<__main__.Dog at 0x1bb3b1be198>"
      ]
     },
     "execution_count": 42,
     "metadata": {},
     "output_type": "execute_result"
    }
   ],
   "source": [
    "barbos"
   ]
  },
  {
   "cell_type": "markdown",
   "metadata": {
    "id": "thAin8JVqPVw"
   },
   "source": [
    "## Basic provisions\n",
    "\n",
    "- **abstraction** - representation in the form of an abstract scheme (class)\n",
    "- **encapsulation** - creation of different levels of access within the class (all attributes accessible or hidden) (this is the next level)\n",
    "- **inheritance** - create a general scheme, and then refine it (animal is a subclass of cat)\n",
    "- **polymorphism** - use the same interface for different objects (for example, get the length of an object, or make it speak: someone meows while doing this, and someone barks)"
   ]
  },
  {
   "cell_type": "code",
   "execution_count": null,
   "metadata": {},
   "outputs": [],
   "source": []
  }
 ],
 "metadata": {
  "colab": {
   "provenance": []
  },
  "kernelspec": {
   "display_name": "Python 3 (ipykernel)",
   "language": "python",
   "name": "python3"
  },
  "language_info": {
   "codemirror_mode": {
    "name": "ipython",
    "version": 3
   },
   "file_extension": ".py",
   "mimetype": "text/x-python",
   "name": "python",
   "nbconvert_exporter": "python",
   "pygments_lexer": "ipython3",
   "version": "3.7.3"
  }
 },
 "nbformat": 4,
 "nbformat_minor": 1
}
