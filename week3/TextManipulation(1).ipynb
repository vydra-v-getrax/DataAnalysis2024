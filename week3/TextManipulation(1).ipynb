{
 "cells": [
  {
   "cell_type": "markdown",
   "metadata": {},
   "source": [
    "## Manipulating text"
   ]
  },
  {
   "cell_type": "markdown",
   "metadata": {},
   "source": [
    "The simplest function for manipulating text is `sub()` in the `re` module. This\n",
    "function converts one string into another by pattern matching: whatever part of the string matches the specified pattern is replaced with the specified replacement.\n",
    "The function takes those three arguments plus two more: a pattern, a replacement,\n",
    "the string, and the maximum number of replacements `count` plus additional flags\n",
    "`flags`. Here is a simple example:"
   ]
  },
  {
   "cell_type": "code",
   "execution_count": 3,
   "metadata": {},
   "outputs": [
    {
     "name": "stdout",
     "output_type": "stream",
     "text": [
      "This is a rather long string \n",
      " ThWOW WOW a rather longWOWtring\n"
     ]
    }
   ],
   "source": [
    "import re\n",
    "#define a string\n",
    "s1 = 'This is a rather long string'\n",
    "#replace ’.s’ with ’WOW’\n",
    "s2 = re.sub('.s','WOW',s1)\n",
    "#print old and new strings\n",
    "print(s1,'\\n',s2)"
   ]
  },
  {
   "cell_type": "markdown",
   "metadata": {},
   "source": [
    "We can see the `count` variable at work in the next example:"
   ]
  },
  {
   "cell_type": "code",
   "execution_count": 4,
   "metadata": {},
   "outputs": [
    {
     "name": "stdout",
     "output_type": "stream",
     "text": [
      "This is a rather long string\n",
      "\t 1 : ThWOW is a rather long string\n",
      "\t 2 : ThWOW WOW a rather long string\n",
      "\t 3 : ThWOW WOW a rather longWOWtring\n"
     ]
    }
   ],
   "source": [
    "import re\n",
    "#a test string\n",
    "s1 = 'This is a rather long string'\n",
    "#a pattern\n",
    "pat = '.s'\n",
    "#find how many instances of the pattern\n",
    "countmax = len(re.findall(pat,s1))\n",
    "#print the string\n",
    "print(s1)\n",
    "#make that many substitutions 1 by 1\n",
    "i = 1\n",
    "while i < countmax+1:\n",
    "    #make a change\n",
    "    s2 = re.sub(pat,'WOW',s1,count=i)\n",
    "    #print that one change\n",
    "    print('\\t',i,':',s2)\n",
    "    #increment counter\n",
    "    i += 1"
   ]
  },
  {
   "cell_type": "markdown",
   "metadata": {},
   "source": [
    "Here, we identify how many instances of the pattern there are with `findall()` and we then iterate through making different numbers of substitutions. Note that when `count = 0`, we make all the substitutions, rather than none of them."
   ]
  },
  {
   "cell_type": "markdown",
   "metadata": {},
   "source": [
    "Finally, the `flags` argument allows for a number of options. The only one you’re\n",
    "liable to use is case-insensitive matching when `flags=re.I`. Here’s an example:"
   ]
  },
  {
   "cell_type": "code",
   "execution_count": 5,
   "metadata": {},
   "outputs": [
    {
     "name": "stdout",
     "output_type": "stream",
     "text": [
      "This is a rather long string\n",
      "This is a raWOWher long sWOWring\n",
      "WOWhis is a raWOWher long sWOWring\n",
      "WOWhis is a raWOWher long sWOWring\n"
     ]
    }
   ],
   "source": [
    "import re\n",
    "#a test string\n",
    "s1 = 'This is a rather long string'\n",
    "#do a replacement\n",
    "s2 = re.sub('t','WOW',s1)\n",
    "#do a case-insensitive replacement\n",
    "s3 = re.sub('t','WOW',s1,flags=re.I)\n",
    "#incorporate case directly in the pattern\n",
    "s4 = re.sub('t|T','WOW',s1)\n",
    "#show all three results\n",
    "print(s1,'\\n',s2,'\\n',s3,'\\n',s4,sep='')"
   ]
  },
  {
   "cell_type": "markdown",
   "metadata": {},
   "source": [
    "Notice here how the effect of case-insensitive matching can be achieved by adjusting\n",
    "the pattern instead."
   ]
  },
  {
   "cell_type": "markdown",
   "metadata": {},
   "source": [
    "If your substitutions are all converting single letters to other single letters you can\n",
    "make use of the efficient `translate()` string method. You first make use of the\n",
    "`str.maketrans()` method to make a *translation table*; you then use that table to\n",
    "make the translation. Here’s an example:"
   ]
  },
  {
   "cell_type": "code",
   "execution_count": 6,
   "metadata": {},
   "outputs": [
    {
     "name": "stdout",
     "output_type": "stream",
     "text": [
      "This is my sample string\n",
      "Thps ps my shmpla strpng\n"
     ]
    }
   ],
   "source": [
    "#make a translation table\n",
    "mytab = str.maketrans('aeiou','happy')\n",
    "#a test string\n",
    "s = 'This is my sample string'\n",
    "#print that string\n",
    "print(s)\n",
    "#print the translation\n",
    "print(s.translate(mytab))"
   ]
  },
  {
   "cell_type": "markdown",
   "metadata": {},
   "source": [
    "A translation table is implemented as a Python dictionary. Note that the two string\n",
    "arguments to `str.maketrans()` must be the same length."
   ]
  },
  {
   "cell_type": "code",
   "execution_count": 10,
   "metadata": {},
   "outputs": [
    {
     "name": "stdout",
     "output_type": "stream",
     "text": [
      "<class 'dict'>\n"
     ]
    }
   ],
   "source": [
    "print(type(mytab))"
   ]
  },
  {
   "cell_type": "markdown",
   "metadata": {},
   "source": [
    "Another function that is quite useful is `re.split()`. Recall the string method\n",
    "`split()` which splits a string up based on some specific delimiter string. The\n",
    "`re.split()` function allows you to split a string based on a regular expression\n",
    "instead. Here’s an example:"
   ]
  },
  {
   "cell_type": "code",
   "execution_count": 13,
   "metadata": {},
   "outputs": [
    {
     "name": "stdout",
     "output_type": "stream",
     "text": [
      "First sentence. Second sentence.\n",
      "s.split()\n",
      "\t\"First sentenc\"\n",
      "\t\" Second sentenc\"\n",
      "\t\"\"\n",
      "re.split()\n",
      "\t\"First s\"\n",
      "\t\"t\"\n",
      "\t\"c\"\n",
      "\t\" S\"\n",
      "\t\"ond s\"\n",
      "\t\"t\"\n",
      "\t\"c\"\n",
      "\t\"\"\n"
     ]
    }
   ],
   "source": [
    "import re\n",
    "#a test string\n",
    "s = 'First sentence. Second sentence.'\n",
    "#do a regular split\n",
    "ss1 = s.split('e.')\n",
    "#do re.split\n",
    "ss2 = re.split('e.',s)\n",
    "#print the sentence\n",
    "print(s)\n",
    "#print split() results\n",
    "print('s.split()')\n",
    "for ss in ss1:\n",
    "    print('\\t\"',ss,'\"',sep='')\n",
    "#print re.split() results\n",
    "print('re.split()')\n",
    "for ss in ss2:\n",
    "    print('\\t\"',ss,'\"',sep='')"
   ]
  },
  {
   "cell_type": "markdown",
   "metadata": {},
   "source": [
    "Here we invoke the string method `split()` and `re.split()` with the string\n",
    "'e.'. The string method `split()` interprets this literally and splits the string\n",
    "into three strings; `re.split()` interprets this as a regular expression and splits\n",
    "the string into eight strings. Note too that the syntax for these is different. The\n",
    "`re.split()` function takes two arguments where the string to split is the second\n",
    "argument. The `split()` method is instead suffixed to the string it operates on\n",
    "and takes a single argument."
   ]
  },
  {
   "cell_type": "markdown",
   "metadata": {},
   "source": [
    "Finally, we have the string method `join()` which joins a set of strings together\n",
    "with string infix. The syntax is a bit unintuitive. The string it is suffixed to is the\n",
    "infix. It takes a single argument which is a list of strings. Here’s a simple example:"
   ]
  },
  {
   "cell_type": "code",
   "execution_count": 15,
   "metadata": {},
   "outputs": [
    {
     "name": "stdout",
     "output_type": "stream",
     "text": [
      "This is a sentence.\n",
      "This-is-a-sentence.\n"
     ]
    }
   ],
   "source": [
    "#a test sentence\n",
    "s = 'This is a sentence.'\n",
    "#split it into words\n",
    "wds = s.split()\n",
    "#define hyphen\n",
    "hyphen = '-'\n",
    "#join bits with hyphen\n",
    "hyphenated = hyphen.join(wds)\n",
    "#print original sentence\n",
    "print(s)\n",
    "#print hyphenated sentence\n",
    "print(hyphenated)"
   ]
  },
  {
   "cell_type": "code",
   "execution_count": null,
   "metadata": {},
   "outputs": [],
   "source": []
  }
 ],
 "metadata": {
  "kernelspec": {
   "display_name": "Python 3",
   "language": "python",
   "name": "python3"
  },
  "language_info": {
   "codemirror_mode": {
    "name": "ipython",
    "version": 3
   },
   "file_extension": ".py",
   "mimetype": "text/x-python",
   "name": "python",
   "nbconvert_exporter": "python",
   "pygments_lexer": "ipython3",
   "version": "3.6.5"
  }
 },
 "nbformat": 4,
 "nbformat_minor": 2
}
