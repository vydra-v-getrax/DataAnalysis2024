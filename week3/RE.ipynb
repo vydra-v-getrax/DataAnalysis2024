{
 "cells": [
  {
   "cell_type": "markdown",
   "metadata": {},
   "source": [
    "## Regular expressions\n",
    "\n",
    "One of the most important aspects of programming for linguists is pattern matching. You will very often have to assess whether some string matches some pattern, contains some sequence of characters, some number of characters, etc.\n",
    "\n",
    "We’ve already seen that we can do this with what we’ve already learned. For example, if we wanted to know if some string `s` contained the sequence `'ab'`, we could simply write `'ab'` in `s` which would return `True` or `False`. If, on the other hand, we wanted to know if a string contained `'a'` and then `'b'` with material potentially intervening, we would have to do more. We might write a function like this:"
   ]
  },
  {
   "cell_type": "code",
   "execution_count": 1,
   "metadata": {},
   "outputs": [
    {
     "data": {
      "text/plain": [
       "True"
      ]
     },
     "execution_count": 1,
     "metadata": {},
     "output_type": "execute_result"
    }
   ],
   "source": [
    "s = 'hab'\n",
    "'ab' in s"
   ]
  },
  {
   "cell_type": "code",
   "execution_count": 6,
   "metadata": {},
   "outputs": [
    {
     "name": "stdout",
     "output_type": "stream",
     "text": [
      "True\n"
     ]
    }
   ],
   "source": [
    "#a and then b\n",
    "def mymatch(s):\n",
    "  i = 0\n",
    "  #a flag to keep track of\n",
    "  #whether we see an ’a’\n",
    "  aFlag = False\n",
    "  while i < len(s):\n",
    "    if s[i] == 'a':\n",
    "      aFlag = True\n",
    "      break\n",
    "    i += 1\n",
    "  #start looking for ’b’\n",
    "  #where we left off\n",
    "  while i < len(s):\n",
    "    if s[i] == 'b':\n",
    "      #if we find ’b’, return\n",
    "      #True of False depending\n",
    "      #on whether we previously\n",
    "      #saw ’a’\n",
    "      return aFlag\n",
    "    i += 1\n",
    "  #if all that fails, return False\n",
    "  return False\n",
    "\n",
    "print(mymatch('Alice in ab Barcelona'))"
   ]
  },
  {
   "cell_type": "markdown",
   "metadata": {},
   "source": [
    "We can test out how the function `mymatch()` applies to different strings. The logic of the function is that we search the string for the first instance of `'a'` by iterating across the string with the counter `i`. If we find it, we set the value of `aFlag` to `True` and exit the first `while` loop. Then, without resetting `i`, we initiate another `while` loop to look for `'b'`. Not resetting the value of `i` means that the second loop picks up where the first ended. Hence, the `'b'` must follow the (first) `'a'`.\n",
    "\n",
    "This is fine as it goes, but it doesn’t generalize. There are an infinite number of patterns we might want to search for and writing a potentially complex matching function for each one is at best tedious and at worst can lead to programming errors.\n",
    "\n",
    "Many programming languages, Python included, implement a general pattern matching mechanism that is both flexible and efficient: **regular expressions**.\n",
    "\n",
    "#### Matching\n",
    "\n",
    "Matching a string against some pattern is done with the `re` module and most typically with the `search()` function in that module. At its very simplest, we can invoke it like this:"
   ]
  },
  {
   "cell_type": "code",
   "execution_count": 7,
   "metadata": {},
   "outputs": [
    {
     "name": "stdout",
     "output_type": "stream",
     "text": [
      "a match\n"
     ]
    }
   ],
   "source": [
    "import re\n",
    "\n",
    "if re.search('ab','abba tour'):\n",
    "  print('a match')\n",
    "else:\n",
    "  print('no match')"
   ]
  },
  {
   "cell_type": "markdown",
   "metadata": {},
   "source": [
    "Here we import from `re` the pattern matching function `search()`. This function takes two arguments: a pattern and a string. In this case, the pattern `'ab'` matches any string that contains that letter sequence, e.g. 'abc', 'xab', 'ab', 'xabc'.\n",
    "\n",
    "We’ll consider the syntax of patterns in depth in the next section, but let’s consider one slightly more complex pattern here: `'a.*b'`. This matches a string that contains 'a' followed anywhere by a 'b'. You can see this by playing with the following program:"
   ]
  },
  {
   "cell_type": "code",
   "execution_count": 8,
   "metadata": {},
   "outputs": [
    {
     "name": "stdout",
     "output_type": "stream",
     "text": [
      "a match\n"
     ]
    }
   ],
   "source": [
    "import re\n",
    "\n",
    "if re.search('a.*b','Alice went to Barbados'):\n",
    "  print('a match')\n",
    "else:\n",
    "  print('no match')"
   ]
  },
  {
   "cell_type": "markdown",
   "metadata": {},
   "source": [
    "The `search()` function actually does not return `True` or `False`, but rather a *match* object if the string matches or `None` if it does not. The reason why the code in the two programs above works is that in an `if` statement, a match object will evaluate to `True` and a `None` object will evaluate to `False`. The following code shows this clearly."
   ]
  },
  {
   "cell_type": "code",
   "execution_count": 9,
   "metadata": {},
   "outputs": [
    {
     "name": "stdout",
     "output_type": "stream",
     "text": [
      "hat does not match 'a.*b'\n",
      "r is None\n",
      "r != False\n",
      "r == None\n",
      "nab matches 'a.*b'\n",
      "r is a match object\n",
      "r != False\n",
      "r != None\n"
     ]
    }
   ],
   "source": [
    "import re\n",
    "\n",
    "#do two matches\n",
    "res1 = re.search('a.*b','hat')\n",
    "res2 = re.search('a.*b','nab')\n",
    "#evaluate results of both matches\n",
    "for s,r in [('hat',res1),('nab',res2)]:\n",
    "    #simple if test\n",
    "    if r:\n",
    "        print(s,\"matches 'a.*b'\")\n",
    "        print(\"r is a match object\")\n",
    "    else:\n",
    "        print(s,\"does not match 'a.*b'\")\n",
    "        print(\"r is None\")\n",
    "    #does the match simply false?\n",
    "    if r == False:\n",
    "        print('r == False')\n",
    "    else:\n",
    "        print('r != False')\n",
    "    #is the match a None object?\n",
    "    if r == None:\n",
    "        print('r == None')\n",
    "    else:\n",
    "        print('r != None')"
   ]
  },
  {
   "cell_type": "markdown",
   "metadata": {},
   "source": [
    "Here we explicitly save the output of `search()` and compare it against `False` and against `None`.\n",
    "\n",
    "The interest of this distinction is that a match object does more for us than evaluate to `True`. It is an object with several methods we can make use of: `group()`, `start()`, `end()`, and `span()`.\n",
    "\n",
    "The `group()` method simply returns the matched part of the string. In the case of a pattern like `'a'`, this will simply return 'a' in the case of a match. In the case of a more interesting pattern like `'a.*b'`, the `group()` method returns the entire string from 'a' to 'b'. The following code exemplifies:"
   ]
  },
  {
   "cell_type": "code",
   "execution_count": 10,
   "metadata": {},
   "outputs": [
    {
     "name": "stdout",
     "output_type": "stream",
     "text": [
      "match: ’abb’\n"
     ]
    }
   ],
   "source": [
    "import re\n",
    "\n",
    "#do a match\n",
    "res = re.search('a.*b','abba')\n",
    "#if the match succeeds...\n",
    "if res:\n",
    "    #print out what is matching\n",
    "    print(\"match: ’\",res.group(),\"’\",sep='')\n",
    "else:\n",
    "    print('no match')"
   ]
  },
  {
   "cell_type": "markdown",
   "metadata": {},
   "source": [
    "If you try this with different command-line arguments, you’ll see that the `group()` method returns the entire string from 'a' to 'b'.\n",
    "\n",
    "The `start()`, `end()`, and `span()` methods return the starting and ending indices of the matched portion. The `span()` method returns both. The following code exemplifies:"
   ]
  },
  {
   "cell_type": "code",
   "execution_count": 11,
   "metadata": {},
   "outputs": [
    {
     "name": "stdout",
     "output_type": "stream",
     "text": [
      "match: ’abb’\n",
      "starting index: 0\n",
      "ending index: 3\n",
      "both indices: (0, 3)\n"
     ]
    }
   ],
   "source": [
    "import re\n",
    "\n",
    "#do a match\n",
    "res = re.search('a.*b','abba')\n",
    "#if the match succeeds...\n",
    "if res:\n",
    "    #print out what is matching\n",
    "    print(\"match: ’\",res.group(),\"’\",sep='')\n",
    "    print('starting index:',res.start())\n",
    "    print('ending index:',res.end())\n",
    "    print('both indices:',res.span())\n",
    "else:\n",
    "    print('no match')"
   ]
  },
  {
   "cell_type": "markdown",
   "metadata": {},
   "source": [
    "Notice that, as with expressions with `:`, the ending index is the index of the character after the final character of the pattern.\n",
    "\n",
    "These methods allow us to see some other aspects of the code. First, the match begins at the earliest possible point in the string. In the case at hand, if there are multiple instances of 'a', the match begins with the first one. Second, the match is as greedy as possible. If there are multiple instances of 'b', the match uses the rightmost one.\n",
    "\n",
    "Another useful general matching function is `findall()`. What this does is return all instances of the match in a string. For example, if you match 'a' against 'abracadabra', this will return `['a','a','a','a','a']`. The following code exemplifies:"
   ]
  },
  {
   "cell_type": "code",
   "execution_count": 14,
   "metadata": {},
   "outputs": [
    {
     "name": "stdout",
     "output_type": "stream",
     "text": [
      "match: ['a']\n"
     ]
    }
   ],
   "source": [
    "import re\n",
    "\n",
    "#find all matches\n",
    "res = re.findall('a','hat')\n",
    "#if it succeeds, if there is at least 1\n",
    "if res:\n",
    "    #print the list\n",
    "    print('match:',res)\n",
    "else:\n",
    "    #print the empty list\n",
    "    print('no match:',res)"
   ]
  },
  {
   "cell_type": "markdown",
   "metadata": {},
   "source": [
    "Note that in the event of no match, `findall()` returns an empty list rather than `None`."
   ]
  }
 ],
 "metadata": {
  "kernelspec": {
   "display_name": "Python 3",
   "language": "python",
   "name": "python3"
  },
  "language_info": {
   "codemirror_mode": {
    "name": "ipython",
    "version": 3
   },
   "file_extension": ".py",
   "mimetype": "text/x-python",
   "name": "python",
   "nbconvert_exporter": "python",
   "pygments_lexer": "ipython3",
   "version": "3.6.5"
  }
 },
 "nbformat": 4,
 "nbformat_minor": 2
}
